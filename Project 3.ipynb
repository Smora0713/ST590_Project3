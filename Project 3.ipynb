{
 "cells": [
  {
   "cell_type": "markdown",
   "id": "a62d2fd0-a1c3-4472-a3c3-d5080193d722",
   "metadata": {},
   "source": [
    "# ST590 Project 3\n",
    "## Jovanni Catalan & Sergio Mora"
   ]
  },
  {
   "cell_type": "code",
   "execution_count": 1,
   "id": "9d9f364a-56e7-4bff-824a-4fbb7e319e3f",
   "metadata": {},
   "outputs": [
    {
     "name": "stderr",
     "output_type": "stream",
     "text": [
      "WARNING:root:'PYARROW_IGNORE_TIMEZONE' environment variable was not set. It is required to set this environment variable to '1' in both driver and executor sides if you use pyarrow>=2.0.0. pandas-on-Spark will set it for you but it does not work if there is a Spark context already launched.\n"
     ]
    }
   ],
   "source": [
    "import os\n",
    "import sys\n",
    "os.environ['PYSPARK_PYTHON'] = sys.executable\n",
    "os.environ['PYSPARK_DRIVER_PYTHON'] = sys.executable\n",
    "\n",
    "import pandas as pd\n",
    "import numpy as np\n",
    "import pyspark.pandas as ps\n",
    "import pyspark\n",
    "from pyspark.sql import SparkSession"
   ]
  },
  {
   "cell_type": "code",
   "execution_count": 148,
   "id": "921f4ab7-c95e-475d-ac23-42a0bba7a074",
   "metadata": {},
   "outputs": [],
   "source": [
    "import statistics as st\n",
    "import matplotlib as mt\n",
    "import matplotlib.pyplot as plt\n",
    "import sqlite3 \n",
    "import matplotlib.pyplot as plot\n",
    "import plotly.graph_objects as go\n",
    "import plotly.express as px\n",
    "from pandasql import sqldf\n",
    "from sklearn import metrics"
   ]
  },
  {
   "cell_type": "code",
   "execution_count": 3,
   "id": "b0533237-684a-407d-866b-55e2e16e9368",
   "metadata": {},
   "outputs": [],
   "source": [
    "# Reading in the sqlite data\n",
    "cnx = sqlite3.connect(':memory:')"
   ]
  },
  {
   "cell_type": "markdown",
   "id": "86b35f54-0fba-4a50-8fe2-71ee2551614e",
   "metadata": {},
   "source": [
    "### Introduction\n",
    "You should discuss the goals of the notebook, introduce your data set, and give the source for your data set"
   ]
  },
  {
   "cell_type": "markdown",
   "id": "ef22d18f-e468-47d6-80d7-c0bf0a7af624",
   "metadata": {},
   "source": [
    "The goal of this notebook is to have a clear understanding of obesity rates in Mexico, Peru, and Colombia based on multiple metrics collected. This data comes to us from [UCI Machine Learning Repository](https://archive.ics.uci.edu/ml/datasets/Estimation+of+obesity+levels+based+on+eating+habits+and+physical+condition+) which gathered this data from [Dataset for estimation of obesity levels based on eating habits and physical condition in individuals from Colombia, Peru and Mexico](https://www.sciencedirect.com/science/article/pii/S2352340919306985?via%3Dihub). "
   ]
  },
  {
   "cell_type": "markdown",
   "id": "09bef5d8-bf54-44e0-b9ea-94544be8ad2f",
   "metadata": {},
   "source": [
    "The data set has 17 columns and 2,111 observations. The columns are:\n",
    "\n",
    "Gender: Patients gender {object}  \n",
    "  -  female  \n",
    "  -  male \n",
    "\n",
    "Age: Patients age {float}\n",
    "\n",
    "Height: Patients height {float}\n",
    "\n",
    "Weight: Patients weight {float}\n",
    "\n",
    "family_history_with_overweight: If the patients has a family history of overweight people {object}\n",
    "  - Yes  \n",
    "  - No\n",
    "  \n",
    "FAVC: Frequent Consumption of High Caloric Food {objects}  \n",
    "  - Yes\n",
    "  - No\n",
    "  \n",
    "FCVC: Frequent Consumption of Vegetables {float} <font color='red'>This is different from the article need review</font> \n",
    "  - 1 through 3 meaning \n",
    "    - never  \n",
    "    - sometimes  \n",
    "    - always  \n",
    "\n",
    "NCP: Number of Main Meals (how many meals the patient has daily) {float}  <font color='red'>This is different from the article need review</font> \n",
    "  - 1 through 3 meaning \n",
    "    - Between 1 and 2  \n",
    "    - Three   \n",
    "    - More than three  \n",
    "\n",
    "CAEC: Consumption of food between meals {object}  \n",
    "  - No  \n",
    "  - Sometimes  \n",
    "  - Frequently  \n",
    "  - Always  \n",
    "\n",
    "SMOKE: Does the patient smoke {object}\n",
    "  - Yes  \n",
    "  - No  \n",
    "\n",
    "CH20: Consumption of water in liters {float} <font color='red'>This is different from the article need review</font> \n",
    "\n",
    "SCC: Does the patient monitor the calories they consume {object}\n",
    "  - Yes  \n",
    "  - No\n",
    "\n",
    "FAF: How often does the patient have physical activity {float} <font color='red'>This is different from the article need review, There is also some overlap</font> \n",
    "  - 0 through 3 meaning \n",
    "    - I do not\n",
    "    - 1 or 2 days\n",
    "    - 2 or 4 days\n",
    "    - 4 or 5 days\n",
    "\n",
    "\n",
    "TUE: How often does the patient utilize technological devices {float} (e.g. phone, video games, TV's, computers, etc.) {float} <font color='red'>This is different from the article need review</font> \n",
    "  - 1 through 3 meaning \n",
    "    - 0-2 hours\n",
    "    - 3-5 hours\n",
    "    - More than 5 hours  \n",
    "\n",
    "CALC: consumption of alcohol, how often does the patient drink alcohol {object}\n",
    "  - No (the patient does not drink alcohol)  \n",
    "  - Sometimes  \n",
    "  - Frequently  \n",
    "  - Always  \n",
    "\n",
    "MTRANS: What type of transportation does the patient normally use {object}\n",
    "  - Automobile  \n",
    "  - Motorbike  \n",
    "  - Bike  \n",
    "  - Public Transportation  \n",
    "  - Walking  \n",
    "\n",
    "NObeyesdad: Patients weight status {object}\n",
    "  \n",
    "  - Insufficient Weight  \n",
    "  - Normal Weight  \n",
    "  - Obesity Type I  \n",
    "  - Obesity Type II  \n",
    "  - Obesity Type III \n",
    "  - Overweight Level I\n",
    "  - Overweight Level II \n",
    "  \n",
    "Obesity levels defined as:   \n",
    "\n",
    "\n",
    "<img src=\"WHO BMI.PNG\" width=400 height=400 />\n"
   ]
  },
  {
   "cell_type": "code",
   "execution_count": 4,
   "id": "04ae7924-8855-4895-b678-a3ebb8706eec",
   "metadata": {},
   "outputs": [],
   "source": [
    "Obesity_data = pd.read_csv(\"ObesityDataSet_raw_and_data_sinthetic.csv\")\n",
    "Obesity_data.to_sql(name='Obesity_data', con=cnx, index = False)"
   ]
  },
  {
   "cell_type": "code",
   "execution_count": 23,
   "id": "9690c313-6298-4679-9550-542357cfbfc2",
   "metadata": {},
   "outputs": [
    {
     "data": {
      "text/html": [
       "<div>\n",
       "<style scoped>\n",
       "    .dataframe tbody tr th:only-of-type {\n",
       "        vertical-align: middle;\n",
       "    }\n",
       "\n",
       "    .dataframe tbody tr th {\n",
       "        vertical-align: top;\n",
       "    }\n",
       "\n",
       "    .dataframe thead th {\n",
       "        text-align: right;\n",
       "    }\n",
       "</style>\n",
       "<table border=\"1\" class=\"dataframe\">\n",
       "  <thead>\n",
       "    <tr style=\"text-align: right;\">\n",
       "      <th></th>\n",
       "      <th>Gender</th>\n",
       "      <th>Age</th>\n",
       "      <th>Height</th>\n",
       "      <th>Weight</th>\n",
       "      <th>family_history_with_overweight</th>\n",
       "      <th>FAVC</th>\n",
       "      <th>FCVC</th>\n",
       "      <th>NCP</th>\n",
       "      <th>CAEC</th>\n",
       "      <th>SMOKE</th>\n",
       "      <th>CH2O</th>\n",
       "      <th>SCC</th>\n",
       "      <th>FAF</th>\n",
       "      <th>TUE</th>\n",
       "      <th>CALC</th>\n",
       "      <th>MTRANS</th>\n",
       "      <th>NObeyesdad</th>\n",
       "    </tr>\n",
       "  </thead>\n",
       "  <tbody>\n",
       "    <tr>\n",
       "      <th>0</th>\n",
       "      <td>Female</td>\n",
       "      <td>21.0</td>\n",
       "      <td>1.62</td>\n",
       "      <td>64.0</td>\n",
       "      <td>yes</td>\n",
       "      <td>no</td>\n",
       "      <td>2.0</td>\n",
       "      <td>3.0</td>\n",
       "      <td>Sometimes</td>\n",
       "      <td>no</td>\n",
       "      <td>2.0</td>\n",
       "      <td>no</td>\n",
       "      <td>0.0</td>\n",
       "      <td>1.0</td>\n",
       "      <td>no</td>\n",
       "      <td>Public_Transportation</td>\n",
       "      <td>Normal_Weight</td>\n",
       "    </tr>\n",
       "    <tr>\n",
       "      <th>1</th>\n",
       "      <td>Female</td>\n",
       "      <td>21.0</td>\n",
       "      <td>1.52</td>\n",
       "      <td>56.0</td>\n",
       "      <td>yes</td>\n",
       "      <td>no</td>\n",
       "      <td>3.0</td>\n",
       "      <td>3.0</td>\n",
       "      <td>Sometimes</td>\n",
       "      <td>yes</td>\n",
       "      <td>3.0</td>\n",
       "      <td>yes</td>\n",
       "      <td>3.0</td>\n",
       "      <td>0.0</td>\n",
       "      <td>Sometimes</td>\n",
       "      <td>Public_Transportation</td>\n",
       "      <td>Normal_Weight</td>\n",
       "    </tr>\n",
       "    <tr>\n",
       "      <th>2</th>\n",
       "      <td>Male</td>\n",
       "      <td>23.0</td>\n",
       "      <td>1.80</td>\n",
       "      <td>77.0</td>\n",
       "      <td>yes</td>\n",
       "      <td>no</td>\n",
       "      <td>2.0</td>\n",
       "      <td>3.0</td>\n",
       "      <td>Sometimes</td>\n",
       "      <td>no</td>\n",
       "      <td>2.0</td>\n",
       "      <td>no</td>\n",
       "      <td>2.0</td>\n",
       "      <td>1.0</td>\n",
       "      <td>Frequently</td>\n",
       "      <td>Public_Transportation</td>\n",
       "      <td>Normal_Weight</td>\n",
       "    </tr>\n",
       "    <tr>\n",
       "      <th>3</th>\n",
       "      <td>Male</td>\n",
       "      <td>27.0</td>\n",
       "      <td>1.80</td>\n",
       "      <td>87.0</td>\n",
       "      <td>no</td>\n",
       "      <td>no</td>\n",
       "      <td>3.0</td>\n",
       "      <td>3.0</td>\n",
       "      <td>Sometimes</td>\n",
       "      <td>no</td>\n",
       "      <td>2.0</td>\n",
       "      <td>no</td>\n",
       "      <td>2.0</td>\n",
       "      <td>0.0</td>\n",
       "      <td>Frequently</td>\n",
       "      <td>Walking</td>\n",
       "      <td>Overweight_Level_I</td>\n",
       "    </tr>\n",
       "    <tr>\n",
       "      <th>4</th>\n",
       "      <td>Male</td>\n",
       "      <td>22.0</td>\n",
       "      <td>1.78</td>\n",
       "      <td>89.8</td>\n",
       "      <td>no</td>\n",
       "      <td>no</td>\n",
       "      <td>2.0</td>\n",
       "      <td>1.0</td>\n",
       "      <td>Sometimes</td>\n",
       "      <td>no</td>\n",
       "      <td>2.0</td>\n",
       "      <td>no</td>\n",
       "      <td>0.0</td>\n",
       "      <td>0.0</td>\n",
       "      <td>Sometimes</td>\n",
       "      <td>Public_Transportation</td>\n",
       "      <td>Overweight_Level_II</td>\n",
       "    </tr>\n",
       "  </tbody>\n",
       "</table>\n",
       "</div>"
      ],
      "text/plain": [
       "   Gender   Age  Height  Weight family_history_with_overweight FAVC  FCVC  \\\n",
       "0  Female  21.0    1.62    64.0                            yes   no   2.0   \n",
       "1  Female  21.0    1.52    56.0                            yes   no   3.0   \n",
       "2    Male  23.0    1.80    77.0                            yes   no   2.0   \n",
       "3    Male  27.0    1.80    87.0                             no   no   3.0   \n",
       "4    Male  22.0    1.78    89.8                             no   no   2.0   \n",
       "\n",
       "   NCP       CAEC SMOKE  CH2O  SCC  FAF  TUE        CALC  \\\n",
       "0  3.0  Sometimes    no   2.0   no  0.0  1.0          no   \n",
       "1  3.0  Sometimes   yes   3.0  yes  3.0  0.0   Sometimes   \n",
       "2  3.0  Sometimes    no   2.0   no  2.0  1.0  Frequently   \n",
       "3  3.0  Sometimes    no   2.0   no  2.0  0.0  Frequently   \n",
       "4  1.0  Sometimes    no   2.0   no  0.0  0.0   Sometimes   \n",
       "\n",
       "                  MTRANS           NObeyesdad  \n",
       "0  Public_Transportation        Normal_Weight  \n",
       "1  Public_Transportation        Normal_Weight  \n",
       "2  Public_Transportation        Normal_Weight  \n",
       "3                Walking   Overweight_Level_I  \n",
       "4  Public_Transportation  Overweight_Level_II  "
      ]
     },
     "execution_count": 23,
     "metadata": {},
     "output_type": "execute_result"
    }
   ],
   "source": [
    "# Doing an initial data pull to understand the data\n",
    "sample_data = pd.read_sql(\"\"\"\n",
    " SELECT * \n",
    " FROM Obesity_data limit 5\n",
    "\"\"\",cnx)\n",
    "sample_data\n"
   ]
  },
  {
   "cell_type": "markdown",
   "id": "5fc301d8-c5e9-4a41-9270-592099cea55d",
   "metadata": {},
   "source": [
    "### Supervised Learning Idea and Data Split\n",
    "\n",
    "Give a discussion as to why we want to what we are generally trying to do with supervised learning where prediction is our goal. Discuss why we want to split our data into a training and test set.\n",
    "\n",
    "\n",
    "You should also split the data into a training and test set"
   ]
  },
  {
   "cell_type": "code",
   "execution_count": null,
   "id": "f0376271-b071-492f-8182-57bff46239bf",
   "metadata": {},
   "outputs": [],
   "source": []
  },
  {
   "cell_type": "code",
   "execution_count": null,
   "id": "10bfbb32-7e1f-4425-9438-0966dc95774c",
   "metadata": {},
   "outputs": [],
   "source": []
  },
  {
   "cell_type": "code",
   "execution_count": null,
   "id": "331024f9-88b1-4e67-a9ee-ece6d5378972",
   "metadata": {},
   "outputs": [],
   "source": []
  },
  {
   "cell_type": "markdown",
   "id": "32defb04-7fd6-4322-8914-cfd34496cf15",
   "metadata": {},
   "source": [
    "### EDA \n",
    "\n",
    "You should have a narrative that goes through what you are trying to accomplish in the EDA, why you are looking at a particular graph or statistic, and how you interpret what you’ve made. The EDA should be done on the training data only. You should use pandas-on-spark or spark SQL data frames (but matplotlib is fine)\n",
    "\n",
    "Part of the final’s purpose is to see if you can judge what should and shouldn’t be included in an EDA."
   ]
  },
  {
   "cell_type": "markdown",
   "id": "2555ea03-5954-46b4-9187-439f7a1c7150",
   "metadata": {},
   "source": [
    "#### Gender\n",
    "\n",
    "No real assumption is made here prior to observing the data as we have no reason to believe that either gender would be more likely to face obesity than the other."
   ]
  },
  {
   "cell_type": "code",
   "execution_count": 22,
   "id": "0dba200e-ef09-4d22-8824-f0d5dffd6df6",
   "metadata": {},
   "outputs": [
    {
     "data": {
      "text/html": [
       "<div>\n",
       "<style scoped>\n",
       "    .dataframe tbody tr th:only-of-type {\n",
       "        vertical-align: middle;\n",
       "    }\n",
       "\n",
       "    .dataframe tbody tr th {\n",
       "        vertical-align: top;\n",
       "    }\n",
       "\n",
       "    .dataframe thead th {\n",
       "        text-align: right;\n",
       "    }\n",
       "</style>\n",
       "<table border=\"1\" class=\"dataframe\">\n",
       "  <thead>\n",
       "    <tr style=\"text-align: right;\">\n",
       "      <th></th>\n",
       "      <th>NObeyesdad</th>\n",
       "      <th>Gender</th>\n",
       "      <th>counts</th>\n",
       "    </tr>\n",
       "  </thead>\n",
       "  <tbody>\n",
       "    <tr>\n",
       "      <th>0</th>\n",
       "      <td>Insufficient_Weight</td>\n",
       "      <td>Female</td>\n",
       "      <td>173</td>\n",
       "    </tr>\n",
       "    <tr>\n",
       "      <th>1</th>\n",
       "      <td>Insufficient_Weight</td>\n",
       "      <td>Male</td>\n",
       "      <td>99</td>\n",
       "    </tr>\n",
       "    <tr>\n",
       "      <th>2</th>\n",
       "      <td>Normal_Weight</td>\n",
       "      <td>Female</td>\n",
       "      <td>141</td>\n",
       "    </tr>\n",
       "    <tr>\n",
       "      <th>3</th>\n",
       "      <td>Normal_Weight</td>\n",
       "      <td>Male</td>\n",
       "      <td>146</td>\n",
       "    </tr>\n",
       "    <tr>\n",
       "      <th>4</th>\n",
       "      <td>Obesity_Type_I</td>\n",
       "      <td>Female</td>\n",
       "      <td>156</td>\n",
       "    </tr>\n",
       "    <tr>\n",
       "      <th>5</th>\n",
       "      <td>Obesity_Type_I</td>\n",
       "      <td>Male</td>\n",
       "      <td>195</td>\n",
       "    </tr>\n",
       "    <tr>\n",
       "      <th>6</th>\n",
       "      <td>Obesity_Type_II</td>\n",
       "      <td>Female</td>\n",
       "      <td>2</td>\n",
       "    </tr>\n",
       "    <tr>\n",
       "      <th>7</th>\n",
       "      <td>Obesity_Type_II</td>\n",
       "      <td>Male</td>\n",
       "      <td>295</td>\n",
       "    </tr>\n",
       "    <tr>\n",
       "      <th>8</th>\n",
       "      <td>Obesity_Type_III</td>\n",
       "      <td>Female</td>\n",
       "      <td>323</td>\n",
       "    </tr>\n",
       "    <tr>\n",
       "      <th>9</th>\n",
       "      <td>Obesity_Type_III</td>\n",
       "      <td>Male</td>\n",
       "      <td>1</td>\n",
       "    </tr>\n",
       "    <tr>\n",
       "      <th>10</th>\n",
       "      <td>Overweight_Level_I</td>\n",
       "      <td>Female</td>\n",
       "      <td>145</td>\n",
       "    </tr>\n",
       "    <tr>\n",
       "      <th>11</th>\n",
       "      <td>Overweight_Level_I</td>\n",
       "      <td>Male</td>\n",
       "      <td>145</td>\n",
       "    </tr>\n",
       "    <tr>\n",
       "      <th>12</th>\n",
       "      <td>Overweight_Level_II</td>\n",
       "      <td>Female</td>\n",
       "      <td>103</td>\n",
       "    </tr>\n",
       "    <tr>\n",
       "      <th>13</th>\n",
       "      <td>Overweight_Level_II</td>\n",
       "      <td>Male</td>\n",
       "      <td>187</td>\n",
       "    </tr>\n",
       "  </tbody>\n",
       "</table>\n",
       "</div>"
      ],
      "text/plain": [
       "             NObeyesdad  Gender  counts\n",
       "0   Insufficient_Weight  Female     173\n",
       "1   Insufficient_Weight    Male      99\n",
       "2         Normal_Weight  Female     141\n",
       "3         Normal_Weight    Male     146\n",
       "4        Obesity_Type_I  Female     156\n",
       "5        Obesity_Type_I    Male     195\n",
       "6       Obesity_Type_II  Female       2\n",
       "7       Obesity_Type_II    Male     295\n",
       "8      Obesity_Type_III  Female     323\n",
       "9      Obesity_Type_III    Male       1\n",
       "10   Overweight_Level_I  Female     145\n",
       "11   Overweight_Level_I    Male     145\n",
       "12  Overweight_Level_II  Female     103\n",
       "13  Overweight_Level_II    Male     187"
      ]
     },
     "execution_count": 22,
     "metadata": {},
     "output_type": "execute_result"
    }
   ],
   "source": [
    "# Understanding how our population is split by gender\n",
    "gender_split = pd.read_sql(\"\"\"\n",
    "select NObeyesdad,\n",
    "gender,\n",
    "count(*) as counts\n",
    "from Obesity_data\n",
    "group by 1,2\n",
    "\"\"\",cnx)\n",
    "gender_split"
   ]
  },
  {
   "cell_type": "markdown",
   "id": "63d766d1-f9d3-4556-92aa-ab0b6fc5c8a7",
   "metadata": {},
   "source": [
    "Although not a huge data set it is still hard to understand our results in this format. The visualization below should help us out."
   ]
  },
  {
   "cell_type": "code",
   "execution_count": 14,
   "id": "00e249c3-350d-4cb0-9267-c867102420bf",
   "metadata": {},
   "outputs": [
    {
     "data": {
      "application/vnd.plotly.v1+json": {
       "config": {
        "plotlyServerURL": "https://plot.ly"
       },
       "data": [
        {
         "domain": {
          "x": [
           0,
           1
          ],
          "y": [
           0,
           1
          ]
         },
         "hovertemplate": "Gender=%{label}<br>counts=%{value}<extra></extra>",
         "labels": [
          "Female",
          "Male",
          "Female",
          "Male",
          "Female",
          "Male",
          "Female",
          "Male",
          "Female",
          "Male",
          "Female",
          "Male",
          "Female",
          "Male"
         ],
         "legendgroup": "",
         "name": "",
         "showlegend": true,
         "type": "pie",
         "values": [
          173,
          99,
          141,
          146,
          156,
          195,
          2,
          295,
          323,
          1,
          145,
          145,
          103,
          187
         ]
        }
       ],
       "layout": {
        "autosize": true,
        "legend": {
         "tracegroupgap": 0
        },
        "margin": {
         "t": 60
        },
        "template": {
         "data": {
          "bar": [
           {
            "error_x": {
             "color": "#2a3f5f"
            },
            "error_y": {
             "color": "#2a3f5f"
            },
            "marker": {
             "line": {
              "color": "#E5ECF6",
              "width": 0.5
             },
             "pattern": {
              "fillmode": "overlay",
              "size": 10,
              "solidity": 0.2
             }
            },
            "type": "bar"
           }
          ],
          "barpolar": [
           {
            "marker": {
             "line": {
              "color": "#E5ECF6",
              "width": 0.5
             },
             "pattern": {
              "fillmode": "overlay",
              "size": 10,
              "solidity": 0.2
             }
            },
            "type": "barpolar"
           }
          ],
          "carpet": [
           {
            "aaxis": {
             "endlinecolor": "#2a3f5f",
             "gridcolor": "white",
             "linecolor": "white",
             "minorgridcolor": "white",
             "startlinecolor": "#2a3f5f"
            },
            "baxis": {
             "endlinecolor": "#2a3f5f",
             "gridcolor": "white",
             "linecolor": "white",
             "minorgridcolor": "white",
             "startlinecolor": "#2a3f5f"
            },
            "type": "carpet"
           }
          ],
          "choropleth": [
           {
            "colorbar": {
             "outlinewidth": 0,
             "ticks": ""
            },
            "type": "choropleth"
           }
          ],
          "contour": [
           {
            "colorbar": {
             "outlinewidth": 0,
             "ticks": ""
            },
            "colorscale": [
             [
              0,
              "#0d0887"
             ],
             [
              0.1111111111111111,
              "#46039f"
             ],
             [
              0.2222222222222222,
              "#7201a8"
             ],
             [
              0.3333333333333333,
              "#9c179e"
             ],
             [
              0.4444444444444444,
              "#bd3786"
             ],
             [
              0.5555555555555556,
              "#d8576b"
             ],
             [
              0.6666666666666666,
              "#ed7953"
             ],
             [
              0.7777777777777778,
              "#fb9f3a"
             ],
             [
              0.8888888888888888,
              "#fdca26"
             ],
             [
              1,
              "#f0f921"
             ]
            ],
            "type": "contour"
           }
          ],
          "contourcarpet": [
           {
            "colorbar": {
             "outlinewidth": 0,
             "ticks": ""
            },
            "type": "contourcarpet"
           }
          ],
          "heatmap": [
           {
            "colorbar": {
             "outlinewidth": 0,
             "ticks": ""
            },
            "colorscale": [
             [
              0,
              "#0d0887"
             ],
             [
              0.1111111111111111,
              "#46039f"
             ],
             [
              0.2222222222222222,
              "#7201a8"
             ],
             [
              0.3333333333333333,
              "#9c179e"
             ],
             [
              0.4444444444444444,
              "#bd3786"
             ],
             [
              0.5555555555555556,
              "#d8576b"
             ],
             [
              0.6666666666666666,
              "#ed7953"
             ],
             [
              0.7777777777777778,
              "#fb9f3a"
             ],
             [
              0.8888888888888888,
              "#fdca26"
             ],
             [
              1,
              "#f0f921"
             ]
            ],
            "type": "heatmap"
           }
          ],
          "heatmapgl": [
           {
            "colorbar": {
             "outlinewidth": 0,
             "ticks": ""
            },
            "colorscale": [
             [
              0,
              "#0d0887"
             ],
             [
              0.1111111111111111,
              "#46039f"
             ],
             [
              0.2222222222222222,
              "#7201a8"
             ],
             [
              0.3333333333333333,
              "#9c179e"
             ],
             [
              0.4444444444444444,
              "#bd3786"
             ],
             [
              0.5555555555555556,
              "#d8576b"
             ],
             [
              0.6666666666666666,
              "#ed7953"
             ],
             [
              0.7777777777777778,
              "#fb9f3a"
             ],
             [
              0.8888888888888888,
              "#fdca26"
             ],
             [
              1,
              "#f0f921"
             ]
            ],
            "type": "heatmapgl"
           }
          ],
          "histogram": [
           {
            "marker": {
             "pattern": {
              "fillmode": "overlay",
              "size": 10,
              "solidity": 0.2
             }
            },
            "type": "histogram"
           }
          ],
          "histogram2d": [
           {
            "colorbar": {
             "outlinewidth": 0,
             "ticks": ""
            },
            "colorscale": [
             [
              0,
              "#0d0887"
             ],
             [
              0.1111111111111111,
              "#46039f"
             ],
             [
              0.2222222222222222,
              "#7201a8"
             ],
             [
              0.3333333333333333,
              "#9c179e"
             ],
             [
              0.4444444444444444,
              "#bd3786"
             ],
             [
              0.5555555555555556,
              "#d8576b"
             ],
             [
              0.6666666666666666,
              "#ed7953"
             ],
             [
              0.7777777777777778,
              "#fb9f3a"
             ],
             [
              0.8888888888888888,
              "#fdca26"
             ],
             [
              1,
              "#f0f921"
             ]
            ],
            "type": "histogram2d"
           }
          ],
          "histogram2dcontour": [
           {
            "colorbar": {
             "outlinewidth": 0,
             "ticks": ""
            },
            "colorscale": [
             [
              0,
              "#0d0887"
             ],
             [
              0.1111111111111111,
              "#46039f"
             ],
             [
              0.2222222222222222,
              "#7201a8"
             ],
             [
              0.3333333333333333,
              "#9c179e"
             ],
             [
              0.4444444444444444,
              "#bd3786"
             ],
             [
              0.5555555555555556,
              "#d8576b"
             ],
             [
              0.6666666666666666,
              "#ed7953"
             ],
             [
              0.7777777777777778,
              "#fb9f3a"
             ],
             [
              0.8888888888888888,
              "#fdca26"
             ],
             [
              1,
              "#f0f921"
             ]
            ],
            "type": "histogram2dcontour"
           }
          ],
          "mesh3d": [
           {
            "colorbar": {
             "outlinewidth": 0,
             "ticks": ""
            },
            "type": "mesh3d"
           }
          ],
          "parcoords": [
           {
            "line": {
             "colorbar": {
              "outlinewidth": 0,
              "ticks": ""
             }
            },
            "type": "parcoords"
           }
          ],
          "pie": [
           {
            "automargin": true,
            "type": "pie"
           }
          ],
          "scatter": [
           {
            "marker": {
             "colorbar": {
              "outlinewidth": 0,
              "ticks": ""
             }
            },
            "type": "scatter"
           }
          ],
          "scatter3d": [
           {
            "line": {
             "colorbar": {
              "outlinewidth": 0,
              "ticks": ""
             }
            },
            "marker": {
             "colorbar": {
              "outlinewidth": 0,
              "ticks": ""
             }
            },
            "type": "scatter3d"
           }
          ],
          "scattercarpet": [
           {
            "marker": {
             "colorbar": {
              "outlinewidth": 0,
              "ticks": ""
             }
            },
            "type": "scattercarpet"
           }
          ],
          "scattergeo": [
           {
            "marker": {
             "colorbar": {
              "outlinewidth": 0,
              "ticks": ""
             }
            },
            "type": "scattergeo"
           }
          ],
          "scattergl": [
           {
            "marker": {
             "colorbar": {
              "outlinewidth": 0,
              "ticks": ""
             }
            },
            "type": "scattergl"
           }
          ],
          "scattermapbox": [
           {
            "marker": {
             "colorbar": {
              "outlinewidth": 0,
              "ticks": ""
             }
            },
            "type": "scattermapbox"
           }
          ],
          "scatterpolar": [
           {
            "marker": {
             "colorbar": {
              "outlinewidth": 0,
              "ticks": ""
             }
            },
            "type": "scatterpolar"
           }
          ],
          "scatterpolargl": [
           {
            "marker": {
             "colorbar": {
              "outlinewidth": 0,
              "ticks": ""
             }
            },
            "type": "scatterpolargl"
           }
          ],
          "scatterternary": [
           {
            "marker": {
             "colorbar": {
              "outlinewidth": 0,
              "ticks": ""
             }
            },
            "type": "scatterternary"
           }
          ],
          "surface": [
           {
            "colorbar": {
             "outlinewidth": 0,
             "ticks": ""
            },
            "colorscale": [
             [
              0,
              "#0d0887"
             ],
             [
              0.1111111111111111,
              "#46039f"
             ],
             [
              0.2222222222222222,
              "#7201a8"
             ],
             [
              0.3333333333333333,
              "#9c179e"
             ],
             [
              0.4444444444444444,
              "#bd3786"
             ],
             [
              0.5555555555555556,
              "#d8576b"
             ],
             [
              0.6666666666666666,
              "#ed7953"
             ],
             [
              0.7777777777777778,
              "#fb9f3a"
             ],
             [
              0.8888888888888888,
              "#fdca26"
             ],
             [
              1,
              "#f0f921"
             ]
            ],
            "type": "surface"
           }
          ],
          "table": [
           {
            "cells": {
             "fill": {
              "color": "#EBF0F8"
             },
             "line": {
              "color": "white"
             }
            },
            "header": {
             "fill": {
              "color": "#C8D4E3"
             },
             "line": {
              "color": "white"
             }
            },
            "type": "table"
           }
          ]
         },
         "layout": {
          "annotationdefaults": {
           "arrowcolor": "#2a3f5f",
           "arrowhead": 0,
           "arrowwidth": 1
          },
          "autotypenumbers": "strict",
          "coloraxis": {
           "colorbar": {
            "outlinewidth": 0,
            "ticks": ""
           }
          },
          "colorscale": {
           "diverging": [
            [
             0,
             "#8e0152"
            ],
            [
             0.1,
             "#c51b7d"
            ],
            [
             0.2,
             "#de77ae"
            ],
            [
             0.3,
             "#f1b6da"
            ],
            [
             0.4,
             "#fde0ef"
            ],
            [
             0.5,
             "#f7f7f7"
            ],
            [
             0.6,
             "#e6f5d0"
            ],
            [
             0.7,
             "#b8e186"
            ],
            [
             0.8,
             "#7fbc41"
            ],
            [
             0.9,
             "#4d9221"
            ],
            [
             1,
             "#276419"
            ]
           ],
           "sequential": [
            [
             0,
             "#0d0887"
            ],
            [
             0.1111111111111111,
             "#46039f"
            ],
            [
             0.2222222222222222,
             "#7201a8"
            ],
            [
             0.3333333333333333,
             "#9c179e"
            ],
            [
             0.4444444444444444,
             "#bd3786"
            ],
            [
             0.5555555555555556,
             "#d8576b"
            ],
            [
             0.6666666666666666,
             "#ed7953"
            ],
            [
             0.7777777777777778,
             "#fb9f3a"
            ],
            [
             0.8888888888888888,
             "#fdca26"
            ],
            [
             1,
             "#f0f921"
            ]
           ],
           "sequentialminus": [
            [
             0,
             "#0d0887"
            ],
            [
             0.1111111111111111,
             "#46039f"
            ],
            [
             0.2222222222222222,
             "#7201a8"
            ],
            [
             0.3333333333333333,
             "#9c179e"
            ],
            [
             0.4444444444444444,
             "#bd3786"
            ],
            [
             0.5555555555555556,
             "#d8576b"
            ],
            [
             0.6666666666666666,
             "#ed7953"
            ],
            [
             0.7777777777777778,
             "#fb9f3a"
            ],
            [
             0.8888888888888888,
             "#fdca26"
            ],
            [
             1,
             "#f0f921"
            ]
           ]
          },
          "colorway": [
           "#636efa",
           "#EF553B",
           "#00cc96",
           "#ab63fa",
           "#FFA15A",
           "#19d3f3",
           "#FF6692",
           "#B6E880",
           "#FF97FF",
           "#FECB52"
          ],
          "font": {
           "color": "#2a3f5f"
          },
          "geo": {
           "bgcolor": "white",
           "lakecolor": "white",
           "landcolor": "#E5ECF6",
           "showlakes": true,
           "showland": true,
           "subunitcolor": "white"
          },
          "hoverlabel": {
           "align": "left"
          },
          "hovermode": "closest",
          "mapbox": {
           "style": "light"
          },
          "paper_bgcolor": "white",
          "plot_bgcolor": "#E5ECF6",
          "polar": {
           "angularaxis": {
            "gridcolor": "white",
            "linecolor": "white",
            "ticks": ""
           },
           "bgcolor": "#E5ECF6",
           "radialaxis": {
            "gridcolor": "white",
            "linecolor": "white",
            "ticks": ""
           }
          },
          "scene": {
           "xaxis": {
            "backgroundcolor": "#E5ECF6",
            "gridcolor": "white",
            "gridwidth": 2,
            "linecolor": "white",
            "showbackground": true,
            "ticks": "",
            "zerolinecolor": "white"
           },
           "yaxis": {
            "backgroundcolor": "#E5ECF6",
            "gridcolor": "white",
            "gridwidth": 2,
            "linecolor": "white",
            "showbackground": true,
            "ticks": "",
            "zerolinecolor": "white"
           },
           "zaxis": {
            "backgroundcolor": "#E5ECF6",
            "gridcolor": "white",
            "gridwidth": 2,
            "linecolor": "white",
            "showbackground": true,
            "ticks": "",
            "zerolinecolor": "white"
           }
          },
          "shapedefaults": {
           "line": {
            "color": "#2a3f5f"
           }
          },
          "ternary": {
           "aaxis": {
            "gridcolor": "white",
            "linecolor": "white",
            "ticks": ""
           },
           "baxis": {
            "gridcolor": "white",
            "linecolor": "white",
            "ticks": ""
           },
           "bgcolor": "#E5ECF6",
           "caxis": {
            "gridcolor": "white",
            "linecolor": "white",
            "ticks": ""
           }
          },
          "title": {
           "x": 0.05
          },
          "xaxis": {
           "automargin": true,
           "gridcolor": "white",
           "linecolor": "white",
           "ticks": "",
           "title": {
            "standoff": 15
           },
           "zerolinecolor": "white",
           "zerolinewidth": 2
          },
          "yaxis": {
           "automargin": true,
           "gridcolor": "white",
           "linecolor": "white",
           "ticks": "",
           "title": {
            "standoff": 15
           },
           "zerolinecolor": "white",
           "zerolinewidth": 2
          }
         }
        }
       }
      },
      "image/png": "[encoded data removed]",
      "text/html": [
       "<div>                            <div id=\"b86dfcf5-0581-4d9d-a25c-67f7a01320d2\" class=\"plotly-graph-div\" style=\"height:525px; width:100%;\"></div>            <script type=\"text/javascript\">                require([\"plotly\"], function(Plotly) {                    window.PLOTLYENV=window.PLOTLYENV || {};                                    if (document.getElementById(\"b86dfcf5-0581-4d9d-a25c-67f7a01320d2\")) {                    Plotly.newPlot(                        \"b86dfcf5-0581-4d9d-a25c-67f7a01320d2\",                        [{\"domain\":{\"x\":[0.0,1.0],\"y\":[0.0,1.0]},\"hovertemplate\":\"Gender=%{label}<br>counts=%{value}<extra></extra>\",\"labels\":[\"Female\",\"Male\",\"Female\",\"Male\",\"Female\",\"Male\",\"Female\",\"Male\",\"Female\",\"Male\",\"Female\",\"Male\",\"Female\",\"Male\"],\"legendgroup\":\"\",\"name\":\"\",\"showlegend\":true,\"values\":[173,99,141,146,156,195,2,295,323,1,145,145,103,187],\"type\":\"pie\"}],                        {\"template\":{\"data\":{\"bar\":[{\"error_x\":{\"color\":\"#2a3f5f\"},\"error_y\":{\"color\":\"#2a3f5f\"},\"marker\":{\"line\":{\"color\":\"#E5ECF6\",\"width\":0.5},\"pattern\":{\"fillmode\":\"overlay\",\"size\":10,\"solidity\":0.2}},\"type\":\"bar\"}],\"barpolar\":[{\"marker\":{\"line\":{\"color\":\"#E5ECF6\",\"width\":0.5},\"pattern\":{\"fillmode\":\"overlay\",\"size\":10,\"solidity\":0.2}},\"type\":\"barpolar\"}],\"carpet\":[{\"aaxis\":{\"endlinecolor\":\"#2a3f5f\",\"gridcolor\":\"white\",\"linecolor\":\"white\",\"minorgridcolor\":\"white\",\"startlinecolor\":\"#2a3f5f\"},\"baxis\":{\"endlinecolor\":\"#2a3f5f\",\"gridcolor\":\"white\",\"linecolor\":\"white\",\"minorgridcolor\":\"white\",\"startlinecolor\":\"#2a3f5f\"},\"type\":\"carpet\"}],\"choropleth\":[{\"colorbar\":{\"outlinewidth\":0,\"ticks\":\"\"},\"type\":\"choropleth\"}],\"contour\":[{\"colorbar\":{\"outlinewidth\":0,\"ticks\":\"\"},\"colorscale\":[[0.0,\"#0d0887\"],[0.1111111111111111,\"#46039f\"],[0.2222222222222222,\"#7201a8\"],[0.3333333333333333,\"#9c179e\"],[0.4444444444444444,\"#bd3786\"],[0.5555555555555556,\"#d8576b\"],[0.6666666666666666,\"#ed7953\"],[0.7777777777777778,\"#fb9f3a\"],[0.8888888888888888,\"#fdca26\"],[1.0,\"#f0f921\"]],\"type\":\"contour\"}],\"contourcarpet\":[{\"colorbar\":{\"outlinewidth\":0,\"ticks\":\"\"},\"type\":\"contourcarpet\"}],\"heatmap\":[{\"colorbar\":{\"outlinewidth\":0,\"ticks\":\"\"},\"colorscale\":[[0.0,\"#0d0887\"],[0.1111111111111111,\"#46039f\"],[0.2222222222222222,\"#7201a8\"],[0.3333333333333333,\"#9c179e\"],[0.4444444444444444,\"#bd3786\"],[0.5555555555555556,\"#d8576b\"],[0.6666666666666666,\"#ed7953\"],[0.7777777777777778,\"#fb9f3a\"],[0.8888888888888888,\"#fdca26\"],[1.0,\"#f0f921\"]],\"type\":\"heatmap\"}],\"heatmapgl\":[{\"colorbar\":{\"outlinewidth\":0,\"ticks\":\"\"},\"colorscale\":[[0.0,\"#0d0887\"],[0.1111111111111111,\"#46039f\"],[0.2222222222222222,\"#7201a8\"],[0.3333333333333333,\"#9c179e\"],[0.4444444444444444,\"#bd3786\"],[0.5555555555555556,\"#d8576b\"],[0.6666666666666666,\"#ed7953\"],[0.7777777777777778,\"#fb9f3a\"],[0.8888888888888888,\"#fdca26\"],[1.0,\"#f0f921\"]],\"type\":\"heatmapgl\"}],\"histogram\":[{\"marker\":{\"pattern\":{\"fillmode\":\"overlay\",\"size\":10,\"solidity\":0.2}},\"type\":\"histogram\"}],\"histogram2d\":[{\"colorbar\":{\"outlinewidth\":0,\"ticks\":\"\"},\"colorscale\":[[0.0,\"#0d0887\"],[0.1111111111111111,\"#46039f\"],[0.2222222222222222,\"#7201a8\"],[0.3333333333333333,\"#9c179e\"],[0.4444444444444444,\"#bd3786\"],[0.5555555555555556,\"#d8576b\"],[0.6666666666666666,\"#ed7953\"],[0.7777777777777778,\"#fb9f3a\"],[0.8888888888888888,\"#fdca26\"],[1.0,\"#f0f921\"]],\"type\":\"histogram2d\"}],\"histogram2dcontour\":[{\"colorbar\":{\"outlinewidth\":0,\"ticks\":\"\"},\"colorscale\":[[0.0,\"#0d0887\"],[0.1111111111111111,\"#46039f\"],[0.2222222222222222,\"#7201a8\"],[0.3333333333333333,\"#9c179e\"],[0.4444444444444444,\"#bd3786\"],[0.5555555555555556,\"#d8576b\"],[0.6666666666666666,\"#ed7953\"],[0.7777777777777778,\"#fb9f3a\"],[0.8888888888888888,\"#fdca26\"],[1.0,\"#f0f921\"]],\"type\":\"histogram2dcontour\"}],\"mesh3d\":[{\"colorbar\":{\"outlinewidth\":0,\"ticks\":\"\"},\"type\":\"mesh3d\"}],\"parcoords\":[{\"line\":{\"colorbar\":{\"outlinewidth\":0,\"ticks\":\"\"}},\"type\":\"parcoords\"}],\"pie\":[{\"automargin\":true,\"type\":\"pie\"}],\"scatter\":[{\"marker\":{\"colorbar\":{\"outlinewidth\":0,\"ticks\":\"\"}},\"type\":\"scatter\"}],\"scatter3d\":[{\"line\":{\"colorbar\":{\"outlinewidth\":0,\"ticks\":\"\"}},\"marker\":{\"colorbar\":{\"outlinewidth\":0,\"ticks\":\"\"}},\"type\":\"scatter3d\"}],\"scattercarpet\":[{\"marker\":{\"colorbar\":{\"outlinewidth\":0,\"ticks\":\"\"}},\"type\":\"scattercarpet\"}],\"scattergeo\":[{\"marker\":{\"colorbar\":{\"outlinewidth\":0,\"ticks\":\"\"}},\"type\":\"scattergeo\"}],\"scattergl\":[{\"marker\":{\"colorbar\":{\"outlinewidth\":0,\"ticks\":\"\"}},\"type\":\"scattergl\"}],\"scattermapbox\":[{\"marker\":{\"colorbar\":{\"outlinewidth\":0,\"ticks\":\"\"}},\"type\":\"scattermapbox\"}],\"scatterpolar\":[{\"marker\":{\"colorbar\":{\"outlinewidth\":0,\"ticks\":\"\"}},\"type\":\"scatterpolar\"}],\"scatterpolargl\":[{\"marker\":{\"colorbar\":{\"outlinewidth\":0,\"ticks\":\"\"}},\"type\":\"scatterpolargl\"}],\"scatterternary\":[{\"marker\":{\"colorbar\":{\"outlinewidth\":0,\"ticks\":\"\"}},\"type\":\"scatterternary\"}],\"surface\":[{\"colorbar\":{\"outlinewidth\":0,\"ticks\":\"\"},\"colorscale\":[[0.0,\"#0d0887\"],[0.1111111111111111,\"#46039f\"],[0.2222222222222222,\"#7201a8\"],[0.3333333333333333,\"#9c179e\"],[0.4444444444444444,\"#bd3786\"],[0.5555555555555556,\"#d8576b\"],[0.6666666666666666,\"#ed7953\"],[0.7777777777777778,\"#fb9f3a\"],[0.8888888888888888,\"#fdca26\"],[1.0,\"#f0f921\"]],\"type\":\"surface\"}],\"table\":[{\"cells\":{\"fill\":{\"color\":\"#EBF0F8\"},\"line\":{\"color\":\"white\"}},\"header\":{\"fill\":{\"color\":\"#C8D4E3\"},\"line\":{\"color\":\"white\"}},\"type\":\"table\"}]},\"layout\":{\"annotationdefaults\":{\"arrowcolor\":\"#2a3f5f\",\"arrowhead\":0,\"arrowwidth\":1},\"autotypenumbers\":\"strict\",\"coloraxis\":{\"colorbar\":{\"outlinewidth\":0,\"ticks\":\"\"}},\"colorscale\":{\"diverging\":[[0,\"#8e0152\"],[0.1,\"#c51b7d\"],[0.2,\"#de77ae\"],[0.3,\"#f1b6da\"],[0.4,\"#fde0ef\"],[0.5,\"#f7f7f7\"],[0.6,\"#e6f5d0\"],[0.7,\"#b8e186\"],[0.8,\"#7fbc41\"],[0.9,\"#4d9221\"],[1,\"#276419\"]],\"sequential\":[[0.0,\"#0d0887\"],[0.1111111111111111,\"#46039f\"],[0.2222222222222222,\"#7201a8\"],[0.3333333333333333,\"#9c179e\"],[0.4444444444444444,\"#bd3786\"],[0.5555555555555556,\"#d8576b\"],[0.6666666666666666,\"#ed7953\"],[0.7777777777777778,\"#fb9f3a\"],[0.8888888888888888,\"#fdca26\"],[1.0,\"#f0f921\"]],\"sequentialminus\":[[0.0,\"#0d0887\"],[0.1111111111111111,\"#46039f\"],[0.2222222222222222,\"#7201a8\"],[0.3333333333333333,\"#9c179e\"],[0.4444444444444444,\"#bd3786\"],[0.5555555555555556,\"#d8576b\"],[0.6666666666666666,\"#ed7953\"],[0.7777777777777778,\"#fb9f3a\"],[0.8888888888888888,\"#fdca26\"],[1.0,\"#f0f921\"]]},\"colorway\":[\"#636efa\",\"#EF553B\",\"#00cc96\",\"#ab63fa\",\"#FFA15A\",\"#19d3f3\",\"#FF6692\",\"#B6E880\",\"#FF97FF\",\"#FECB52\"],\"font\":{\"color\":\"#2a3f5f\"},\"geo\":{\"bgcolor\":\"white\",\"lakecolor\":\"white\",\"landcolor\":\"#E5ECF6\",\"showlakes\":true,\"showland\":true,\"subunitcolor\":\"white\"},\"hoverlabel\":{\"align\":\"left\"},\"hovermode\":\"closest\",\"mapbox\":{\"style\":\"light\"},\"paper_bgcolor\":\"white\",\"plot_bgcolor\":\"#E5ECF6\",\"polar\":{\"angularaxis\":{\"gridcolor\":\"white\",\"linecolor\":\"white\",\"ticks\":\"\"},\"bgcolor\":\"#E5ECF6\",\"radialaxis\":{\"gridcolor\":\"white\",\"linecolor\":\"white\",\"ticks\":\"\"}},\"scene\":{\"xaxis\":{\"backgroundcolor\":\"#E5ECF6\",\"gridcolor\":\"white\",\"gridwidth\":2,\"linecolor\":\"white\",\"showbackground\":true,\"ticks\":\"\",\"zerolinecolor\":\"white\"},\"yaxis\":{\"backgroundcolor\":\"#E5ECF6\",\"gridcolor\":\"white\",\"gridwidth\":2,\"linecolor\":\"white\",\"showbackground\":true,\"ticks\":\"\",\"zerolinecolor\":\"white\"},\"zaxis\":{\"backgroundcolor\":\"#E5ECF6\",\"gridcolor\":\"white\",\"gridwidth\":2,\"linecolor\":\"white\",\"showbackground\":true,\"ticks\":\"\",\"zerolinecolor\":\"white\"}},\"shapedefaults\":{\"line\":{\"color\":\"#2a3f5f\"}},\"ternary\":{\"aaxis\":{\"gridcolor\":\"white\",\"linecolor\":\"white\",\"ticks\":\"\"},\"baxis\":{\"gridcolor\":\"white\",\"linecolor\":\"white\",\"ticks\":\"\"},\"bgcolor\":\"#E5ECF6\",\"caxis\":{\"gridcolor\":\"white\",\"linecolor\":\"white\",\"ticks\":\"\"}},\"title\":{\"x\":0.05},\"xaxis\":{\"automargin\":true,\"gridcolor\":\"white\",\"linecolor\":\"white\",\"ticks\":\"\",\"title\":{\"standoff\":15},\"zerolinecolor\":\"white\",\"zerolinewidth\":2},\"yaxis\":{\"automargin\":true,\"gridcolor\":\"white\",\"linecolor\":\"white\",\"ticks\":\"\",\"title\":{\"standoff\":15},\"zerolinecolor\":\"white\",\"zerolinewidth\":2}}},\"legend\":{\"tracegroupgap\":0},\"margin\":{\"t\":60}},                        {\"responsive\": true}                    ).then(function(){\n",
       "                            \n",
       "var gd = document.getElementById('b86dfcf5-0581-4d9d-a25c-67f7a01320d2');\n",
       "var x = new MutationObserver(function (mutations, observer) {{\n",
       "        var display = window.getComputedStyle(gd).display;\n",
       "        if (!display || display === 'none') {{\n",
       "            console.log([gd, 'removed!']);\n",
       "            Plotly.purge(gd);\n",
       "            observer.disconnect();\n",
       "        }}\n",
       "}});\n",
       "\n",
       "// Listen for the removal of the full notebook cells\n",
       "var notebookContainer = gd.closest('#notebook-container');\n",
       "if (notebookContainer) {{\n",
       "    x.observe(notebookContainer, {childList: true});\n",
       "}}\n",
       "\n",
       "// Listen for the clearing of the current output cell\n",
       "var outputEl = gd.closest('.output');\n",
       "if (outputEl) {{\n",
       "    x.observe(outputEl, {childList: true});\n",
       "}}\n",
       "\n",
       "                        })                };                });            </script>        </div>"
      ]
     },
     "metadata": {},
     "output_type": "display_data"
    }
   ],
   "source": [
    "fig = px.pie(gender_split, values='counts', names='Gender')\n",
    "fig.show()"
   ]
  },
  {
   "cell_type": "markdown",
   "id": "8166b201-b9e2-46b8-8a30-db76ba229092",
   "metadata": {},
   "source": [
    "We see that overall our data is very evenly split when it comes to gender. This shouldn't come as a surprise to us. Further analysis should show if there is a correlation between gender and obesity rate."
   ]
  },
  {
   "cell_type": "code",
   "execution_count": 20,
   "id": "16fba281-134b-463b-96ce-83641712de97",
   "metadata": {},
   "outputs": [
    {
     "data": {
      "application/vnd.plotly.v1+json": {
       "config": {
        "plotlyServerURL": "https://plot.ly"
       },
       "data": [
        {
         "alignmentgroup": "True",
         "hovertemplate": "Gender=Female<br>NObeyesdad=%{x}<br>counts=%{y}<extra></extra>",
         "legendgroup": "Female",
         "marker": {
          "color": "#636efa",
          "pattern": {
           "shape": ""
          }
         },
         "name": "Female",
         "offsetgroup": "Female",
         "orientation": "v",
         "showlegend": true,
         "textposition": "auto",
         "type": "bar",
         "x": [
          "Insufficient_Weight",
          "Normal_Weight",
          "Obesity_Type_I",
          "Obesity_Type_II",
          "Obesity_Type_III",
          "Overweight_Level_I",
          "Overweight_Level_II"
         ],
         "xaxis": "x",
         "y": [
          173,
          141,
          156,
          2,
          323,
          145,
          103
         ],
         "yaxis": "y"
        },
        {
         "alignmentgroup": "True",
         "hovertemplate": "Gender=Male<br>NObeyesdad=%{x}<br>counts=%{y}<extra></extra>",
         "legendgroup": "Male",
         "marker": {
          "color": "#EF553B",
          "pattern": {
           "shape": ""
          }
         },
         "name": "Male",
         "offsetgroup": "Male",
         "orientation": "v",
         "showlegend": true,
         "textposition": "auto",
         "type": "bar",
         "x": [
          "Insufficient_Weight",
          "Normal_Weight",
          "Obesity_Type_I",
          "Obesity_Type_II",
          "Obesity_Type_III",
          "Overweight_Level_I",
          "Overweight_Level_II"
         ],
         "xaxis": "x",
         "y": [
          99,
          146,
          195,
          295,
          1,
          145,
          187
         ],
         "yaxis": "y"
        }
       ],
       "layout": {
        "autosize": true,
        "barmode": "group",
        "legend": {
         "title": {
          "text": "Gender"
         },
         "tracegroupgap": 0
        },
        "margin": {
         "t": 60
        },
        "template": {
         "data": {
          "bar": [
           {
            "error_x": {
             "color": "#2a3f5f"
            },
            "error_y": {
             "color": "#2a3f5f"
            },
            "marker": {
             "line": {
              "color": "#E5ECF6",
              "width": 0.5
             },
             "pattern": {
              "fillmode": "overlay",
              "size": 10,
              "solidity": 0.2
             }
            },
            "type": "bar"
           }
          ],
          "barpolar": [
           {
            "marker": {
             "line": {
              "color": "#E5ECF6",
              "width": 0.5
             },
             "pattern": {
              "fillmode": "overlay",
              "size": 10,
              "solidity": 0.2
             }
            },
            "type": "barpolar"
           }
          ],
          "carpet": [
           {
            "aaxis": {
             "endlinecolor": "#2a3f5f",
             "gridcolor": "white",
             "linecolor": "white",
             "minorgridcolor": "white",
             "startlinecolor": "#2a3f5f"
            },
            "baxis": {
             "endlinecolor": "#2a3f5f",
             "gridcolor": "white",
             "linecolor": "white",
             "minorgridcolor": "white",
             "startlinecolor": "#2a3f5f"
            },
            "type": "carpet"
           }
          ],
          "choropleth": [
           {
            "colorbar": {
             "outlinewidth": 0,
             "ticks": ""
            },
            "type": "choropleth"
           }
          ],
          "contour": [
           {
            "colorbar": {
             "outlinewidth": 0,
             "ticks": ""
            },
            "colorscale": [
             [
              0,
              "#0d0887"
             ],
             [
              0.1111111111111111,
              "#46039f"
             ],
             [
              0.2222222222222222,
              "#7201a8"
             ],
             [
              0.3333333333333333,
              "#9c179e"
             ],
             [
              0.4444444444444444,
              "#bd3786"
             ],
             [
              0.5555555555555556,
              "#d8576b"
             ],
             [
              0.6666666666666666,
              "#ed7953"
             ],
             [
              0.7777777777777778,
              "#fb9f3a"
             ],
             [
              0.8888888888888888,
              "#fdca26"
             ],
             [
              1,
              "#f0f921"
             ]
            ],
            "type": "contour"
           }
          ],
          "contourcarpet": [
           {
            "colorbar": {
             "outlinewidth": 0,
             "ticks": ""
            },
            "type": "contourcarpet"
           }
          ],
          "heatmap": [
           {
            "colorbar": {
             "outlinewidth": 0,
             "ticks": ""
            },
            "colorscale": [
             [
              0,
              "#0d0887"
             ],
             [
              0.1111111111111111,
              "#46039f"
             ],
             [
              0.2222222222222222,
              "#7201a8"
             ],
             [
              0.3333333333333333,
              "#9c179e"
             ],
             [
              0.4444444444444444,
              "#bd3786"
             ],
             [
              0.5555555555555556,
              "#d8576b"
             ],
             [
              0.6666666666666666,
              "#ed7953"
             ],
             [
              0.7777777777777778,
              "#fb9f3a"
             ],
             [
              0.8888888888888888,
              "#fdca26"
             ],
             [
              1,
              "#f0f921"
             ]
            ],
            "type": "heatmap"
           }
          ],
          "heatmapgl": [
           {
            "colorbar": {
             "outlinewidth": 0,
             "ticks": ""
            },
            "colorscale": [
             [
              0,
              "#0d0887"
             ],
             [
              0.1111111111111111,
              "#46039f"
             ],
             [
              0.2222222222222222,
              "#7201a8"
             ],
             [
              0.3333333333333333,
              "#9c179e"
             ],
             [
              0.4444444444444444,
              "#bd3786"
             ],
             [
              0.5555555555555556,
              "#d8576b"
             ],
             [
              0.6666666666666666,
              "#ed7953"
             ],
             [
              0.7777777777777778,
              "#fb9f3a"
             ],
             [
              0.8888888888888888,
              "#fdca26"
             ],
             [
              1,
              "#f0f921"
             ]
            ],
            "type": "heatmapgl"
           }
          ],
          "histogram": [
           {
            "marker": {
             "pattern": {
              "fillmode": "overlay",
              "size": 10,
              "solidity": 0.2
             }
            },
            "type": "histogram"
           }
          ],
          "histogram2d": [
           {
            "colorbar": {
             "outlinewidth": 0,
             "ticks": ""
            },
            "colorscale": [
             [
              0,
              "#0d0887"
             ],
             [
              0.1111111111111111,
              "#46039f"
             ],
             [
              0.2222222222222222,
              "#7201a8"
             ],
             [
              0.3333333333333333,
              "#9c179e"
             ],
             [
              0.4444444444444444,
              "#bd3786"
             ],
             [
              0.5555555555555556,
              "#d8576b"
             ],
             [
              0.6666666666666666,
              "#ed7953"
             ],
             [
              0.7777777777777778,
              "#fb9f3a"
             ],
             [
              0.8888888888888888,
              "#fdca26"
             ],
             [
              1,
              "#f0f921"
             ]
            ],
            "type": "histogram2d"
           }
          ],
          "histogram2dcontour": [
           {
            "colorbar": {
             "outlinewidth": 0,
             "ticks": ""
            },
            "colorscale": [
             [
              0,
              "#0d0887"
             ],
             [
              0.1111111111111111,
              "#46039f"
             ],
             [
              0.2222222222222222,
              "#7201a8"
             ],
             [
              0.3333333333333333,
              "#9c179e"
             ],
             [
              0.4444444444444444,
              "#bd3786"
             ],
             [
              0.5555555555555556,
              "#d8576b"
             ],
             [
              0.6666666666666666,
              "#ed7953"
             ],
             [
              0.7777777777777778,
              "#fb9f3a"
             ],
             [
              0.8888888888888888,
              "#fdca26"
             ],
             [
              1,
              "#f0f921"
             ]
            ],
            "type": "histogram2dcontour"
           }
          ],
          "mesh3d": [
           {
            "colorbar": {
             "outlinewidth": 0,
             "ticks": ""
            },
            "type": "mesh3d"
           }
          ],
          "parcoords": [
           {
            "line": {
             "colorbar": {
              "outlinewidth": 0,
              "ticks": ""
             }
            },
            "type": "parcoords"
           }
          ],
          "pie": [
           {
            "automargin": true,
            "type": "pie"
           }
          ],
          "scatter": [
           {
            "marker": {
             "colorbar": {
              "outlinewidth": 0,
              "ticks": ""
             }
            },
            "type": "scatter"
           }
          ],
          "scatter3d": [
           {
            "line": {
             "colorbar": {
              "outlinewidth": 0,
              "ticks": ""
             }
            },
            "marker": {
             "colorbar": {
              "outlinewidth": 0,
              "ticks": ""
             }
            },
            "type": "scatter3d"
           }
          ],
          "scattercarpet": [
           {
            "marker": {
             "colorbar": {
              "outlinewidth": 0,
              "ticks": ""
             }
            },
            "type": "scattercarpet"
           }
          ],
          "scattergeo": [
           {
            "marker": {
             "colorbar": {
              "outlinewidth": 0,
              "ticks": ""
             }
            },
            "type": "scattergeo"
           }
          ],
          "scattergl": [
           {
            "marker": {
             "colorbar": {
              "outlinewidth": 0,
              "ticks": ""
             }
            },
            "type": "scattergl"
           }
          ],
          "scattermapbox": [
           {
            "marker": {
             "colorbar": {
              "outlinewidth": 0,
              "ticks": ""
             }
            },
            "type": "scattermapbox"
           }
          ],
          "scatterpolar": [
           {
            "marker": {
             "colorbar": {
              "outlinewidth": 0,
              "ticks": ""
             }
            },
            "type": "scatterpolar"
           }
          ],
          "scatterpolargl": [
           {
            "marker": {
             "colorbar": {
              "outlinewidth": 0,
              "ticks": ""
             }
            },
            "type": "scatterpolargl"
           }
          ],
          "scatterternary": [
           {
            "marker": {
             "colorbar": {
              "outlinewidth": 0,
              "ticks": ""
             }
            },
            "type": "scatterternary"
           }
          ],
          "surface": [
           {
            "colorbar": {
             "outlinewidth": 0,
             "ticks": ""
            },
            "colorscale": [
             [
              0,
              "#0d0887"
             ],
             [
              0.1111111111111111,
              "#46039f"
             ],
             [
              0.2222222222222222,
              "#7201a8"
             ],
             [
              0.3333333333333333,
              "#9c179e"
             ],
             [
              0.4444444444444444,
              "#bd3786"
             ],
             [
              0.5555555555555556,
              "#d8576b"
             ],
             [
              0.6666666666666666,
              "#ed7953"
             ],
             [
              0.7777777777777778,
              "#fb9f3a"
             ],
             [
              0.8888888888888888,
              "#fdca26"
             ],
             [
              1,
              "#f0f921"
             ]
            ],
            "type": "surface"
           }
          ],
          "table": [
           {
            "cells": {
             "fill": {
              "color": "#EBF0F8"
             },
             "line": {
              "color": "white"
             }
            },
            "header": {
             "fill": {
              "color": "#C8D4E3"
             },
             "line": {
              "color": "white"
             }
            },
            "type": "table"
           }
          ]
         },
         "layout": {
          "annotationdefaults": {
           "arrowcolor": "#2a3f5f",
           "arrowhead": 0,
           "arrowwidth": 1
          },
          "autotypenumbers": "strict",
          "coloraxis": {
           "colorbar": {
            "outlinewidth": 0,
            "ticks": ""
           }
          },
          "colorscale": {
           "diverging": [
            [
             0,
             "#8e0152"
            ],
            [
             0.1,
             "#c51b7d"
            ],
            [
             0.2,
             "#de77ae"
            ],
            [
             0.3,
             "#f1b6da"
            ],
            [
             0.4,
             "#fde0ef"
            ],
            [
             0.5,
             "#f7f7f7"
            ],
            [
             0.6,
             "#e6f5d0"
            ],
            [
             0.7,
             "#b8e186"
            ],
            [
             0.8,
             "#7fbc41"
            ],
            [
             0.9,
             "#4d9221"
            ],
            [
             1,
             "#276419"
            ]
           ],
           "sequential": [
            [
             0,
             "#0d0887"
            ],
            [
             0.1111111111111111,
             "#46039f"
            ],
            [
             0.2222222222222222,
             "#7201a8"
            ],
            [
             0.3333333333333333,
             "#9c179e"
            ],
            [
             0.4444444444444444,
             "#bd3786"
            ],
            [
             0.5555555555555556,
             "#d8576b"
            ],
            [
             0.6666666666666666,
             "#ed7953"
            ],
            [
             0.7777777777777778,
             "#fb9f3a"
            ],
            [
             0.8888888888888888,
             "#fdca26"
            ],
            [
             1,
             "#f0f921"
            ]
           ],
           "sequentialminus": [
            [
             0,
             "#0d0887"
            ],
            [
             0.1111111111111111,
             "#46039f"
            ],
            [
             0.2222222222222222,
             "#7201a8"
            ],
            [
             0.3333333333333333,
             "#9c179e"
            ],
            [
             0.4444444444444444,
             "#bd3786"
            ],
            [
             0.5555555555555556,
             "#d8576b"
            ],
            [
             0.6666666666666666,
             "#ed7953"
            ],
            [
             0.7777777777777778,
             "#fb9f3a"
            ],
            [
             0.8888888888888888,
             "#fdca26"
            ],
            [
             1,
             "#f0f921"
            ]
           ]
          },
          "colorway": [
           "#636efa",
           "#EF553B",
           "#00cc96",
           "#ab63fa",
           "#FFA15A",
           "#19d3f3",
           "#FF6692",
           "#B6E880",
           "#FF97FF",
           "#FECB52"
          ],
          "font": {
           "color": "#2a3f5f"
          },
          "geo": {
           "bgcolor": "white",
           "lakecolor": "white",
           "landcolor": "#E5ECF6",
           "showlakes": true,
           "showland": true,
           "subunitcolor": "white"
          },
          "hoverlabel": {
           "align": "left"
          },
          "hovermode": "closest",
          "mapbox": {
           "style": "light"
          },
          "paper_bgcolor": "white",
          "plot_bgcolor": "#E5ECF6",
          "polar": {
           "angularaxis": {
            "gridcolor": "white",
            "linecolor": "white",
            "ticks": ""
           },
           "bgcolor": "#E5ECF6",
           "radialaxis": {
            "gridcolor": "white",
            "linecolor": "white",
            "ticks": ""
           }
          },
          "scene": {
           "xaxis": {
            "backgroundcolor": "#E5ECF6",
            "gridcolor": "white",
            "gridwidth": 2,
            "linecolor": "white",
            "showbackground": true,
            "ticks": "",
            "zerolinecolor": "white"
           },
           "yaxis": {
            "backgroundcolor": "#E5ECF6",
            "gridcolor": "white",
            "gridwidth": 2,
            "linecolor": "white",
            "showbackground": true,
            "ticks": "",
            "zerolinecolor": "white"
           },
           "zaxis": {
            "backgroundcolor": "#E5ECF6",
            "gridcolor": "white",
            "gridwidth": 2,
            "linecolor": "white",
            "showbackground": true,
            "ticks": "",
            "zerolinecolor": "white"
           }
          },
          "shapedefaults": {
           "line": {
            "color": "#2a3f5f"
           }
          },
          "ternary": {
           "aaxis": {
            "gridcolor": "white",
            "linecolor": "white",
            "ticks": ""
           },
           "baxis": {
            "gridcolor": "white",
            "linecolor": "white",
            "ticks": ""
           },
           "bgcolor": "#E5ECF6",
           "caxis": {
            "gridcolor": "white",
            "linecolor": "white",
            "ticks": ""
           }
          },
          "title": {
           "x": 0.05
          },
          "xaxis": {
           "automargin": true,
           "gridcolor": "white",
           "linecolor": "white",
           "ticks": "",
           "title": {
            "standoff": 15
           },
           "zerolinecolor": "white",
           "zerolinewidth": 2
          },
          "yaxis": {
           "automargin": true,
           "gridcolor": "white",
           "linecolor": "white",
           "ticks": "",
           "title": {
            "standoff": 15
           },
           "zerolinecolor": "white",
           "zerolinewidth": 2
          }
         }
        },
        "xaxis": {
         "anchor": "y",
         "autorange": true,
         "domain": [
          0,
          1
         ],
         "range": [
          -0.5,
          6.5
         ],
         "title": {
          "text": "NObeyesdad"
         },
         "type": "category"
        },
        "yaxis": {
         "anchor": "x",
         "autorange": true,
         "domain": [
          0,
          1
         ],
         "range": [
          0,
          340
         ],
         "title": {
          "text": "counts"
         },
         "type": "linear"
        }
       }
      },
      "image/png": "[encoded data removed]",
      "text/html": [
       "<div>                            <div id=\"a50acdcc-1ea2-4f0d-84b3-26b749af794b\" class=\"plotly-graph-div\" style=\"height:400px; width:100%;\"></div>            <script type=\"text/javascript\">                require([\"plotly\"], function(Plotly) {                    window.PLOTLYENV=window.PLOTLYENV || {};                                    if (document.getElementById(\"a50acdcc-1ea2-4f0d-84b3-26b749af794b\")) {                    Plotly.newPlot(                        \"a50acdcc-1ea2-4f0d-84b3-26b749af794b\",                        [{\"alignmentgroup\":\"True\",\"hovertemplate\":\"Gender=Female<br>NObeyesdad=%{x}<br>counts=%{y}<extra></extra>\",\"legendgroup\":\"Female\",\"marker\":{\"color\":\"#636efa\",\"pattern\":{\"shape\":\"\"}},\"name\":\"Female\",\"offsetgroup\":\"Female\",\"orientation\":\"v\",\"showlegend\":true,\"textposition\":\"auto\",\"x\":[\"Insufficient_Weight\",\"Normal_Weight\",\"Obesity_Type_I\",\"Obesity_Type_II\",\"Obesity_Type_III\",\"Overweight_Level_I\",\"Overweight_Level_II\"],\"xaxis\":\"x\",\"y\":[173,141,156,2,323,145,103],\"yaxis\":\"y\",\"type\":\"bar\"},{\"alignmentgroup\":\"True\",\"hovertemplate\":\"Gender=Male<br>NObeyesdad=%{x}<br>counts=%{y}<extra></extra>\",\"legendgroup\":\"Male\",\"marker\":{\"color\":\"#EF553B\",\"pattern\":{\"shape\":\"\"}},\"name\":\"Male\",\"offsetgroup\":\"Male\",\"orientation\":\"v\",\"showlegend\":true,\"textposition\":\"auto\",\"x\":[\"Insufficient_Weight\",\"Normal_Weight\",\"Obesity_Type_I\",\"Obesity_Type_II\",\"Obesity_Type_III\",\"Overweight_Level_I\",\"Overweight_Level_II\"],\"xaxis\":\"x\",\"y\":[99,146,195,295,1,145,187],\"yaxis\":\"y\",\"type\":\"bar\"}],                        {\"template\":{\"data\":{\"bar\":[{\"error_x\":{\"color\":\"#2a3f5f\"},\"error_y\":{\"color\":\"#2a3f5f\"},\"marker\":{\"line\":{\"color\":\"#E5ECF6\",\"width\":0.5},\"pattern\":{\"fillmode\":\"overlay\",\"size\":10,\"solidity\":0.2}},\"type\":\"bar\"}],\"barpolar\":[{\"marker\":{\"line\":{\"color\":\"#E5ECF6\",\"width\":0.5},\"pattern\":{\"fillmode\":\"overlay\",\"size\":10,\"solidity\":0.2}},\"type\":\"barpolar\"}],\"carpet\":[{\"aaxis\":{\"endlinecolor\":\"#2a3f5f\",\"gridcolor\":\"white\",\"linecolor\":\"white\",\"minorgridcolor\":\"white\",\"startlinecolor\":\"#2a3f5f\"},\"baxis\":{\"endlinecolor\":\"#2a3f5f\",\"gridcolor\":\"white\",\"linecolor\":\"white\",\"minorgridcolor\":\"white\",\"startlinecolor\":\"#2a3f5f\"},\"type\":\"carpet\"}],\"choropleth\":[{\"colorbar\":{\"outlinewidth\":0,\"ticks\":\"\"},\"type\":\"choropleth\"}],\"contour\":[{\"colorbar\":{\"outlinewidth\":0,\"ticks\":\"\"},\"colorscale\":[[0.0,\"#0d0887\"],[0.1111111111111111,\"#46039f\"],[0.2222222222222222,\"#7201a8\"],[0.3333333333333333,\"#9c179e\"],[0.4444444444444444,\"#bd3786\"],[0.5555555555555556,\"#d8576b\"],[0.6666666666666666,\"#ed7953\"],[0.7777777777777778,\"#fb9f3a\"],[0.8888888888888888,\"#fdca26\"],[1.0,\"#f0f921\"]],\"type\":\"contour\"}],\"contourcarpet\":[{\"colorbar\":{\"outlinewidth\":0,\"ticks\":\"\"},\"type\":\"contourcarpet\"}],\"heatmap\":[{\"colorbar\":{\"outlinewidth\":0,\"ticks\":\"\"},\"colorscale\":[[0.0,\"#0d0887\"],[0.1111111111111111,\"#46039f\"],[0.2222222222222222,\"#7201a8\"],[0.3333333333333333,\"#9c179e\"],[0.4444444444444444,\"#bd3786\"],[0.5555555555555556,\"#d8576b\"],[0.6666666666666666,\"#ed7953\"],[0.7777777777777778,\"#fb9f3a\"],[0.8888888888888888,\"#fdca26\"],[1.0,\"#f0f921\"]],\"type\":\"heatmap\"}],\"heatmapgl\":[{\"colorbar\":{\"outlinewidth\":0,\"ticks\":\"\"},\"colorscale\":[[0.0,\"#0d0887\"],[0.1111111111111111,\"#46039f\"],[0.2222222222222222,\"#7201a8\"],[0.3333333333333333,\"#9c179e\"],[0.4444444444444444,\"#bd3786\"],[0.5555555555555556,\"#d8576b\"],[0.6666666666666666,\"#ed7953\"],[0.7777777777777778,\"#fb9f3a\"],[0.8888888888888888,\"#fdca26\"],[1.0,\"#f0f921\"]],\"type\":\"heatmapgl\"}],\"histogram\":[{\"marker\":{\"pattern\":{\"fillmode\":\"overlay\",\"size\":10,\"solidity\":0.2}},\"type\":\"histogram\"}],\"histogram2d\":[{\"colorbar\":{\"outlinewidth\":0,\"ticks\":\"\"},\"colorscale\":[[0.0,\"#0d0887\"],[0.1111111111111111,\"#46039f\"],[0.2222222222222222,\"#7201a8\"],[0.3333333333333333,\"#9c179e\"],[0.4444444444444444,\"#bd3786\"],[0.5555555555555556,\"#d8576b\"],[0.6666666666666666,\"#ed7953\"],[0.7777777777777778,\"#fb9f3a\"],[0.8888888888888888,\"#fdca26\"],[1.0,\"#f0f921\"]],\"type\":\"histogram2d\"}],\"histogram2dcontour\":[{\"colorbar\":{\"outlinewidth\":0,\"ticks\":\"\"},\"colorscale\":[[0.0,\"#0d0887\"],[0.1111111111111111,\"#46039f\"],[0.2222222222222222,\"#7201a8\"],[0.3333333333333333,\"#9c179e\"],[0.4444444444444444,\"#bd3786\"],[0.5555555555555556,\"#d8576b\"],[0.6666666666666666,\"#ed7953\"],[0.7777777777777778,\"#fb9f3a\"],[0.8888888888888888,\"#fdca26\"],[1.0,\"#f0f921\"]],\"type\":\"histogram2dcontour\"}],\"mesh3d\":[{\"colorbar\":{\"outlinewidth\":0,\"ticks\":\"\"},\"type\":\"mesh3d\"}],\"parcoords\":[{\"line\":{\"colorbar\":{\"outlinewidth\":0,\"ticks\":\"\"}},\"type\":\"parcoords\"}],\"pie\":[{\"automargin\":true,\"type\":\"pie\"}],\"scatter\":[{\"marker\":{\"colorbar\":{\"outlinewidth\":0,\"ticks\":\"\"}},\"type\":\"scatter\"}],\"scatter3d\":[{\"line\":{\"colorbar\":{\"outlinewidth\":0,\"ticks\":\"\"}},\"marker\":{\"colorbar\":{\"outlinewidth\":0,\"ticks\":\"\"}},\"type\":\"scatter3d\"}],\"scattercarpet\":[{\"marker\":{\"colorbar\":{\"outlinewidth\":0,\"ticks\":\"\"}},\"type\":\"scattercarpet\"}],\"scattergeo\":[{\"marker\":{\"colorbar\":{\"outlinewidth\":0,\"ticks\":\"\"}},\"type\":\"scattergeo\"}],\"scattergl\":[{\"marker\":{\"colorbar\":{\"outlinewidth\":0,\"ticks\":\"\"}},\"type\":\"scattergl\"}],\"scattermapbox\":[{\"marker\":{\"colorbar\":{\"outlinewidth\":0,\"ticks\":\"\"}},\"type\":\"scattermapbox\"}],\"scatterpolar\":[{\"marker\":{\"colorbar\":{\"outlinewidth\":0,\"ticks\":\"\"}},\"type\":\"scatterpolar\"}],\"scatterpolargl\":[{\"marker\":{\"colorbar\":{\"outlinewidth\":0,\"ticks\":\"\"}},\"type\":\"scatterpolargl\"}],\"scatterternary\":[{\"marker\":{\"colorbar\":{\"outlinewidth\":0,\"ticks\":\"\"}},\"type\":\"scatterternary\"}],\"surface\":[{\"colorbar\":{\"outlinewidth\":0,\"ticks\":\"\"},\"colorscale\":[[0.0,\"#0d0887\"],[0.1111111111111111,\"#46039f\"],[0.2222222222222222,\"#7201a8\"],[0.3333333333333333,\"#9c179e\"],[0.4444444444444444,\"#bd3786\"],[0.5555555555555556,\"#d8576b\"],[0.6666666666666666,\"#ed7953\"],[0.7777777777777778,\"#fb9f3a\"],[0.8888888888888888,\"#fdca26\"],[1.0,\"#f0f921\"]],\"type\":\"surface\"}],\"table\":[{\"cells\":{\"fill\":{\"color\":\"#EBF0F8\"},\"line\":{\"color\":\"white\"}},\"header\":{\"fill\":{\"color\":\"#C8D4E3\"},\"line\":{\"color\":\"white\"}},\"type\":\"table\"}]},\"layout\":{\"annotationdefaults\":{\"arrowcolor\":\"#2a3f5f\",\"arrowhead\":0,\"arrowwidth\":1},\"autotypenumbers\":\"strict\",\"coloraxis\":{\"colorbar\":{\"outlinewidth\":0,\"ticks\":\"\"}},\"colorscale\":{\"diverging\":[[0,\"#8e0152\"],[0.1,\"#c51b7d\"],[0.2,\"#de77ae\"],[0.3,\"#f1b6da\"],[0.4,\"#fde0ef\"],[0.5,\"#f7f7f7\"],[0.6,\"#e6f5d0\"],[0.7,\"#b8e186\"],[0.8,\"#7fbc41\"],[0.9,\"#4d9221\"],[1,\"#276419\"]],\"sequential\":[[0.0,\"#0d0887\"],[0.1111111111111111,\"#46039f\"],[0.2222222222222222,\"#7201a8\"],[0.3333333333333333,\"#9c179e\"],[0.4444444444444444,\"#bd3786\"],[0.5555555555555556,\"#d8576b\"],[0.6666666666666666,\"#ed7953\"],[0.7777777777777778,\"#fb9f3a\"],[0.8888888888888888,\"#fdca26\"],[1.0,\"#f0f921\"]],\"sequentialminus\":[[0.0,\"#0d0887\"],[0.1111111111111111,\"#46039f\"],[0.2222222222222222,\"#7201a8\"],[0.3333333333333333,\"#9c179e\"],[0.4444444444444444,\"#bd3786\"],[0.5555555555555556,\"#d8576b\"],[0.6666666666666666,\"#ed7953\"],[0.7777777777777778,\"#fb9f3a\"],[0.8888888888888888,\"#fdca26\"],[1.0,\"#f0f921\"]]},\"colorway\":[\"#636efa\",\"#EF553B\",\"#00cc96\",\"#ab63fa\",\"#FFA15A\",\"#19d3f3\",\"#FF6692\",\"#B6E880\",\"#FF97FF\",\"#FECB52\"],\"font\":{\"color\":\"#2a3f5f\"},\"geo\":{\"bgcolor\":\"white\",\"lakecolor\":\"white\",\"landcolor\":\"#E5ECF6\",\"showlakes\":true,\"showland\":true,\"subunitcolor\":\"white\"},\"hoverlabel\":{\"align\":\"left\"},\"hovermode\":\"closest\",\"mapbox\":{\"style\":\"light\"},\"paper_bgcolor\":\"white\",\"plot_bgcolor\":\"#E5ECF6\",\"polar\":{\"angularaxis\":{\"gridcolor\":\"white\",\"linecolor\":\"white\",\"ticks\":\"\"},\"bgcolor\":\"#E5ECF6\",\"radialaxis\":{\"gridcolor\":\"white\",\"linecolor\":\"white\",\"ticks\":\"\"}},\"scene\":{\"xaxis\":{\"backgroundcolor\":\"#E5ECF6\",\"gridcolor\":\"white\",\"gridwidth\":2,\"linecolor\":\"white\",\"showbackground\":true,\"ticks\":\"\",\"zerolinecolor\":\"white\"},\"yaxis\":{\"backgroundcolor\":\"#E5ECF6\",\"gridcolor\":\"white\",\"gridwidth\":2,\"linecolor\":\"white\",\"showbackground\":true,\"ticks\":\"\",\"zerolinecolor\":\"white\"},\"zaxis\":{\"backgroundcolor\":\"#E5ECF6\",\"gridcolor\":\"white\",\"gridwidth\":2,\"linecolor\":\"white\",\"showbackground\":true,\"ticks\":\"\",\"zerolinecolor\":\"white\"}},\"shapedefaults\":{\"line\":{\"color\":\"#2a3f5f\"}},\"ternary\":{\"aaxis\":{\"gridcolor\":\"white\",\"linecolor\":\"white\",\"ticks\":\"\"},\"baxis\":{\"gridcolor\":\"white\",\"linecolor\":\"white\",\"ticks\":\"\"},\"bgcolor\":\"#E5ECF6\",\"caxis\":{\"gridcolor\":\"white\",\"linecolor\":\"white\",\"ticks\":\"\"}},\"title\":{\"x\":0.05},\"xaxis\":{\"automargin\":true,\"gridcolor\":\"white\",\"linecolor\":\"white\",\"ticks\":\"\",\"title\":{\"standoff\":15},\"zerolinecolor\":\"white\",\"zerolinewidth\":2},\"yaxis\":{\"automargin\":true,\"gridcolor\":\"white\",\"linecolor\":\"white\",\"ticks\":\"\",\"title\":{\"standoff\":15},\"zerolinecolor\":\"white\",\"zerolinewidth\":2}}},\"xaxis\":{\"anchor\":\"y\",\"domain\":[0.0,1.0],\"title\":{\"text\":\"NObeyesdad\"}},\"yaxis\":{\"anchor\":\"x\",\"domain\":[0.0,1.0],\"title\":{\"text\":\"counts\"}},\"legend\":{\"title\":{\"text\":\"Gender\"},\"tracegroupgap\":0},\"margin\":{\"t\":60},\"barmode\":\"group\",\"height\":400},                        {\"responsive\": true}                    ).then(function(){\n",
       "                            \n",
       "var gd = document.getElementById('a50acdcc-1ea2-4f0d-84b3-26b749af794b');\n",
       "var x = new MutationObserver(function (mutations, observer) {{\n",
       "        var display = window.getComputedStyle(gd).display;\n",
       "        if (!display || display === 'none') {{\n",
       "            console.log([gd, 'removed!']);\n",
       "            Plotly.purge(gd);\n",
       "            observer.disconnect();\n",
       "        }}\n",
       "}});\n",
       "\n",
       "// Listen for the removal of the full notebook cells\n",
       "var notebookContainer = gd.closest('#notebook-container');\n",
       "if (notebookContainer) {{\n",
       "    x.observe(notebookContainer, {childList: true});\n",
       "}}\n",
       "\n",
       "// Listen for the clearing of the current output cell\n",
       "var outputEl = gd.closest('.output');\n",
       "if (outputEl) {{\n",
       "    x.observe(outputEl, {childList: true});\n",
       "}}\n",
       "\n",
       "                        })                };                });            </script>        </div>"
      ]
     },
     "metadata": {},
     "output_type": "display_data"
    }
   ],
   "source": [
    "fig = px.bar(gender_split, x=\"NObeyesdad\", y=\"counts\",\n",
    "             color='Gender',barmode='group',\n",
    "             height=400)\n",
    "fig.show()"
   ]
  },
  {
   "cell_type": "markdown",
   "id": "222dc52b-67be-4948-823d-9eeba58b0b75",
   "metadata": {},
   "source": [
    "Immediately we start to see some interesting feature of our data. We see the following:\n",
    "\n",
    "Insufficient Weight: There are more women in who are of insufficient weight than men. This could have multiple reasons but one that comes to mind is the pressure on young women to thin.\n",
    "\n",
    "Normal Weight: This is evenly split.\n",
    "\n",
    "Obesity Type I: This is skewed male but not overly so.\n",
    "\n",
    "Obesity Type II: Is predominantly male, this could be attributed to the way BMI is measure utilizing only weight and height and not higher than average muscle mass which many young men tend to have.\n",
    "\n",
    "Obesity Type III: This is surprisingly almost entirely female. Because this is measure based on BMI it might stand to reason that if a man and a woman weigh the same a woman would likely have a higher BMI do to either height differences or assumed muscle mass differences.\n",
    "\n",
    "Overweight Level I and II: These measurements seems to be fairly evenly split between gender with male being on the heavier side."
   ]
  },
  {
   "cell_type": "markdown",
   "id": "8922e36d-8d84-421a-bd1d-d7b87b9d2f2d",
   "metadata": {},
   "source": [
    "#### Smoke\n",
    "\n",
    "An assumption made here is that smoking would correlate to someone being overweight and obese. The idea that one bad habit could lead to another as well as the assumption that smokers are less healthy *because* they smoke and thus might excessive less. "
   ]
  },
  {
   "cell_type": "code",
   "execution_count": 27,
   "id": "369fa878-eab1-432e-88b1-a24d55d9b2ef",
   "metadata": {},
   "outputs": [
    {
     "data": {
      "text/html": [
       "<div>\n",
       "<style scoped>\n",
       "    .dataframe tbody tr th:only-of-type {\n",
       "        vertical-align: middle;\n",
       "    }\n",
       "\n",
       "    .dataframe tbody tr th {\n",
       "        vertical-align: top;\n",
       "    }\n",
       "\n",
       "    .dataframe thead th {\n",
       "        text-align: right;\n",
       "    }\n",
       "</style>\n",
       "<table border=\"1\" class=\"dataframe\">\n",
       "  <thead>\n",
       "    <tr style=\"text-align: right;\">\n",
       "      <th></th>\n",
       "      <th>NObeyesdad</th>\n",
       "      <th>SMOKE</th>\n",
       "      <th>counts</th>\n",
       "    </tr>\n",
       "  </thead>\n",
       "  <tbody>\n",
       "    <tr>\n",
       "      <th>0</th>\n",
       "      <td>Insufficient_Weight</td>\n",
       "      <td>no</td>\n",
       "      <td>271</td>\n",
       "    </tr>\n",
       "    <tr>\n",
       "      <th>1</th>\n",
       "      <td>Insufficient_Weight</td>\n",
       "      <td>yes</td>\n",
       "      <td>1</td>\n",
       "    </tr>\n",
       "    <tr>\n",
       "      <th>2</th>\n",
       "      <td>Normal_Weight</td>\n",
       "      <td>no</td>\n",
       "      <td>274</td>\n",
       "    </tr>\n",
       "    <tr>\n",
       "      <th>3</th>\n",
       "      <td>Normal_Weight</td>\n",
       "      <td>yes</td>\n",
       "      <td>13</td>\n",
       "    </tr>\n",
       "    <tr>\n",
       "      <th>4</th>\n",
       "      <td>Obesity_Type_I</td>\n",
       "      <td>no</td>\n",
       "      <td>345</td>\n",
       "    </tr>\n",
       "    <tr>\n",
       "      <th>5</th>\n",
       "      <td>Obesity_Type_I</td>\n",
       "      <td>yes</td>\n",
       "      <td>6</td>\n",
       "    </tr>\n",
       "    <tr>\n",
       "      <th>6</th>\n",
       "      <td>Obesity_Type_II</td>\n",
       "      <td>no</td>\n",
       "      <td>282</td>\n",
       "    </tr>\n",
       "    <tr>\n",
       "      <th>7</th>\n",
       "      <td>Obesity_Type_II</td>\n",
       "      <td>yes</td>\n",
       "      <td>15</td>\n",
       "    </tr>\n",
       "    <tr>\n",
       "      <th>8</th>\n",
       "      <td>Obesity_Type_III</td>\n",
       "      <td>no</td>\n",
       "      <td>323</td>\n",
       "    </tr>\n",
       "    <tr>\n",
       "      <th>9</th>\n",
       "      <td>Obesity_Type_III</td>\n",
       "      <td>yes</td>\n",
       "      <td>1</td>\n",
       "    </tr>\n",
       "    <tr>\n",
       "      <th>10</th>\n",
       "      <td>Overweight_Level_I</td>\n",
       "      <td>no</td>\n",
       "      <td>287</td>\n",
       "    </tr>\n",
       "    <tr>\n",
       "      <th>11</th>\n",
       "      <td>Overweight_Level_I</td>\n",
       "      <td>yes</td>\n",
       "      <td>3</td>\n",
       "    </tr>\n",
       "    <tr>\n",
       "      <th>12</th>\n",
       "      <td>Overweight_Level_II</td>\n",
       "      <td>no</td>\n",
       "      <td>285</td>\n",
       "    </tr>\n",
       "    <tr>\n",
       "      <th>13</th>\n",
       "      <td>Overweight_Level_II</td>\n",
       "      <td>yes</td>\n",
       "      <td>5</td>\n",
       "    </tr>\n",
       "  </tbody>\n",
       "</table>\n",
       "</div>"
      ],
      "text/plain": [
       "             NObeyesdad SMOKE  counts\n",
       "0   Insufficient_Weight    no     271\n",
       "1   Insufficient_Weight   yes       1\n",
       "2         Normal_Weight    no     274\n",
       "3         Normal_Weight   yes      13\n",
       "4        Obesity_Type_I    no     345\n",
       "5        Obesity_Type_I   yes       6\n",
       "6       Obesity_Type_II    no     282\n",
       "7       Obesity_Type_II   yes      15\n",
       "8      Obesity_Type_III    no     323\n",
       "9      Obesity_Type_III   yes       1\n",
       "10   Overweight_Level_I    no     287\n",
       "11   Overweight_Level_I   yes       3\n",
       "12  Overweight_Level_II    no     285\n",
       "13  Overweight_Level_II   yes       5"
      ]
     },
     "execution_count": 27,
     "metadata": {},
     "output_type": "execute_result"
    }
   ],
   "source": [
    "# Understanding how our population is split by gender\n",
    "Smoke_split = pd.read_sql(\"\"\"\n",
    "select NObeyesdad,\n",
    "Smoke,\n",
    "count(*) as counts\n",
    "from Obesity_data\n",
    "group by 1,2\n",
    "\"\"\",cnx)\n",
    "Smoke_split"
   ]
  },
  {
   "cell_type": "code",
   "execution_count": 28,
   "id": "6ce72c27-a4e9-4607-a222-1da425bae058",
   "metadata": {},
   "outputs": [
    {
     "data": {
      "application/vnd.plotly.v1+json": {
       "config": {
        "plotlyServerURL": "https://plot.ly"
       },
       "data": [
        {
         "domain": {
          "x": [
           0,
           1
          ],
          "y": [
           0,
           1
          ]
         },
         "hovertemplate": "SMOKE=%{label}<br>counts=%{value}<extra></extra>",
         "labels": [
          "no",
          "yes",
          "no",
          "yes",
          "no",
          "yes",
          "no",
          "yes",
          "no",
          "yes",
          "no",
          "yes",
          "no",
          "yes"
         ],
         "legendgroup": "",
         "name": "",
         "showlegend": true,
         "type": "pie",
         "values": [
          271,
          1,
          274,
          13,
          345,
          6,
          282,
          15,
          323,
          1,
          287,
          3,
          285,
          5
         ]
        }
       ],
       "layout": {
        "autosize": true,
        "legend": {
         "tracegroupgap": 0
        },
        "margin": {
         "t": 60
        },
        "template": {
         "data": {
          "bar": [
           {
            "error_x": {
             "color": "#2a3f5f"
            },
            "error_y": {
             "color": "#2a3f5f"
            },
            "marker": {
             "line": {
              "color": "#E5ECF6",
              "width": 0.5
             },
             "pattern": {
              "fillmode": "overlay",
              "size": 10,
              "solidity": 0.2
             }
            },
            "type": "bar"
           }
          ],
          "barpolar": [
           {
            "marker": {
             "line": {
              "color": "#E5ECF6",
              "width": 0.5
             },
             "pattern": {
              "fillmode": "overlay",
              "size": 10,
              "solidity": 0.2
             }
            },
            "type": "barpolar"
           }
          ],
          "carpet": [
           {
            "aaxis": {
             "endlinecolor": "#2a3f5f",
             "gridcolor": "white",
             "linecolor": "white",
             "minorgridcolor": "white",
             "startlinecolor": "#2a3f5f"
            },
            "baxis": {
             "endlinecolor": "#2a3f5f",
             "gridcolor": "white",
             "linecolor": "white",
             "minorgridcolor": "white",
             "startlinecolor": "#2a3f5f"
            },
            "type": "carpet"
           }
          ],
          "choropleth": [
           {
            "colorbar": {
             "outlinewidth": 0,
             "ticks": ""
            },
            "type": "choropleth"
           }
          ],
          "contour": [
           {
            "colorbar": {
             "outlinewidth": 0,
             "ticks": ""
            },
            "colorscale": [
             [
              0,
              "#0d0887"
             ],
             [
              0.1111111111111111,
              "#46039f"
             ],
             [
              0.2222222222222222,
              "#7201a8"
             ],
             [
              0.3333333333333333,
              "#9c179e"
             ],
             [
              0.4444444444444444,
              "#bd3786"
             ],
             [
              0.5555555555555556,
              "#d8576b"
             ],
             [
              0.6666666666666666,
              "#ed7953"
             ],
             [
              0.7777777777777778,
              "#fb9f3a"
             ],
             [
              0.8888888888888888,
              "#fdca26"
             ],
             [
              1,
              "#f0f921"
             ]
            ],
            "type": "contour"
           }
          ],
          "contourcarpet": [
           {
            "colorbar": {
             "outlinewidth": 0,
             "ticks": ""
            },
            "type": "contourcarpet"
           }
          ],
          "heatmap": [
           {
            "colorbar": {
             "outlinewidth": 0,
             "ticks": ""
            },
            "colorscale": [
             [
              0,
              "#0d0887"
             ],
             [
              0.1111111111111111,
              "#46039f"
             ],
             [
              0.2222222222222222,
              "#7201a8"
             ],
             [
              0.3333333333333333,
              "#9c179e"
             ],
             [
              0.4444444444444444,
              "#bd3786"
             ],
             [
              0.5555555555555556,
              "#d8576b"
             ],
             [
              0.6666666666666666,
              "#ed7953"
             ],
             [
              0.7777777777777778,
              "#fb9f3a"
             ],
             [
              0.8888888888888888,
              "#fdca26"
             ],
             [
              1,
              "#f0f921"
             ]
            ],
            "type": "heatmap"
           }
          ],
          "heatmapgl": [
           {
            "colorbar": {
             "outlinewidth": 0,
             "ticks": ""
            },
            "colorscale": [
             [
              0,
              "#0d0887"
             ],
             [
              0.1111111111111111,
              "#46039f"
             ],
             [
              0.2222222222222222,
              "#7201a8"
             ],
             [
              0.3333333333333333,
              "#9c179e"
             ],
             [
              0.4444444444444444,
              "#bd3786"
             ],
             [
              0.5555555555555556,
              "#d8576b"
             ],
             [
              0.6666666666666666,
              "#ed7953"
             ],
             [
              0.7777777777777778,
              "#fb9f3a"
             ],
             [
              0.8888888888888888,
              "#fdca26"
             ],
             [
              1,
              "#f0f921"
             ]
            ],
            "type": "heatmapgl"
           }
          ],
          "histogram": [
           {
            "marker": {
             "pattern": {
              "fillmode": "overlay",
              "size": 10,
              "solidity": 0.2
             }
            },
            "type": "histogram"
           }
          ],
          "histogram2d": [
           {
            "colorbar": {
             "outlinewidth": 0,
             "ticks": ""
            },
            "colorscale": [
             [
              0,
              "#0d0887"
             ],
             [
              0.1111111111111111,
              "#46039f"
             ],
             [
              0.2222222222222222,
              "#7201a8"
             ],
             [
              0.3333333333333333,
              "#9c179e"
             ],
             [
              0.4444444444444444,
              "#bd3786"
             ],
             [
              0.5555555555555556,
              "#d8576b"
             ],
             [
              0.6666666666666666,
              "#ed7953"
             ],
             [
              0.7777777777777778,
              "#fb9f3a"
             ],
             [
              0.8888888888888888,
              "#fdca26"
             ],
             [
              1,
              "#f0f921"
             ]
            ],
            "type": "histogram2d"
           }
          ],
          "histogram2dcontour": [
           {
            "colorbar": {
             "outlinewidth": 0,
             "ticks": ""
            },
            "colorscale": [
             [
              0,
              "#0d0887"
             ],
             [
              0.1111111111111111,
              "#46039f"
             ],
             [
              0.2222222222222222,
              "#7201a8"
             ],
             [
              0.3333333333333333,
              "#9c179e"
             ],
             [
              0.4444444444444444,
              "#bd3786"
             ],
             [
              0.5555555555555556,
              "#d8576b"
             ],
             [
              0.6666666666666666,
              "#ed7953"
             ],
             [
              0.7777777777777778,
              "#fb9f3a"
             ],
             [
              0.8888888888888888,
              "#fdca26"
             ],
             [
              1,
              "#f0f921"
             ]
            ],
            "type": "histogram2dcontour"
           }
          ],
          "mesh3d": [
           {
            "colorbar": {
             "outlinewidth": 0,
             "ticks": ""
            },
            "type": "mesh3d"
           }
          ],
          "parcoords": [
           {
            "line": {
             "colorbar": {
              "outlinewidth": 0,
              "ticks": ""
             }
            },
            "type": "parcoords"
           }
          ],
          "pie": [
           {
            "automargin": true,
            "type": "pie"
           }
          ],
          "scatter": [
           {
            "marker": {
             "colorbar": {
              "outlinewidth": 0,
              "ticks": ""
             }
            },
            "type": "scatter"
           }
          ],
          "scatter3d": [
           {
            "line": {
             "colorbar": {
              "outlinewidth": 0,
              "ticks": ""
             }
            },
            "marker": {
             "colorbar": {
              "outlinewidth": 0,
              "ticks": ""
             }
            },
            "type": "scatter3d"
           }
          ],
          "scattercarpet": [
           {
            "marker": {
             "colorbar": {
              "outlinewidth": 0,
              "ticks": ""
             }
            },
            "type": "scattercarpet"
           }
          ],
          "scattergeo": [
           {
            "marker": {
             "colorbar": {
              "outlinewidth": 0,
              "ticks": ""
             }
            },
            "type": "scattergeo"
           }
          ],
          "scattergl": [
           {
            "marker": {
             "colorbar": {
              "outlinewidth": 0,
              "ticks": ""
             }
            },
            "type": "scattergl"
           }
          ],
          "scattermapbox": [
           {
            "marker": {
             "colorbar": {
              "outlinewidth": 0,
              "ticks": ""
             }
            },
            "type": "scattermapbox"
           }
          ],
          "scatterpolar": [
           {
            "marker": {
             "colorbar": {
              "outlinewidth": 0,
              "ticks": ""
             }
            },
            "type": "scatterpolar"
           }
          ],
          "scatterpolargl": [
           {
            "marker": {
             "colorbar": {
              "outlinewidth": 0,
              "ticks": ""
             }
            },
            "type": "scatterpolargl"
           }
          ],
          "scatterternary": [
           {
            "marker": {
             "colorbar": {
              "outlinewidth": 0,
              "ticks": ""
             }
            },
            "type": "scatterternary"
           }
          ],
          "surface": [
           {
            "colorbar": {
             "outlinewidth": 0,
             "ticks": ""
            },
            "colorscale": [
             [
              0,
              "#0d0887"
             ],
             [
              0.1111111111111111,
              "#46039f"
             ],
             [
              0.2222222222222222,
              "#7201a8"
             ],
             [
              0.3333333333333333,
              "#9c179e"
             ],
             [
              0.4444444444444444,
              "#bd3786"
             ],
             [
              0.5555555555555556,
              "#d8576b"
             ],
             [
              0.6666666666666666,
              "#ed7953"
             ],
             [
              0.7777777777777778,
              "#fb9f3a"
             ],
             [
              0.8888888888888888,
              "#fdca26"
             ],
             [
              1,
              "#f0f921"
             ]
            ],
            "type": "surface"
           }
          ],
          "table": [
           {
            "cells": {
             "fill": {
              "color": "#EBF0F8"
             },
             "line": {
              "color": "white"
             }
            },
            "header": {
             "fill": {
              "color": "#C8D4E3"
             },
             "line": {
              "color": "white"
             }
            },
            "type": "table"
           }
          ]
         },
         "layout": {
          "annotationdefaults": {
           "arrowcolor": "#2a3f5f",
           "arrowhead": 0,
           "arrowwidth": 1
          },
          "autotypenumbers": "strict",
          "coloraxis": {
           "colorbar": {
            "outlinewidth": 0,
            "ticks": ""
           }
          },
          "colorscale": {
           "diverging": [
            [
             0,
             "#8e0152"
            ],
            [
             0.1,
             "#c51b7d"
            ],
            [
             0.2,
             "#de77ae"
            ],
            [
             0.3,
             "#f1b6da"
            ],
            [
             0.4,
             "#fde0ef"
            ],
            [
             0.5,
             "#f7f7f7"
            ],
            [
             0.6,
             "#e6f5d0"
            ],
            [
             0.7,
             "#b8e186"
            ],
            [
             0.8,
             "#7fbc41"
            ],
            [
             0.9,
             "#4d9221"
            ],
            [
             1,
             "#276419"
            ]
           ],
           "sequential": [
            [
             0,
             "#0d0887"
            ],
            [
             0.1111111111111111,
             "#46039f"
            ],
            [
             0.2222222222222222,
             "#7201a8"
            ],
            [
             0.3333333333333333,
             "#9c179e"
            ],
            [
             0.4444444444444444,
             "#bd3786"
            ],
            [
             0.5555555555555556,
             "#d8576b"
            ],
            [
             0.6666666666666666,
             "#ed7953"
            ],
            [
             0.7777777777777778,
             "#fb9f3a"
            ],
            [
             0.8888888888888888,
             "#fdca26"
            ],
            [
             1,
             "#f0f921"
            ]
           ],
           "sequentialminus": [
            [
             0,
             "#0d0887"
            ],
            [
             0.1111111111111111,
             "#46039f"
            ],
            [
             0.2222222222222222,
             "#7201a8"
            ],
            [
             0.3333333333333333,
             "#9c179e"
            ],
            [
             0.4444444444444444,
             "#bd3786"
            ],
            [
             0.5555555555555556,
             "#d8576b"
            ],
            [
             0.6666666666666666,
             "#ed7953"
            ],
            [
             0.7777777777777778,
             "#fb9f3a"
            ],
            [
             0.8888888888888888,
             "#fdca26"
            ],
            [
             1,
             "#f0f921"
            ]
           ]
          },
          "colorway": [
           "#636efa",
           "#EF553B",
           "#00cc96",
           "#ab63fa",
           "#FFA15A",
           "#19d3f3",
           "#FF6692",
           "#B6E880",
           "#FF97FF",
           "#FECB52"
          ],
          "font": {
           "color": "#2a3f5f"
          },
          "geo": {
           "bgcolor": "white",
           "lakecolor": "white",
           "landcolor": "#E5ECF6",
           "showlakes": true,
           "showland": true,
           "subunitcolor": "white"
          },
          "hoverlabel": {
           "align": "left"
          },
          "hovermode": "closest",
          "mapbox": {
           "style": "light"
          },
          "paper_bgcolor": "white",
          "plot_bgcolor": "#E5ECF6",
          "polar": {
           "angularaxis": {
            "gridcolor": "white",
            "linecolor": "white",
            "ticks": ""
           },
           "bgcolor": "#E5ECF6",
           "radialaxis": {
            "gridcolor": "white",
            "linecolor": "white",
            "ticks": ""
           }
          },
          "scene": {
           "xaxis": {
            "backgroundcolor": "#E5ECF6",
            "gridcolor": "white",
            "gridwidth": 2,
            "linecolor": "white",
            "showbackground": true,
            "ticks": "",
            "zerolinecolor": "white"
           },
           "yaxis": {
            "backgroundcolor": "#E5ECF6",
            "gridcolor": "white",
            "gridwidth": 2,
            "linecolor": "white",
            "showbackground": true,
            "ticks": "",
            "zerolinecolor": "white"
           },
           "zaxis": {
            "backgroundcolor": "#E5ECF6",
            "gridcolor": "white",
            "gridwidth": 2,
            "linecolor": "white",
            "showbackground": true,
            "ticks": "",
            "zerolinecolor": "white"
           }
          },
          "shapedefaults": {
           "line": {
            "color": "#2a3f5f"
           }
          },
          "ternary": {
           "aaxis": {
            "gridcolor": "white",
            "linecolor": "white",
            "ticks": ""
           },
           "baxis": {
            "gridcolor": "white",
            "linecolor": "white",
            "ticks": ""
           },
           "bgcolor": "#E5ECF6",
           "caxis": {
            "gridcolor": "white",
            "linecolor": "white",
            "ticks": ""
           }
          },
          "title": {
           "x": 0.05
          },
          "xaxis": {
           "automargin": true,
           "gridcolor": "white",
           "linecolor": "white",
           "ticks": "",
           "title": {
            "standoff": 15
           },
           "zerolinecolor": "white",
           "zerolinewidth": 2
          },
          "yaxis": {
           "automargin": true,
           "gridcolor": "white",
           "linecolor": "white",
           "ticks": "",
           "title": {
            "standoff": 15
           },
           "zerolinecolor": "white",
           "zerolinewidth": 2
          }
         }
        }
       }
      },
      "image/png": "[encoded data removed]",
      "text/html": [
       "<div>                            <div id=\"011780e1-eeec-4d0c-83f7-da599e5772d9\" class=\"plotly-graph-div\" style=\"height:525px; width:100%;\"></div>            <script type=\"text/javascript\">                require([\"plotly\"], function(Plotly) {                    window.PLOTLYENV=window.PLOTLYENV || {};                                    if (document.getElementById(\"011780e1-eeec-4d0c-83f7-da599e5772d9\")) {                    Plotly.newPlot(                        \"011780e1-eeec-4d0c-83f7-da599e5772d9\",                        [{\"domain\":{\"x\":[0.0,1.0],\"y\":[0.0,1.0]},\"hovertemplate\":\"SMOKE=%{label}<br>counts=%{value}<extra></extra>\",\"labels\":[\"no\",\"yes\",\"no\",\"yes\",\"no\",\"yes\",\"no\",\"yes\",\"no\",\"yes\",\"no\",\"yes\",\"no\",\"yes\"],\"legendgroup\":\"\",\"name\":\"\",\"showlegend\":true,\"values\":[271,1,274,13,345,6,282,15,323,1,287,3,285,5],\"type\":\"pie\"}],                        {\"template\":{\"data\":{\"bar\":[{\"error_x\":{\"color\":\"#2a3f5f\"},\"error_y\":{\"color\":\"#2a3f5f\"},\"marker\":{\"line\":{\"color\":\"#E5ECF6\",\"width\":0.5},\"pattern\":{\"fillmode\":\"overlay\",\"size\":10,\"solidity\":0.2}},\"type\":\"bar\"}],\"barpolar\":[{\"marker\":{\"line\":{\"color\":\"#E5ECF6\",\"width\":0.5},\"pattern\":{\"fillmode\":\"overlay\",\"size\":10,\"solidity\":0.2}},\"type\":\"barpolar\"}],\"carpet\":[{\"aaxis\":{\"endlinecolor\":\"#2a3f5f\",\"gridcolor\":\"white\",\"linecolor\":\"white\",\"minorgridcolor\":\"white\",\"startlinecolor\":\"#2a3f5f\"},\"baxis\":{\"endlinecolor\":\"#2a3f5f\",\"gridcolor\":\"white\",\"linecolor\":\"white\",\"minorgridcolor\":\"white\",\"startlinecolor\":\"#2a3f5f\"},\"type\":\"carpet\"}],\"choropleth\":[{\"colorbar\":{\"outlinewidth\":0,\"ticks\":\"\"},\"type\":\"choropleth\"}],\"contour\":[{\"colorbar\":{\"outlinewidth\":0,\"ticks\":\"\"},\"colorscale\":[[0.0,\"#0d0887\"],[0.1111111111111111,\"#46039f\"],[0.2222222222222222,\"#7201a8\"],[0.3333333333333333,\"#9c179e\"],[0.4444444444444444,\"#bd3786\"],[0.5555555555555556,\"#d8576b\"],[0.6666666666666666,\"#ed7953\"],[0.7777777777777778,\"#fb9f3a\"],[0.8888888888888888,\"#fdca26\"],[1.0,\"#f0f921\"]],\"type\":\"contour\"}],\"contourcarpet\":[{\"colorbar\":{\"outlinewidth\":0,\"ticks\":\"\"},\"type\":\"contourcarpet\"}],\"heatmap\":[{\"colorbar\":{\"outlinewidth\":0,\"ticks\":\"\"},\"colorscale\":[[0.0,\"#0d0887\"],[0.1111111111111111,\"#46039f\"],[0.2222222222222222,\"#7201a8\"],[0.3333333333333333,\"#9c179e\"],[0.4444444444444444,\"#bd3786\"],[0.5555555555555556,\"#d8576b\"],[0.6666666666666666,\"#ed7953\"],[0.7777777777777778,\"#fb9f3a\"],[0.8888888888888888,\"#fdca26\"],[1.0,\"#f0f921\"]],\"type\":\"heatmap\"}],\"heatmapgl\":[{\"colorbar\":{\"outlinewidth\":0,\"ticks\":\"\"},\"colorscale\":[[0.0,\"#0d0887\"],[0.1111111111111111,\"#46039f\"],[0.2222222222222222,\"#7201a8\"],[0.3333333333333333,\"#9c179e\"],[0.4444444444444444,\"#bd3786\"],[0.5555555555555556,\"#d8576b\"],[0.6666666666666666,\"#ed7953\"],[0.7777777777777778,\"#fb9f3a\"],[0.8888888888888888,\"#fdca26\"],[1.0,\"#f0f921\"]],\"type\":\"heatmapgl\"}],\"histogram\":[{\"marker\":{\"pattern\":{\"fillmode\":\"overlay\",\"size\":10,\"solidity\":0.2}},\"type\":\"histogram\"}],\"histogram2d\":[{\"colorbar\":{\"outlinewidth\":0,\"ticks\":\"\"},\"colorscale\":[[0.0,\"#0d0887\"],[0.1111111111111111,\"#46039f\"],[0.2222222222222222,\"#7201a8\"],[0.3333333333333333,\"#9c179e\"],[0.4444444444444444,\"#bd3786\"],[0.5555555555555556,\"#d8576b\"],[0.6666666666666666,\"#ed7953\"],[0.7777777777777778,\"#fb9f3a\"],[0.8888888888888888,\"#fdca26\"],[1.0,\"#f0f921\"]],\"type\":\"histogram2d\"}],\"histogram2dcontour\":[{\"colorbar\":{\"outlinewidth\":0,\"ticks\":\"\"},\"colorscale\":[[0.0,\"#0d0887\"],[0.1111111111111111,\"#46039f\"],[0.2222222222222222,\"#7201a8\"],[0.3333333333333333,\"#9c179e\"],[0.4444444444444444,\"#bd3786\"],[0.5555555555555556,\"#d8576b\"],[0.6666666666666666,\"#ed7953\"],[0.7777777777777778,\"#fb9f3a\"],[0.8888888888888888,\"#fdca26\"],[1.0,\"#f0f921\"]],\"type\":\"histogram2dcontour\"}],\"mesh3d\":[{\"colorbar\":{\"outlinewidth\":0,\"ticks\":\"\"},\"type\":\"mesh3d\"}],\"parcoords\":[{\"line\":{\"colorbar\":{\"outlinewidth\":0,\"ticks\":\"\"}},\"type\":\"parcoords\"}],\"pie\":[{\"automargin\":true,\"type\":\"pie\"}],\"scatter\":[{\"marker\":{\"colorbar\":{\"outlinewidth\":0,\"ticks\":\"\"}},\"type\":\"scatter\"}],\"scatter3d\":[{\"line\":{\"colorbar\":{\"outlinewidth\":0,\"ticks\":\"\"}},\"marker\":{\"colorbar\":{\"outlinewidth\":0,\"ticks\":\"\"}},\"type\":\"scatter3d\"}],\"scattercarpet\":[{\"marker\":{\"colorbar\":{\"outlinewidth\":0,\"ticks\":\"\"}},\"type\":\"scattercarpet\"}],\"scattergeo\":[{\"marker\":{\"colorbar\":{\"outlinewidth\":0,\"ticks\":\"\"}},\"type\":\"scattergeo\"}],\"scattergl\":[{\"marker\":{\"colorbar\":{\"outlinewidth\":0,\"ticks\":\"\"}},\"type\":\"scattergl\"}],\"scattermapbox\":[{\"marker\":{\"colorbar\":{\"outlinewidth\":0,\"ticks\":\"\"}},\"type\":\"scattermapbox\"}],\"scatterpolar\":[{\"marker\":{\"colorbar\":{\"outlinewidth\":0,\"ticks\":\"\"}},\"type\":\"scatterpolar\"}],\"scatterpolargl\":[{\"marker\":{\"colorbar\":{\"outlinewidth\":0,\"ticks\":\"\"}},\"type\":\"scatterpolargl\"}],\"scatterternary\":[{\"marker\":{\"colorbar\":{\"outlinewidth\":0,\"ticks\":\"\"}},\"type\":\"scatterternary\"}],\"surface\":[{\"colorbar\":{\"outlinewidth\":0,\"ticks\":\"\"},\"colorscale\":[[0.0,\"#0d0887\"],[0.1111111111111111,\"#46039f\"],[0.2222222222222222,\"#7201a8\"],[0.3333333333333333,\"#9c179e\"],[0.4444444444444444,\"#bd3786\"],[0.5555555555555556,\"#d8576b\"],[0.6666666666666666,\"#ed7953\"],[0.7777777777777778,\"#fb9f3a\"],[0.8888888888888888,\"#fdca26\"],[1.0,\"#f0f921\"]],\"type\":\"surface\"}],\"table\":[{\"cells\":{\"fill\":{\"color\":\"#EBF0F8\"},\"line\":{\"color\":\"white\"}},\"header\":{\"fill\":{\"color\":\"#C8D4E3\"},\"line\":{\"color\":\"white\"}},\"type\":\"table\"}]},\"layout\":{\"annotationdefaults\":{\"arrowcolor\":\"#2a3f5f\",\"arrowhead\":0,\"arrowwidth\":1},\"autotypenumbers\":\"strict\",\"coloraxis\":{\"colorbar\":{\"outlinewidth\":0,\"ticks\":\"\"}},\"colorscale\":{\"diverging\":[[0,\"#8e0152\"],[0.1,\"#c51b7d\"],[0.2,\"#de77ae\"],[0.3,\"#f1b6da\"],[0.4,\"#fde0ef\"],[0.5,\"#f7f7f7\"],[0.6,\"#e6f5d0\"],[0.7,\"#b8e186\"],[0.8,\"#7fbc41\"],[0.9,\"#4d9221\"],[1,\"#276419\"]],\"sequential\":[[0.0,\"#0d0887\"],[0.1111111111111111,\"#46039f\"],[0.2222222222222222,\"#7201a8\"],[0.3333333333333333,\"#9c179e\"],[0.4444444444444444,\"#bd3786\"],[0.5555555555555556,\"#d8576b\"],[0.6666666666666666,\"#ed7953\"],[0.7777777777777778,\"#fb9f3a\"],[0.8888888888888888,\"#fdca26\"],[1.0,\"#f0f921\"]],\"sequentialminus\":[[0.0,\"#0d0887\"],[0.1111111111111111,\"#46039f\"],[0.2222222222222222,\"#7201a8\"],[0.3333333333333333,\"#9c179e\"],[0.4444444444444444,\"#bd3786\"],[0.5555555555555556,\"#d8576b\"],[0.6666666666666666,\"#ed7953\"],[0.7777777777777778,\"#fb9f3a\"],[0.8888888888888888,\"#fdca26\"],[1.0,\"#f0f921\"]]},\"colorway\":[\"#636efa\",\"#EF553B\",\"#00cc96\",\"#ab63fa\",\"#FFA15A\",\"#19d3f3\",\"#FF6692\",\"#B6E880\",\"#FF97FF\",\"#FECB52\"],\"font\":{\"color\":\"#2a3f5f\"},\"geo\":{\"bgcolor\":\"white\",\"lakecolor\":\"white\",\"landcolor\":\"#E5ECF6\",\"showlakes\":true,\"showland\":true,\"subunitcolor\":\"white\"},\"hoverlabel\":{\"align\":\"left\"},\"hovermode\":\"closest\",\"mapbox\":{\"style\":\"light\"},\"paper_bgcolor\":\"white\",\"plot_bgcolor\":\"#E5ECF6\",\"polar\":{\"angularaxis\":{\"gridcolor\":\"white\",\"linecolor\":\"white\",\"ticks\":\"\"},\"bgcolor\":\"#E5ECF6\",\"radialaxis\":{\"gridcolor\":\"white\",\"linecolor\":\"white\",\"ticks\":\"\"}},\"scene\":{\"xaxis\":{\"backgroundcolor\":\"#E5ECF6\",\"gridcolor\":\"white\",\"gridwidth\":2,\"linecolor\":\"white\",\"showbackground\":true,\"ticks\":\"\",\"zerolinecolor\":\"white\"},\"yaxis\":{\"backgroundcolor\":\"#E5ECF6\",\"gridcolor\":\"white\",\"gridwidth\":2,\"linecolor\":\"white\",\"showbackground\":true,\"ticks\":\"\",\"zerolinecolor\":\"white\"},\"zaxis\":{\"backgroundcolor\":\"#E5ECF6\",\"gridcolor\":\"white\",\"gridwidth\":2,\"linecolor\":\"white\",\"showbackground\":true,\"ticks\":\"\",\"zerolinecolor\":\"white\"}},\"shapedefaults\":{\"line\":{\"color\":\"#2a3f5f\"}},\"ternary\":{\"aaxis\":{\"gridcolor\":\"white\",\"linecolor\":\"white\",\"ticks\":\"\"},\"baxis\":{\"gridcolor\":\"white\",\"linecolor\":\"white\",\"ticks\":\"\"},\"bgcolor\":\"#E5ECF6\",\"caxis\":{\"gridcolor\":\"white\",\"linecolor\":\"white\",\"ticks\":\"\"}},\"title\":{\"x\":0.05},\"xaxis\":{\"automargin\":true,\"gridcolor\":\"white\",\"linecolor\":\"white\",\"ticks\":\"\",\"title\":{\"standoff\":15},\"zerolinecolor\":\"white\",\"zerolinewidth\":2},\"yaxis\":{\"automargin\":true,\"gridcolor\":\"white\",\"linecolor\":\"white\",\"ticks\":\"\",\"title\":{\"standoff\":15},\"zerolinecolor\":\"white\",\"zerolinewidth\":2}}},\"legend\":{\"tracegroupgap\":0},\"margin\":{\"t\":60}},                        {\"responsive\": true}                    ).then(function(){\n",
       "                            \n",
       "var gd = document.getElementById('011780e1-eeec-4d0c-83f7-da599e5772d9');\n",
       "var x = new MutationObserver(function (mutations, observer) {{\n",
       "        var display = window.getComputedStyle(gd).display;\n",
       "        if (!display || display === 'none') {{\n",
       "            console.log([gd, 'removed!']);\n",
       "            Plotly.purge(gd);\n",
       "            observer.disconnect();\n",
       "        }}\n",
       "}});\n",
       "\n",
       "// Listen for the removal of the full notebook cells\n",
       "var notebookContainer = gd.closest('#notebook-container');\n",
       "if (notebookContainer) {{\n",
       "    x.observe(notebookContainer, {childList: true});\n",
       "}}\n",
       "\n",
       "// Listen for the clearing of the current output cell\n",
       "var outputEl = gd.closest('.output');\n",
       "if (outputEl) {{\n",
       "    x.observe(outputEl, {childList: true});\n",
       "}}\n",
       "\n",
       "                        })                };                });            </script>        </div>"
      ]
     },
     "metadata": {},
     "output_type": "display_data"
    }
   ],
   "source": [
    "fig = px.pie(Smoke_split, values='counts', names='SMOKE')\n",
    "fig.show()"
   ]
  },
  {
   "cell_type": "markdown",
   "id": "04cb0c99-de0d-4973-87ef-9100e2bcbaf3",
   "metadata": {},
   "source": [
    "We see that the vast majority of our data set shows that people in mass do not smoke. For this reason further analysis on this variable would be hard to visualize without accounting for the near 49:1 ratio."
   ]
  },
  {
   "cell_type": "markdown",
   "id": "ef136394-6b2b-48b2-84b5-b8777062030d",
   "metadata": {},
   "source": [
    "#### Age\n",
    "\n",
    "Two opposing thoughts here are that younger people would be more fit due to their age and potentially being more active. However obese people might not make it to an older age to skew the data. "
   ]
  },
  {
   "cell_type": "code",
   "execution_count": 129,
   "id": "4b55fa92-f24b-4dec-b79f-528db956223e",
   "metadata": {},
   "outputs": [
    {
     "data": {
      "text/html": [
       "<div>\n",
       "<style scoped>\n",
       "    .dataframe tbody tr th:only-of-type {\n",
       "        vertical-align: middle;\n",
       "    }\n",
       "\n",
       "    .dataframe tbody tr th {\n",
       "        vertical-align: top;\n",
       "    }\n",
       "\n",
       "    .dataframe thead th {\n",
       "        text-align: right;\n",
       "    }\n",
       "</style>\n",
       "<table border=\"1\" class=\"dataframe\">\n",
       "  <thead>\n",
       "    <tr style=\"text-align: right;\">\n",
       "      <th></th>\n",
       "      <th>NObeyesdad</th>\n",
       "      <th>mean_age</th>\n",
       "    </tr>\n",
       "  </thead>\n",
       "  <tbody>\n",
       "    <tr>\n",
       "      <th>0</th>\n",
       "      <td>Insufficient_Weight</td>\n",
       "      <td>19.783237</td>\n",
       "    </tr>\n",
       "    <tr>\n",
       "      <th>1</th>\n",
       "      <td>Normal_Weight</td>\n",
       "      <td>21.738676</td>\n",
       "    </tr>\n",
       "    <tr>\n",
       "      <th>2</th>\n",
       "      <td>Obesity_Type_I</td>\n",
       "      <td>25.884941</td>\n",
       "    </tr>\n",
       "    <tr>\n",
       "      <th>3</th>\n",
       "      <td>Obesity_Type_II</td>\n",
       "      <td>28.233785</td>\n",
       "    </tr>\n",
       "    <tr>\n",
       "      <th>4</th>\n",
       "      <td>Obesity_Type_III</td>\n",
       "      <td>23.495554</td>\n",
       "    </tr>\n",
       "    <tr>\n",
       "      <th>5</th>\n",
       "      <td>Overweight_Level_I</td>\n",
       "      <td>23.417674</td>\n",
       "    </tr>\n",
       "    <tr>\n",
       "      <th>6</th>\n",
       "      <td>Overweight_Level_II</td>\n",
       "      <td>26.996981</td>\n",
       "    </tr>\n",
       "  </tbody>\n",
       "</table>\n",
       "</div>"
      ],
      "text/plain": [
       "            NObeyesdad   mean_age\n",
       "0  Insufficient_Weight  19.783237\n",
       "1        Normal_Weight  21.738676\n",
       "2       Obesity_Type_I  25.884941\n",
       "3      Obesity_Type_II  28.233785\n",
       "4     Obesity_Type_III  23.495554\n",
       "5   Overweight_Level_I  23.417674\n",
       "6  Overweight_Level_II  26.996981"
      ]
     },
     "execution_count": 129,
     "metadata": {},
     "output_type": "execute_result"
    }
   ],
   "source": [
    "# Understanding how our population is split by gender\n",
    "Age_split = pd.read_sql(\"\"\"\n",
    "select NObeyesdad,\n",
    "AVG(age) as mean_age\n",
    "from Obesity_data\n",
    "group by 1\n",
    "\"\"\",cnx)\n",
    "Age_split"
   ]
  },
  {
   "cell_type": "code",
   "execution_count": 132,
   "id": "b8b65873-f52d-496b-b275-5ec9b5f6340b",
   "metadata": {},
   "outputs": [],
   "source": [
    "# Creating a helper function for the graph below.\n",
    "def lines_on_graph(position,height):\n",
    "    fig.add_trace(go.Scatter(\n",
    "    x=[Age_split['mean_age'].iloc[position],Age_split['mean_age'].iloc[position]],\n",
    "    y=[0,height],\n",
    "    mode=\"lines\",\n",
    "    name=Age_split['NObeyesdad'].iloc[position],\n",
    "    textposition=\"top center\"\n",
    "    ))"
   ]
  },
  {
   "cell_type": "code",
   "execution_count": 133,
   "id": "0f0d69fe-4515-402f-bd5a-035d44a0e33d",
   "metadata": {},
   "outputs": [
    {
     "data": {
      "application/vnd.plotly.v1+json": {
       "config": {
        "plotlyServerURL": "https://plot.ly"
       },
       "data": [
        {
         "alignmentgroup": "True",
         "bingroup": "x",
         "hovertemplate": "Age=%{x}<br>count=%{y}<extra></extra>",
         "legendgroup": "",
         "marker": {
          "color": "#636efa",
          "pattern": {
           "shape": ""
          }
         },
         "name": "",
         "offsetgroup": "",
         "orientation": "v",
         "showlegend": false,
         "type": "histogram",
         "x": [
          21,
          21,
          23,
          27,
          22,
          29,
          23,
          22,
          24,
          22,
          26,
          21,
          22,
          41,
          23,
          22,
          27,
          29,
          30,
          23,
          22,
          52,
          22,
          22,
          21,
          20,
          21,
          23,
          19,
          23,
          29,
          31,
          24,
          39,
          22,
          21,
          22,
          21,
          23,
          21,
          21,
          23,
          21,
          21,
          21,
          21,
          21,
          21,
          20,
          21,
          21,
          20,
          23,
          23,
          22,
          23,
          22,
          21,
          17,
          20,
          21,
          20,
          22,
          22,
          21,
          21,
          23,
          23,
          30,
          23,
          23,
          22,
          24,
          19,
          24,
          23,
          24,
          24,
          23,
          23,
          19,
          30,
          23,
          19,
          25,
          23,
          21,
          19,
          22,
          29,
          25,
          20,
          55,
          20,
          24,
          26,
          23,
          21,
          21,
          23,
          21,
          22,
          21,
          22,
          38,
          25,
          25,
          22,
          22,
          21,
          21,
          22,
          18,
          22,
          19,
          17,
          15,
          17,
          23,
          19,
          23,
          23,
          21,
          24,
          23,
          18,
          19,
          19,
          20,
          27,
          20,
          23,
          19,
          61,
          30,
          24,
          25,
          44,
          31,
          25,
          23,
          25,
          23,
          34,
          22,
          21,
          24,
          36,
          27,
          32,
          25,
          30,
          38,
          34,
          22,
          31,
          35,
          21,
          40,
          27,
          20,
          55,
          21,
          25,
          35,
          30,
          29,
          20,
          22,
          45,
          22,
          18,
          23,
          18,
          21,
          38,
          18,
          22,
          26,
          21,
          18,
          23,
          22,
          23,
          21,
          31,
          39,
          25,
          35,
          33,
          20,
          26,
          20,
          20,
          23,
          19,
          22,
          41,
          18,
          23,
          23,
          41,
          26,
          29,
          27,
          23,
          19,
          30,
          22,
          22,
          20,
          21,
          24,
          21,
          21,
          21,
          23,
          21,
          21,
          21,
          21,
          23,
          21,
          22,
          23,
          25,
          20,
          24,
          40,
          32,
          20,
          21,
          51,
          34,
          19,
          19,
          21,
          19,
          20,
          19,
          17,
          22,
          20,
          33,
          21,
          20,
          20,
          20,
          21,
          21,
          20,
          20,
          56,
          26,
          22,
          19,
          18,
          19,
          18,
          18,
          21,
          28,
          18,
          23,
          18,
          18,
          39,
          38,
          17,
          23,
          23,
          19,
          18,
          25,
          25,
          18,
          16,
          21,
          32,
          18,
          21,
          18,
          18,
          17,
          20,
          21,
          21,
          18,
          17,
          19,
          16,
          17,
          21,
          19,
          18,
          16,
          21,
          26,
          18,
          23,
          26,
          18,
          16,
          16,
          20,
          23,
          24,
          23,
          20,
          16,
          17,
          17,
          16,
          17,
          26,
          26,
          38,
          18,
          25,
          27,
          21,
          38,
          23,
          18,
          30,
          21,
          18,
          23,
          19,
          19,
          17,
          17,
          27,
          23,
          18,
          19,
          20,
          18,
          17,
          19,
          21,
          20,
          23,
          23,
          18,
          17,
          21,
          17,
          18,
          20,
          17,
          26,
          17,
          24,
          17,
          27,
          17,
          17,
          41,
          33,
          20,
          40,
          37,
          19,
          24,
          24,
          33,
          40,
          37,
          20,
          19,
          17,
          18,
          21,
          18,
          41,
          36,
          18,
          18,
          17,
          25,
          21,
          29,
          17,
          18,
          16,
          18,
          37,
          18,
          16,
          23,
          18,
          18,
          18,
          17,
          20,
          38,
          20,
          21,
          21,
          18,
          26,
          27,
          26,
          34,
          18,
          33,
          19,
          20,
          33,
          20,
          20,
          33,
          33,
          33,
          14,
          34,
          18,
          18,
          29,
          18,
          18,
          19,
          33,
          33,
          19,
          22,
          20,
          23,
          26,
          18,
          18,
          19,
          18,
          19,
          19,
          18,
          18,
          19,
          19,
          18,
          18,
          26,
          18,
          19,
          19,
          19,
          19,
          24,
          18,
          19,
          19,
          23,
          18,
          20,
          18,
          33,
          19,
          19,
          19,
          18,
          21,
          27,
          17,
          18,
          18,
          22,
          22,
          20,
          19,
          20,
          18,
          18,
          18,
          19,
          18,
          18,
          18,
          19,
          17,
          18,
          18,
          20,
          18,
          36,
          21,
          23,
          20,
          21,
          19,
          24,
          25,
          45,
          20,
          18,
          19,
          18,
          20,
          25.196214,
          18.503343,
          26,
          21.853826,
          21.90012,
          18.306615,
          26,
          26,
          21.849705,
          19.799054,
          17.188754,
          22.285024,
          22,
          21.02497,
          22.038327,
          21.243142,
          22.142432,
          21.962426,
          21.491055,
          22.717943,
          23.501249,
          18.535075,
          19,
          19,
          20.254534,
          21,
          20.225396,
          19.86997,
          20.147114,
          21,
          21.996523,
          21.376426,
          19.724106,
          23,
          22.851834,
          23,
          18.216032,
          21.81119,
          18.164768,
          18.871794,
          18.766033,
          18.540535,
          19.88036,
          19.717249,
          19.633898,
          23,
          20.406871,
          23,
          19.058511,
          18.827008,
          19.314964,
          29.970445,
          32.383858,
          24.163526,
          17.038222,
          16.30687,
          16.198153,
          18,
          18,
          18,
          17.486869,
          19.920629,
          18.426619,
          17.082867,
          17.000433,
          16.270434,
          17.908114,
          17.120699,
          19.329542,
          22.377998,
          20.954955,
          22.991668,
          19.300435,
          17.065445,
          19.084967,
          18.024853,
          19.833682,
          17.767432,
          19.504696,
          19.950605,
          19,
          17,
          17,
          18.525525,
          22.926352,
          21.785351,
          23,
          17.402028,
          18,
          18.48207,
          18.53084,
          19.94814,
          20.400053,
          19.556729,
          17.70368,
          18.274358,
          18,
          17.210933,
          17.469417,
          18,
          18,
          18,
          19.010211,
          19.091346,
          19.773303,
          19.483036,
          19,
          19.407204,
          18,
          18.424941,
          18,
          19.97981,
          21.798856,
          22.209706,
          23.018443,
          19.376997,
          20.971429,
          20.345161,
          20.519916,
          20.406066,
          21.478496,
          18.372563,
          19.931667,
          22.998709,
          18.006742,
          34.799519,
          16.496978,
          18,
          17.377131,
          16.611837,
          17.080493,
          22.970655,
          17.764764,
          19.272573,
          19,
          17.06713,
          23,
          18,
          19.054008,
          18,
          17.491272,
          18,
          20.172661,
          19.220108,
          18,
          19.96247,
          17.580627,
          21.125098,
          22.033129,
          20.744839,
          22.547298,
          21.837996,
          23.035829,
          21.529439,
          21.287999,
          23.444286,
          22.329041,
          18.91505,
          19,
          19.052833,
          19.59904,
          21,
          19.673262,
          20.244359,
          20.552695,
          21,
          21.997683,
          21.274628,
          18.909439,
          22.396504,
          19.084317,
          21.084625,
          18.068767,
          21.813083,
          18.038422,
          18.874591,
          19.21164,
          18.988581,
          19.408999,
          19.665881,
          19.758286,
          22.422674,
          20.242237,
          22.637018,
          19.007177,
          18.288205,
          19.314429,
          27.14823,
          25.380557,
          22.867719,
          17.729923,
          16.834813,
          17.521754,
          18,
          18,
          18.128249,
          17.405104,
          19.72925,
          18.525834,
          18.595614,
          16.613108,
          16.928791,
          17.758315,
          17.282945,
          19.993154,
          22.935612,
          20.738469,
          22.99368,
          19.317148,
          16.910997,
          19.071027,
          18.019572,
          19.735968,
          18.094079,
          19.054938,
          20.850119,
          19.349258,
          17,
          17.203917,
          17.671064,
          21.310907,
          21.708354,
          22.176922,
          17.823438,
          18,
          18.281092,
          18.656912,
          19.994543,
          20.255616,
          19.865895,
          17.888073,
          18.470562,
          17.925497,
          17.000752,
          17.362129,
          18,
          18,
          18,
          19.029494,
          19.269079,
          19.946244,
          19.639431,
          19,
          19.434709,
          18,
          18.381382,
          18,
          26.69858,
          21.125836,
          25.191627,
          21.963457,
          21,
          19.114981,
          41.823567,
          21.142432,
          21.962426,
          18.836315,
          23.572648,
          33.700749,
          21.845025,
          21,
          35.125401,
          36.769646,
          21.868932,
          22.549208,
          21,
          21,
          30.958957,
          21.017383,
          19.623574,
          19.637947,
          21.413642,
          21.029633,
          22.667596,
          20,
          21.81119,
          21,
          18.128206,
          21,
          29.08107,
          26.358919,
          22.717249,
          19.816949,
          24.023972,
          32.593129,
          23,
          16.941489,
          16.172992,
          23.71259,
          35.194089,
          23.172982,
          37.218161,
          19.076443,
          16.30687,
          18.297229,
          18.610761,
          17.451085,
          29.740496,
          31.539393,
          18.026457,
          19.47554,
          19,
          18,
          18.270434,
          19.816228,
          28.39124,
          26.758516,
          21.033794,
          22.429812,
          26.650419,
          21.618246,
          21.012542,
          21.071195,
          19.741202,
          19.21638,
          42.24475,
          22.283082,
          21.086512,
          23.451595,
          22.740275,
          18.900253,
          23.170309,
          32.997118,
          32.501143,
          21.938831,
          21.909534,
          21,
          37.455752,
          40,
          38.943282,
          21.987341,
          21.198217,
          21,
          21,
          21,
          21,
          21,
          29.32038,
          31.255587,
          22.851773,
          26,
          19.789291,
          19.895877,
          19.693804,
          19.226314,
          21.652229,
          21.687409,
          21.455463,
          21,
          21,
          19.337404,
          21.701643,
          21.620245,
          21.012569,
          21.016623,
          19,
          21,
          21,
          27.899784,
          28.825223,
          26.047077,
          23,
          20,
          21.832995,
          30.255744,
          30.613586,
          23.245408,
          18,
          18,
          16.950499,
          21.837058,
          27,
          35.483601,
          23.801436,
          23.367212,
          40,
          16.38009,
          16.865984,
          16.093234,
          18,
          18.83919,
          19.726522,
          18.947102,
          17.781183,
          33.100581,
          33.251015,
          18.985119,
          18.871917,
          19.478533,
          19.429723,
          20.979254,
          18.869151,
          18.236087,
          20.901393,
          17.08525,
          25.785925,
          26.787842,
          21.037514,
          21.00829,
          26.70371,
          21.731497,
          21.052894,
          21,
          19.241058,
          38.939448,
          39.965474,
          20.261925,
          20.31094,
          21.420537,
          18.845518,
          23.562135,
          23.118327,
          33.732714,
          21.571288,
          21.165574,
          21,
          21,
          38.692265,
          38.952866,
          36.631456,
          21.996118,
          21.951309,
          22.018228,
          21,
          21,
          21,
          29.934465,
          31.166572,
          20.534606,
          19.97166,
          19.627,
          21.929387,
          21.009437,
          21.538225,
          22.828435,
          22.814657,
          19.576682,
          21.814653,
          21.979769,
          21,
          21.0285,
          18.721041,
          21,
          21,
          29.463168,
          24.284861,
          26.288417,
          23.455324,
          19.637203,
          22.239836,
          31.62638,
          23,
          22.874658,
          17.420269,
          17.807828,
          16.240576,
          23.252457,
          34.772902,
          22.766227,
          39.214514,
          19.858973,
          16.370009,
          17.992717,
          19.179932,
          19.621545,
          19.755797,
          17.099015,
          17.25813,
          29.153907,
          32.278869,
          31.793937,
          18.014333,
          19.685,
          19.506389,
          19,
          18,
          18.003153,
          18.052394,
          19.774317,
          21.180346,
          21.793724,
          20.880161,
          21.18354,
          32.774488,
          31.327609,
          29.956198,
          21.403421,
          22.591439,
          28.583944,
          38.825189,
          35.217173,
          20.392665,
          22.154854,
          19.108796,
          20.70768,
          20.634694,
          22.052152,
          22.869778,
          22.909992,
          23,
          24.679807,
          23.884212,
          25.461411,
          31.333798,
          24.108711,
          28.830558,
          17.570089,
          19.027574,
          25.632447,
          22.94313,
          23.285553,
          23,
          25.19291,
          34.389906,
          26.595893,
          55.24625,
          34.543563,
          21.808159,
          18.118277,
          42.189023,
          22,
          28.770852,
          25.483381,
          21.67315,
          23.469538,
          23,
          23,
          38.464538,
          37.496175,
          33.690239,
          34.369686,
          31.426573,
          34.288249,
          18.863875,
          18.951144,
          19.671876,
          50.832559,
          17.971574,
          18,
          18.701766,
          34.389679,
          17.178483,
          33.0816,
          33.270448,
          36.310292,
          20,
          18.549437,
          34.243146,
          23.32012,
          19.703095,
          19.223259,
          29.695603,
          27,
          21.027662,
          33.015258,
          18,
          30.553097,
          33,
          24.911994,
          24.444846,
          19.911246,
          34.204408,
          34.281681,
          23.384374,
          43.238402,
          45,
          22.087389,
          21.378039,
          31.398281,
          31.484494,
          21.709159,
          30.711381,
          34.821442,
          20.843363,
          19.443639,
          20.492077,
          22.944349,
          23,
          24.06894,
          23.728707,
          29.216019,
          24.751511,
          28.977792,
          17.441593,
          19.126145,
          24.122589,
          23,
          28.824194,
          34.204611,
          28.167799,
          55.137881,
          34.970367,
          20.986834,
          38.378056,
          22.18881,
          21.082384,
          25.293202,
          23,
          39.170029,
          34.044229,
          33.182127,
          19.821996,
          19.149706,
          46.491859,
          17.894784,
          18.88485,
          38.384177,
          22.675679,
          33.049121,
          37.205173,
          19.027417,
          37.492444,
          24.657598,
          18.011718,
          27.349745,
          18,
          33.009285,
          18,
          30.079371,
          25.035915,
          18.198322,
          35.456326,
          23.806789,
          39.392569,
          21.384259,
          22.730414,
          21.20563,
          21.333429,
          32.787101,
          32.610018,
          30.022598,
          21.123048,
          22.989846,
          24.320154,
          37.275298,
          34.098174,
          21.001282,
          21.95994,
          19.795269,
          19.090023,
          20.820455,
          22.087056,
          22.185756,
          22.980957,
          23,
          24.190896,
          23.94003,
          26.591628,
          31.264628,
          23.629159,
          26.208134,
          17.689057,
          19.16097,
          25.45763,
          22.988004,
          23.603191,
          22.882558,
          23.586058,
          34.432669,
          25.472995,
          55.022494,
          34.647036,
          21.997335,
          18.181821,
          41.743333,
          21.473078,
          27.757187,
          25.113537,
          21.82165,
          20.670975,
          22.649792,
          23.154311,
          38.097395,
          37.642177,
          34.176795,
          34.231083,
          31.965402,
          33.185661,
          18.741188,
          19.955257,
          19.684891,
          47.7061,
          17.997009,
          17.971786,
          20.432717,
          33.954433,
          17.039058,
          33.070142,
          34.993835,
          35.719457,
          19.005725,
          18.850466,
          31.540751,
          23.335391,
          19.749627,
          19.565496,
          30.357745,
          27,
          21.380336,
          33.151905,
          18,
          32.241587,
          31.662814,
          24.347414,
          24.362124,
          19.462713,
          35.432059,
          33.864257,
          23.807181,
          39.585811,
          45.821267,
          25.929746,
          26.042738,
          30.551762,
          39.759575,
          31.386405,
          25.706285,
          43.604901,
          42.31607,
          22.654316,
          22.679935,
          24.079524,
          21.196152,
          22.596576,
          23,
          37.356288,
          22.754646,
          23.252906,
          22.025438,
          18.086772,
          25.994393,
          40.821515,
          23,
          37.955371,
          31.315593,
          22.661556,
          40.317787,
          23.365649,
          21.72127,
          35.389491,
          22.061461,
          23,
          23,
          40.951591,
          39.135634,
          26.271621,
          23.779235,
          20.586978,
          21.669478,
          23,
          20.825962,
          18.178023,
          18,
          18.267696,
          23,
          23,
          20.9859,
          21.504943,
          18,
          18,
          19.442663,
          22.865018,
          21.948577,
          21.214617,
          22.277859,
          37.832949,
          37.631769,
          17.6739,
          37.524551,
          43.510672,
          18,
          18,
          29.506287,
          18,
          24.733308,
          29,
          18,
          21.098035,
          19.089595,
          18.312665,
          18.260079,
          26.004294,
          25.994746,
          36.726617,
          38.297259,
          30.163408,
          28.770039,
          42.337283,
          47.283374,
          22.518787,
          22.836315,
          23,
          22.975526,
          22.720449,
          23.887569,
          23,
          23,
          38.148845,
          37.96543,
          22.771612,
          22.582371,
          21.008051,
          22.591026,
          16.129279,
          16.913841,
          29.43879,
          29.881301,
          43.591999,
          40.993179,
          22.936098,
          23,
          37.597953,
          37.532066,
          31.630054,
          31.641081,
          21.872484,
          21.834894,
          36.023972,
          39.656559,
          24.184891,
          23.237302,
          35.322112,
          31.387982,
          23,
          23,
          22.679454,
          22.480889,
          41.403862,
          40.702771,
          29.389239,
          30.967417,
          23.474165,
          24.317607,
          17.052914,
          18.04892,
          22.875223,
          22.884722,
          18.729566,
          21.011124,
          18.603496,
          21.106056,
          23,
          21.980847,
          21.016665,
          21.72738,
          18,
          18,
          19.431662,
          18.166318,
          22.352025,
          22.469351,
          19.524698,
          20.491475,
          39.213399,
          38.098745,
          19.034033,
          17.073648,
          38.547267,
          38.683794,
          18,
          18,
          29.622804,
          30.79626,
          18,
          18.107092,
          31.335093,
          29,
          18.011903,
          18,
          21.077356,
          21.052016,
          18.078256,
          18.063582,
          20.418832,
          20.580984,
          26.032416,
          25.955361,
          26.015448,
          25.920738,
          29.633715,
          32.895637,
          38.748307,
          39.685846,
          33.226808,
          26.220065,
          23.090215,
          24.565628,
          42.586285,
          43.719395,
          43.37634,
          39.648946,
          22.693989,
          22.676243,
          22.804818,
          22.857123,
          23.096353,
          22.815416,
          21.02064,
          21.001458,
          22.87795,
          22.847618,
          23,
          23,
          39.129291,
          37.441044,
          22.969366,
          22.735328,
          23.32471,
          23.668137,
          21.895468,
          21.3928,
          18.178076,
          18.907514,
          26.011928,
          25.696736,
          40.466313,
          38.445148,
          24.473062,
          23.479181,
          38.397463,
          37.974483,
          31.783524,
          29.681308,
          21.587743,
          21.746113,
          39.569004,
          36.67933,
          22.927011,
          23.329344,
          22.126325,
          21.679158,
          36.673882,
          37.936044,
          22.226815,
          22.538932,
          22.307413,
          22.362877,
          22.89974,
          22.997168,
          38.895069,
          40.789529,
          40.654155,
          38.542937,
          25.95383,
          26.826961,
          23.803904,
          23.652435,
          20.677105,
          21.797388,
          22.719385,
          22.177099,
          23.099906,
          24.17851,
          20.924808,
          20.975973,
          21.856301,
          18.140751,
          18,
          18,
          20.206358,
          18.152876,
          22.336216,
          23,
          22.088059,
          23,
          20.993067,
          20.654752,
          21.624552,
          21.682636,
          18,
          18,
          18,
          18,
          19.374207,
          19.275687,
          22.956845,
          22.829681,
          22.200779,
          21.688557,
          20.803186,
          19.515324,
          21.962219,
          20.534089,
          39.29266,
          37.872971,
          37.613378,
          37.471683,
          18.611197,
          17.412629,
          39.12631,
          37.063599,
          41.318302,
          43.726081,
          18,
          18,
          18,
          18,
          29.409825,
          28.421533,
          18,
          18,
          23.246702,
          24.481032,
          29,
          27.968765,
          18.024744,
          18.10682,
          21.379676,
          21.353237,
          20.338815,
          20.720639,
          19.045357,
          18.945961,
          18.88061,
          19.850524,
          30.200946,
          25.314589,
          37.186795,
          32.707653,
          27.562425,
          30.421596,
          26.945139,
          34.139453,
          26.225442,
          28.363149,
          27.991467,
          25.498751,
          30.605225,
          31.457413,
          24.82929,
          24.739421,
          41,
          27.83173,
          23.260061,
          22.705772,
          24.041043,
          20.013906,
          30.02019,
          25.15462,
          30.870724,
          28.712995,
          30.710511,
          29.827481,
          31.86893,
          36.542885,
          21.556361,
          23.963649,
          24.145295,
          25.2984,
          31.755387,
          30.62865,
          23.454558,
          23.432227,
          40.50021,
          34.576714,
          22.276969,
          21.963787,
          24.001685,
          20.027764,
          28.704462,
          26.774115,
          25.539411,
          25.300208,
          31.194458,
          40.794057,
          33.55336,
          30.304203,
          30.958051,
          29.429687,
          30.520854,
          30.610436,
          26.740655,
          26.680376,
          37.056193,
          28.825279,
          25.883749,
          25.486521,
          29.883021,
          26.957645,
          26.490926,
          27.558801,
          22.908879,
          24.201622,
          31.689773,
          30.242597,
          31.346845,
          30.577343,
          25.124595,
          25.509034,
          25.478662,
          25.100513,
          38.523646,
          38.71216,
          25.717522,
          32.259623,
          23.47007,
          24.408805,
          24.443011,
          22.906342,
          24.007488,
          30.686701,
          20.184451,
          25.447208,
          30.002029,
          30.188303,
          24.244029,
          24.521879,
          29.721964,
          29.906575,
          37.084742,
          39.08886,
          22.658572,
          22.889099,
          24.63474,
          24.920362,
          31.783845,
          31.627962,
          22.976188,
          22.977357,
          40.973007,
          41,
          21.721507,
          21.544554,
          24.000307,
          24.0409,
          29.509151,
          29.246269,
          25.341399,
          25.314163,
          40.366238,
          33.749594,
          32.867331,
          30.403205,
          29.687488,
          28.992809,
          30.475248,
          30.350516,
          26.684354,
          26.607478,
          33.174147,
          32.29016,
          26.050109,
          25.846279,
          29.620095,
          27.439056,
          28.493397,
          27.474245,
          25.036269,
          24.825398,
          30.493946,
          30.607546,
          31.194323,
          31.36347,
          25.027254,
          25.058566,
          24.417552,
          24.5822,
          40.106145,
          40.174191,
          27.186873,
          30.424369,
          23.141402,
          24.178638,
          22.832105,
          23.083621,
          24.079971,
          26.947786,
          20.101026,
          22.789402,
          28.404332,
          30.003358,
          25.136116,
          25.139466,
          31.743821,
          30.796262,
          28.393111,
          27.93982,
          31.034092,
          30.684347,
          30.108216,
          31.347497,
          31.761799,
          30.976932,
          37.588628,
          37.997912,
          21.6548,
          22.829753,
          25.015173,
          23.812795,
          23.975685,
          24.149036,
          25.062942,
          25.140074,
          30.722801,
          30.916426,
          31.010302,
          30.605464,
          24.622054,
          23.745833,
          23.327836,
          23.411141,
          39.825592,
          36.839761,
          33.789301,
          34.161998,
          22.580038,
          22.851721,
          23.254934,
          22.343204,
          24.006271,
          24.001196,
          20.156664,
          23.360307,
          28.986237,
          29.713169,
          27.394123,
          24.912254,
          25.526746,
          25.523127,
          25.822348,
          25.879411,
          30.361365,
          30.451174,
          40.564513,
          40.501722,
          30.315784,
          33.293166,
          30.638944,
          29.791101,
          31.205668,
          30.899219,
          29.669219,
          30.595632,
          30.554956,
          31.571392,
          30.577944,
          30.717727,
          26.734476,
          26.699317,
          25.659092,
          26.348156,
          37.638102,
          37.765356,
          28.255199,
          27.931432,
          25.492855,
          25.550506,
          25.542454,
          25.758307,
          29.981494,
          29.891473,
          26.778684,
          28.377958,
          26.199321,
          27.266287,
          27.635029,
          26.899886,
          22.758998,
          22.771001,
          23.826684,
          24.186273,
          30.945369,
          31.490699,
          31.56724,
          30.444081,
          31.199261,
          31.190219,
          30.575349,
          30.702559,
          25.057878,
          25.151286,
          25.137087,
          25.3292,
          25.66668,
          25.01277,
          25.047945,
          25.426457,
          37.207082,
          38.10894,
          38.644441,
          38.112989,
          24.825393,
          26.624342,
          33.722449,
          32.516469,
          23.881938,
          23.319635,
          23.912387,
          24.982997,
          24.511445,
          24.05331,
          22.906886,
          23.147644,
          24.001889,
          24.002404,
          30.71516,
          30.64243,
          20.068432,
          20.914366,
          25.512048,
          26.844812,
          25.919241,
          26,
          18.233541,
          18.147705,
          26,
          26,
          25.902283,
          25.540865,
          22.39251,
          21.305402,
          26,
          26,
          21.334585,
          22.978655,
          21.01245,
          21.056059,
          18.771001,
          24.265943,
          26,
          26,
          25.96701,
          26,
          20.590046,
          24.497373,
          25.991886,
          25.908431,
          18.177882,
          18.112503,
          26,
          26,
          25.902283,
          25.540865,
          20.520992,
          20.871153,
          26,
          26,
          21.768834,
          20.891491,
          20.941943,
          20.989016,
          18.367481,
          21.051107,
          26,
          26,
          25.998646,
          26,
          22.846357,
          19.885655,
          25.930376,
          25.897815,
          26,
          25.968792,
          18.335019,
          21.700748,
          18.222536,
          20.3756,
          26,
          26,
          26,
          26,
          25.943827,
          25.291974,
          25.653233,
          25.783865,
          19.17614,
          21.207423,
          21.633056,
          21.009596,
          26,
          26,
          26,
          25.954511,
          21.001969,
          21.772251,
          23.76197,
          24.449655,
          18.378203,
          19.725718,
          21.344018,
          21.322097,
          19.262934,
          21.566815,
          24.475242,
          25.612462,
          26,
          26,
          26,
          26,
          25.96773,
          25.989938,
          26,
          25.617227,
          21.030909,
          20.951084,
          22.980221,
          23.426036,
          25.999185,
          25.934757,
          20.327723,
          19.47219,
          26,
          26,
          25.816445,
          25.498965,
          19.137495,
          20.190733,
          26,
          26,
          21.840654,
          20.871667,
          21.501721,
          21.521294,
          18.314593,
          19.529746,
          26,
          26,
          26,
          26,
          21.768153,
          21.238416,
          25.930376,
          25.919571,
          25.918524,
          25.565662,
          18.744914,
          21.704699,
          20.089969,
          18.120739,
          26,
          26,
          25.986185,
          25.982113,
          25.748627,
          25.959772,
          25.653233,
          25.783865,
          21.412434,
          22.77789,
          21.140165,
          21.413498,
          26,
          26,
          26,
          26,
          21.391371,
          21.051982,
          23.455303,
          23.69484,
          20.601222,
          20.81158,
          19.993565,
          20.074449,
          18.904037,
          19.783234,
          24.291205,
          25.311534,
          26,
          26,
          26,
          26,
          25.966504,
          25.950898,
          26,
          26,
          20.848608,
          20.801791,
          23.712641,
          24.063874,
          25.95774,
          25.909353,
          25.954995,
          25.908829,
          19.297004,
          18.301773,
          19.872667,
          18.13782,
          26,
          26,
          26,
          26,
          25.42724,
          25.795187,
          25.493586,
          25.524336,
          20.908785,
          20.781751,
          21.289104,
          21.210732,
          26,
          26,
          26,
          26,
          21.656907,
          21.760734,
          21.028989,
          21.282238,
          20.388049,
          21.022206,
          20.102241,
          21.291969,
          20.530998,
          18.976968,
          20.924956,
          21.28253,
          26,
          26,
          26,
          26,
          25.999174,
          25.999942,
          26,
          26,
          23.365041,
          23.421726,
          18.826782,
          18.94093,
          25.921678,
          25.940153,
          25.999636,
          25.907833,
          25.991194,
          25.993154,
          25.988668,
          25.976209,
          18.743587,
          20.323767,
          21.394047,
          21.838323,
          18.20634,
          18.532826,
          20.438478,
          20.796266,
          26,
          26,
          26,
          26,
          26,
          25.992898,
          26,
          26,
          25.951737,
          25.982261,
          25.470652,
          25.289428,
          25.696073,
          25.561868,
          25.834018,
          25.895546,
          19.035557,
          18.634286,
          20.700876,
          20.741442,
          21.695892,
          21.635977,
          21.232659,
          21.008297,
          25.962949,
          26,
          26,
          26,
          26,
          26,
          25.964788,
          25.994949,
          20.952737,
          20.978166,
          21.67447,
          21.568951,
          23.647935,
          24.196367,
          24.284833,
          24.693108,
          18.862264,
          18.423482,
          20.394082,
          20.217015,
          21.330178,
          19.528936,
          19.364339,
          21.131526,
          19.012872,
          18.469086,
          21.572114,
          21.680123,
          24.469756,
          25.12791,
          25.986368,
          25.951979,
          26,
          26,
          26,
          26,
          26,
          26,
          26,
          26,
          25.97731,
          25.955014,
          25.996716,
          25.992348,
          25.974446,
          25.777565,
          25.722004,
          25.765628,
          21.016849,
          21.682367,
          21.285965,
          20.976842,
          21.982942,
          22.524036,
          24.361936,
          23.664709
         ],
         "xaxis": "x",
         "yaxis": "y"
        },
        {
         "mode": "lines",
         "name": "Insufficient_Weight",
         "textposition": "top center",
         "type": "scatter",
         "x": [
          19.783237150735307,
          19.783237150735307
         ],
         "y": [
          0,
          300
         ]
        },
        {
         "mode": "lines",
         "name": "Normal_Weight",
         "textposition": "top center",
         "type": "scatter",
         "x": [
          21.738675958188153,
          21.738675958188153
         ],
         "y": [
          0,
          300
         ]
        },
        {
         "mode": "lines",
         "name": "Obesity_Type_I",
         "textposition": "top center",
         "type": "scatter",
         "x": [
          25.88494073219372,
          25.88494073219372
         ],
         "y": [
          0,
          300
         ]
        },
        {
         "mode": "lines",
         "name": "Obesity_Type_II",
         "textposition": "top center",
         "type": "scatter",
         "x": [
          28.233785323232315,
          28.233785323232315
         ],
         "y": [
          0,
          300
         ]
        },
        {
         "mode": "lines",
         "name": "Obesity_Type_III",
         "textposition": "top center",
         "type": "scatter",
         "x": [
          23.4955539691358,
          23.4955539691358
         ],
         "y": [
          0,
          300
         ]
        },
        {
         "mode": "lines",
         "name": "Overweight_Level_I",
         "textposition": "top center",
         "type": "scatter",
         "x": [
          23.41767367241378,
          23.41767367241378
         ],
         "y": [
          0,
          300
         ]
        },
        {
         "mode": "lines",
         "name": "Overweight_Level_II",
         "textposition": "top center",
         "type": "scatter",
         "x": [
          26.996981424137942,
          26.996981424137942
         ],
         "y": [
          0,
          300
         ]
        }
       ],
       "layout": {
        "autosize": true,
        "barmode": "relative",
        "legend": {
         "tracegroupgap": 0
        },
        "margin": {
         "t": 60
        },
        "template": {
         "data": {
          "bar": [
           {
            "error_x": {
             "color": "#2a3f5f"
            },
            "error_y": {
             "color": "#2a3f5f"
            },
            "marker": {
             "line": {
              "color": "#E5ECF6",
              "width": 0.5
             },
             "pattern": {
              "fillmode": "overlay",
              "size": 10,
              "solidity": 0.2
             }
            },
            "type": "bar"
           }
          ],
          "barpolar": [
           {
            "marker": {
             "line": {
              "color": "#E5ECF6",
              "width": 0.5
             },
             "pattern": {
              "fillmode": "overlay",
              "size": 10,
              "solidity": 0.2
             }
            },
            "type": "barpolar"
           }
          ],
          "carpet": [
           {
            "aaxis": {
             "endlinecolor": "#2a3f5f",
             "gridcolor": "white",
             "linecolor": "white",
             "minorgridcolor": "white",
             "startlinecolor": "#2a3f5f"
            },
            "baxis": {
             "endlinecolor": "#2a3f5f",
             "gridcolor": "white",
             "linecolor": "white",
             "minorgridcolor": "white",
             "startlinecolor": "#2a3f5f"
            },
            "type": "carpet"
           }
          ],
          "choropleth": [
           {
            "colorbar": {
             "outlinewidth": 0,
             "ticks": ""
            },
            "type": "choropleth"
           }
          ],
          "contour": [
           {
            "colorbar": {
             "outlinewidth": 0,
             "ticks": ""
            },
            "colorscale": [
             [
              0,
              "#0d0887"
             ],
             [
              0.1111111111111111,
              "#46039f"
             ],
             [
              0.2222222222222222,
              "#7201a8"
             ],
             [
              0.3333333333333333,
              "#9c179e"
             ],
             [
              0.4444444444444444,
              "#bd3786"
             ],
             [
              0.5555555555555556,
              "#d8576b"
             ],
             [
              0.6666666666666666,
              "#ed7953"
             ],
             [
              0.7777777777777778,
              "#fb9f3a"
             ],
             [
              0.8888888888888888,
              "#fdca26"
             ],
             [
              1,
              "#f0f921"
             ]
            ],
            "type": "contour"
           }
          ],
          "contourcarpet": [
           {
            "colorbar": {
             "outlinewidth": 0,
             "ticks": ""
            },
            "type": "contourcarpet"
           }
          ],
          "heatmap": [
           {
            "colorbar": {
             "outlinewidth": 0,
             "ticks": ""
            },
            "colorscale": [
             [
              0,
              "#0d0887"
             ],
             [
              0.1111111111111111,
              "#46039f"
             ],
             [
              0.2222222222222222,
              "#7201a8"
             ],
             [
              0.3333333333333333,
              "#9c179e"
             ],
             [
              0.4444444444444444,
              "#bd3786"
             ],
             [
              0.5555555555555556,
              "#d8576b"
             ],
             [
              0.6666666666666666,
              "#ed7953"
             ],
             [
              0.7777777777777778,
              "#fb9f3a"
             ],
             [
              0.8888888888888888,
              "#fdca26"
             ],
             [
              1,
              "#f0f921"
             ]
            ],
            "type": "heatmap"
           }
          ],
          "heatmapgl": [
           {
            "colorbar": {
             "outlinewidth": 0,
             "ticks": ""
            },
            "colorscale": [
             [
              0,
              "#0d0887"
             ],
             [
              0.1111111111111111,
              "#46039f"
             ],
             [
              0.2222222222222222,
              "#7201a8"
             ],
             [
              0.3333333333333333,
              "#9c179e"
             ],
             [
              0.4444444444444444,
              "#bd3786"
             ],
             [
              0.5555555555555556,
              "#d8576b"
             ],
             [
              0.6666666666666666,
              "#ed7953"
             ],
             [
              0.7777777777777778,
              "#fb9f3a"
             ],
             [
              0.8888888888888888,
              "#fdca26"
             ],
             [
              1,
              "#f0f921"
             ]
            ],
            "type": "heatmapgl"
           }
          ],
          "histogram": [
           {
            "marker": {
             "pattern": {
              "fillmode": "overlay",
              "size": 10,
              "solidity": 0.2
             }
            },
            "type": "histogram"
           }
          ],
          "histogram2d": [
           {
            "colorbar": {
             "outlinewidth": 0,
             "ticks": ""
            },
            "colorscale": [
             [
              0,
              "#0d0887"
             ],
             [
              0.1111111111111111,
              "#46039f"
             ],
             [
              0.2222222222222222,
              "#7201a8"
             ],
             [
              0.3333333333333333,
              "#9c179e"
             ],
             [
              0.4444444444444444,
              "#bd3786"
             ],
             [
              0.5555555555555556,
              "#d8576b"
             ],
             [
              0.6666666666666666,
              "#ed7953"
             ],
             [
              0.7777777777777778,
              "#fb9f3a"
             ],
             [
              0.8888888888888888,
              "#fdca26"
             ],
             [
              1,
              "#f0f921"
             ]
            ],
            "type": "histogram2d"
           }
          ],
          "histogram2dcontour": [
           {
            "colorbar": {
             "outlinewidth": 0,
             "ticks": ""
            },
            "colorscale": [
             [
              0,
              "#0d0887"
             ],
             [
              0.1111111111111111,
              "#46039f"
             ],
             [
              0.2222222222222222,
              "#7201a8"
             ],
             [
              0.3333333333333333,
              "#9c179e"
             ],
             [
              0.4444444444444444,
              "#bd3786"
             ],
             [
              0.5555555555555556,
              "#d8576b"
             ],
             [
              0.6666666666666666,
              "#ed7953"
             ],
             [
              0.7777777777777778,
              "#fb9f3a"
             ],
             [
              0.8888888888888888,
              "#fdca26"
             ],
             [
              1,
              "#f0f921"
             ]
            ],
            "type": "histogram2dcontour"
           }
          ],
          "mesh3d": [
           {
            "colorbar": {
             "outlinewidth": 0,
             "ticks": ""
            },
            "type": "mesh3d"
           }
          ],
          "parcoords": [
           {
            "line": {
             "colorbar": {
              "outlinewidth": 0,
              "ticks": ""
             }
            },
            "type": "parcoords"
           }
          ],
          "pie": [
           {
            "automargin": true,
            "type": "pie"
           }
          ],
          "scatter": [
           {
            "marker": {
             "colorbar": {
              "outlinewidth": 0,
              "ticks": ""
             }
            },
            "type": "scatter"
           }
          ],
          "scatter3d": [
           {
            "line": {
             "colorbar": {
              "outlinewidth": 0,
              "ticks": ""
             }
            },
            "marker": {
             "colorbar": {
              "outlinewidth": 0,
              "ticks": ""
             }
            },
            "type": "scatter3d"
           }
          ],
          "scattercarpet": [
           {
            "marker": {
             "colorbar": {
              "outlinewidth": 0,
              "ticks": ""
             }
            },
            "type": "scattercarpet"
           }
          ],
          "scattergeo": [
           {
            "marker": {
             "colorbar": {
              "outlinewidth": 0,
              "ticks": ""
             }
            },
            "type": "scattergeo"
           }
          ],
          "scattergl": [
           {
            "marker": {
             "colorbar": {
              "outlinewidth": 0,
              "ticks": ""
             }
            },
            "type": "scattergl"
           }
          ],
          "scattermapbox": [
           {
            "marker": {
             "colorbar": {
              "outlinewidth": 0,
              "ticks": ""
             }
            },
            "type": "scattermapbox"
           }
          ],
          "scatterpolar": [
           {
            "marker": {
             "colorbar": {
              "outlinewidth": 0,
              "ticks": ""
             }
            },
            "type": "scatterpolar"
           }
          ],
          "scatterpolargl": [
           {
            "marker": {
             "colorbar": {
              "outlinewidth": 0,
              "ticks": ""
             }
            },
            "type": "scatterpolargl"
           }
          ],
          "scatterternary": [
           {
            "marker": {
             "colorbar": {
              "outlinewidth": 0,
              "ticks": ""
             }
            },
            "type": "scatterternary"
           }
          ],
          "surface": [
           {
            "colorbar": {
             "outlinewidth": 0,
             "ticks": ""
            },
            "colorscale": [
             [
              0,
              "#0d0887"
             ],
             [
              0.1111111111111111,
              "#46039f"
             ],
             [
              0.2222222222222222,
              "#7201a8"
             ],
             [
              0.3333333333333333,
              "#9c179e"
             ],
             [
              0.4444444444444444,
              "#bd3786"
             ],
             [
              0.5555555555555556,
              "#d8576b"
             ],
             [
              0.6666666666666666,
              "#ed7953"
             ],
             [
              0.7777777777777778,
              "#fb9f3a"
             ],
             [
              0.8888888888888888,
              "#fdca26"
             ],
             [
              1,
              "#f0f921"
             ]
            ],
            "type": "surface"
           }
          ],
          "table": [
           {
            "cells": {
             "fill": {
              "color": "#EBF0F8"
             },
             "line": {
              "color": "white"
             }
            },
            "header": {
             "fill": {
              "color": "#C8D4E3"
             },
             "line": {
              "color": "white"
             }
            },
            "type": "table"
           }
          ]
         },
         "layout": {
          "annotationdefaults": {
           "arrowcolor": "#2a3f5f",
           "arrowhead": 0,
           "arrowwidth": 1
          },
          "autotypenumbers": "strict",
          "coloraxis": {
           "colorbar": {
            "outlinewidth": 0,
            "ticks": ""
           }
          },
          "colorscale": {
           "diverging": [
            [
             0,
             "#8e0152"
            ],
            [
             0.1,
             "#c51b7d"
            ],
            [
             0.2,
             "#de77ae"
            ],
            [
             0.3,
             "#f1b6da"
            ],
            [
             0.4,
             "#fde0ef"
            ],
            [
             0.5,
             "#f7f7f7"
            ],
            [
             0.6,
             "#e6f5d0"
            ],
            [
             0.7,
             "#b8e186"
            ],
            [
             0.8,
             "#7fbc41"
            ],
            [
             0.9,
             "#4d9221"
            ],
            [
             1,
             "#276419"
            ]
           ],
           "sequential": [
            [
             0,
             "#0d0887"
            ],
            [
             0.1111111111111111,
             "#46039f"
            ],
            [
             0.2222222222222222,
             "#7201a8"
            ],
            [
             0.3333333333333333,
             "#9c179e"
            ],
            [
             0.4444444444444444,
             "#bd3786"
            ],
            [
             0.5555555555555556,
             "#d8576b"
            ],
            [
             0.6666666666666666,
             "#ed7953"
            ],
            [
             0.7777777777777778,
             "#fb9f3a"
            ],
            [
             0.8888888888888888,
             "#fdca26"
            ],
            [
             1,
             "#f0f921"
            ]
           ],
           "sequentialminus": [
            [
             0,
             "#0d0887"
            ],
            [
             0.1111111111111111,
             "#46039f"
            ],
            [
             0.2222222222222222,
             "#7201a8"
            ],
            [
             0.3333333333333333,
             "#9c179e"
            ],
            [
             0.4444444444444444,
             "#bd3786"
            ],
            [
             0.5555555555555556,
             "#d8576b"
            ],
            [
             0.6666666666666666,
             "#ed7953"
            ],
            [
             0.7777777777777778,
             "#fb9f3a"
            ],
            [
             0.8888888888888888,
             "#fdca26"
            ],
            [
             1,
             "#f0f921"
            ]
           ]
          },
          "colorway": [
           "#636efa",
           "#EF553B",
           "#00cc96",
           "#ab63fa",
           "#FFA15A",
           "#19d3f3",
           "#FF6692",
           "#B6E880",
           "#FF97FF",
           "#FECB52"
          ],
          "font": {
           "color": "#2a3f5f"
          },
          "geo": {
           "bgcolor": "white",
           "lakecolor": "white",
           "landcolor": "#E5ECF6",
           "showlakes": true,
           "showland": true,
           "subunitcolor": "white"
          },
          "hoverlabel": {
           "align": "left"
          },
          "hovermode": "closest",
          "mapbox": {
           "style": "light"
          },
          "paper_bgcolor": "white",
          "plot_bgcolor": "#E5ECF6",
          "polar": {
           "angularaxis": {
            "gridcolor": "white",
            "linecolor": "white",
            "ticks": ""
           },
           "bgcolor": "#E5ECF6",
           "radialaxis": {
            "gridcolor": "white",
            "linecolor": "white",
            "ticks": ""
           }
          },
          "scene": {
           "xaxis": {
            "backgroundcolor": "#E5ECF6",
            "gridcolor": "white",
            "gridwidth": 2,
            "linecolor": "white",
            "showbackground": true,
            "ticks": "",
            "zerolinecolor": "white"
           },
           "yaxis": {
            "backgroundcolor": "#E5ECF6",
            "gridcolor": "white",
            "gridwidth": 2,
            "linecolor": "white",
            "showbackground": true,
            "ticks": "",
            "zerolinecolor": "white"
           },
           "zaxis": {
            "backgroundcolor": "#E5ECF6",
            "gridcolor": "white",
            "gridwidth": 2,
            "linecolor": "white",
            "showbackground": true,
            "ticks": "",
            "zerolinecolor": "white"
           }
          },
          "shapedefaults": {
           "line": {
            "color": "#2a3f5f"
           }
          },
          "ternary": {
           "aaxis": {
            "gridcolor": "white",
            "linecolor": "white",
            "ticks": ""
           },
           "baxis": {
            "gridcolor": "white",
            "linecolor": "white",
            "ticks": ""
           },
           "bgcolor": "#E5ECF6",
           "caxis": {
            "gridcolor": "white",
            "linecolor": "white",
            "ticks": ""
           }
          },
          "title": {
           "x": 0.05
          },
          "xaxis": {
           "automargin": true,
           "gridcolor": "white",
           "linecolor": "white",
           "ticks": "",
           "title": {
            "standoff": 15
           },
           "zerolinecolor": "white",
           "zerolinewidth": 2
          },
          "yaxis": {
           "automargin": true,
           "gridcolor": "white",
           "linecolor": "white",
           "ticks": "",
           "title": {
            "standoff": 15
           },
           "zerolinecolor": "white",
           "zerolinewidth": 2
          }
         }
        },
        "xaxis": {
         "anchor": "y",
         "autorange": true,
         "domain": [
          0,
          1
         ],
         "range": [
          13.5,
          61.5
         ],
         "title": {
          "text": "Age"
         },
         "type": "linear"
        },
        "yaxis": {
         "anchor": "x",
         "autorange": true,
         "domain": [
          0,
          1
         ],
         "range": [
          -16.666666666666668,
          316.6666666666667
         ],
         "title": {
          "text": "count"
         },
         "type": "linear"
        }
       }
      },
      "image/png": "[encoded data removed]",
      "text/html": [
       "<div>                            <div id=\"b0f9f27d-6200-40a8-8ae0-d74f23685906\" class=\"plotly-graph-div\" style=\"height:525px; width:100%;\"></div>            <script type=\"text/javascript\">                require([\"plotly\"], function(Plotly) {                    window.PLOTLYENV=window.PLOTLYENV || {};                                    if (document.getElementById(\"b0f9f27d-6200-40a8-8ae0-d74f23685906\")) {                    Plotly.newPlot(                        \"b0f9f27d-6200-40a8-8ae0-d74f23685906\",                        [{\"alignmentgroup\":\"True\",\"bingroup\":\"x\",\"hovertemplate\":\"Age=%{x}<br>count=%{y}<extra></extra>\",\"legendgroup\":\"\",\"marker\":{\"color\":\"#636efa\",\"pattern\":{\"shape\":\"\"}},\"name\":\"\",\"offsetgroup\":\"\",\"orientation\":\"v\",\"showlegend\":false,\"x\":[21.0,21.0,23.0,27.0,22.0,29.0,23.0,22.0,24.0,22.0,26.0,21.0,22.0,41.0,23.0,22.0,27.0,29.0,30.0,23.0,22.0,52.0,22.0,22.0,21.0,20.0,21.0,23.0,19.0,23.0,29.0,31.0,24.0,39.0,22.0,21.0,22.0,21.0,23.0,21.0,21.0,23.0,21.0,21.0,21.0,21.0,21.0,21.0,20.0,21.0,21.0,20.0,23.0,23.0,22.0,23.0,22.0,21.0,17.0,20.0,21.0,20.0,22.0,22.0,21.0,21.0,23.0,23.0,30.0,23.0,23.0,22.0,24.0,19.0,24.0,23.0,24.0,24.0,23.0,23.0,19.0,30.0,23.0,19.0,25.0,23.0,21.0,19.0,22.0,29.0,25.0,20.0,55.0,20.0,24.0,26.0,23.0,21.0,21.0,23.0,21.0,22.0,21.0,22.0,38.0,25.0,25.0,22.0,22.0,21.0,21.0,22.0,18.0,22.0,19.0,17.0,15.0,17.0,23.0,19.0,23.0,23.0,21.0,24.0,23.0,18.0,19.0,19.0,20.0,27.0,20.0,23.0,19.0,61.0,30.0,24.0,25.0,44.0,31.0,25.0,23.0,25.0,23.0,34.0,22.0,21.0,24.0,36.0,27.0,32.0,25.0,30.0,38.0,34.0,22.0,31.0,35.0,21.0,40.0,27.0,20.0,55.0,21.0,25.0,35.0,30.0,29.0,20.0,22.0,45.0,22.0,18.0,23.0,18.0,21.0,38.0,18.0,22.0,26.0,21.0,18.0,23.0,22.0,23.0,21.0,31.0,39.0,25.0,35.0,33.0,20.0,26.0,20.0,20.0,23.0,19.0,22.0,41.0,18.0,23.0,23.0,41.0,26.0,29.0,27.0,23.0,19.0,30.0,22.0,22.0,20.0,21.0,24.0,21.0,21.0,21.0,23.0,21.0,21.0,21.0,21.0,23.0,21.0,22.0,23.0,25.0,20.0,24.0,40.0,32.0,20.0,21.0,51.0,34.0,19.0,19.0,21.0,19.0,20.0,19.0,17.0,22.0,20.0,33.0,21.0,20.0,20.0,20.0,21.0,21.0,20.0,20.0,56.0,26.0,22.0,19.0,18.0,19.0,18.0,18.0,21.0,28.0,18.0,23.0,18.0,18.0,39.0,38.0,17.0,23.0,23.0,19.0,18.0,25.0,25.0,18.0,16.0,21.0,32.0,18.0,21.0,18.0,18.0,17.0,20.0,21.0,21.0,18.0,17.0,19.0,16.0,17.0,21.0,19.0,18.0,16.0,21.0,26.0,18.0,23.0,26.0,18.0,16.0,16.0,20.0,23.0,24.0,23.0,20.0,16.0,17.0,17.0,16.0,17.0,26.0,26.0,38.0,18.0,25.0,27.0,21.0,38.0,23.0,18.0,30.0,21.0,18.0,23.0,19.0,19.0,17.0,17.0,27.0,23.0,18.0,19.0,20.0,18.0,17.0,19.0,21.0,20.0,23.0,23.0,18.0,17.0,21.0,17.0,18.0,20.0,17.0,26.0,17.0,24.0,17.0,27.0,17.0,17.0,41.0,33.0,20.0,40.0,37.0,19.0,24.0,24.0,33.0,40.0,37.0,20.0,19.0,17.0,18.0,21.0,18.0,41.0,36.0,18.0,18.0,17.0,25.0,21.0,29.0,17.0,18.0,16.0,18.0,37.0,18.0,16.0,23.0,18.0,18.0,18.0,17.0,20.0,38.0,20.0,21.0,21.0,18.0,26.0,27.0,26.0,34.0,18.0,33.0,19.0,20.0,33.0,20.0,20.0,33.0,33.0,33.0,14.0,34.0,18.0,18.0,29.0,18.0,18.0,19.0,33.0,33.0,19.0,22.0,20.0,23.0,26.0,18.0,18.0,19.0,18.0,19.0,19.0,18.0,18.0,19.0,19.0,18.0,18.0,26.0,18.0,19.0,19.0,19.0,19.0,24.0,18.0,19.0,19.0,23.0,18.0,20.0,18.0,33.0,19.0,19.0,19.0,18.0,21.0,27.0,17.0,18.0,18.0,22.0,22.0,20.0,19.0,20.0,18.0,18.0,18.0,19.0,18.0,18.0,18.0,19.0,17.0,18.0,18.0,20.0,18.0,36.0,21.0,23.0,20.0,21.0,19.0,24.0,25.0,45.0,20.0,18.0,19.0,18.0,20.0,25.196214,18.503343,26.0,21.853826,21.90012,18.306615,26.0,26.0,21.849705,19.799054,17.188754,22.285024,22.0,21.02497,22.038327,21.243142,22.142432,21.962426,21.491055,22.717943,23.501249,18.535075,19.0,19.0,20.254534,21.0,20.225396,19.86997,20.147114,21.0,21.996523,21.376426,19.724106,23.0,22.851834,23.0,18.216032,21.81119,18.164768,18.871794,18.766033,18.540535,19.88036,19.717249,19.633898,23.0,20.406871,23.0,19.058511,18.827008,19.314964,29.970445,32.383858,24.163526,17.038222,16.30687,16.198153,18.0,18.0,18.0,17.486869,19.920629,18.426619,17.082867,17.000433,16.270434,17.908114,17.120699,19.329542,22.377998,20.954955,22.991668,19.300435,17.065445,19.084967,18.024853,19.833682,17.767432,19.504696,19.950605,19.0,17.0,17.0,18.525525,22.926352,21.785351,23.0,17.402028,18.0,18.48207,18.53084,19.94814,20.400053,19.556729,17.70368,18.274358,18.0,17.210933,17.469417,18.0,18.0,18.0,19.010211,19.091346,19.773303,19.483036,19.0,19.407204,18.0,18.424941,18.0,19.97981,21.798856,22.209706,23.018443,19.376997,20.971429,20.345161,20.519916,20.406066,21.478496,18.372563,19.931667,22.998709,18.006742,34.799519,16.496978,18.0,17.377131,16.611837,17.080493,22.970655,17.764764,19.272573,19.0,17.06713,23.0,18.0,19.054008,18.0,17.491272,18.0,20.172661,19.220108,18.0,19.96247,17.580627,21.125098,22.033129,20.744839,22.547298,21.837996,23.035829,21.529439,21.287999,23.444286,22.329041,18.91505,19.0,19.052833,19.59904,21.0,19.673262,20.244359,20.552695,21.0,21.997683,21.274628,18.909439,22.396504,19.084317,21.084625,18.068767,21.813083,18.038422,18.874591,19.21164,18.988581,19.408999,19.665881,19.758286,22.422674,20.242237,22.637018,19.007177,18.288205,19.314429,27.14823,25.380557,22.867719,17.729923,16.834813,17.521754,18.0,18.0,18.128249,17.405104,19.72925,18.525834,18.595614,16.613108,16.928791,17.758315,17.282945,19.993154,22.935612,20.738469,22.99368,19.317148,16.910997,19.071027,18.019572,19.735968,18.094079,19.054938,20.850119,19.349258,17.0,17.203917,17.671064,21.310907,21.708354,22.176922,17.823438,18.0,18.281092,18.656912,19.994543,20.255616,19.865895,17.888073,18.470562,17.925497,17.000752,17.362129,18.0,18.0,18.0,19.029494,19.269079,19.946244,19.639431,19.0,19.434709,18.0,18.381382,18.0,26.69858,21.125836,25.191627,21.963457,21.0,19.114981,41.823567,21.142432,21.962426,18.836315,23.572648,33.700749,21.845025,21.0,35.125401,36.769646,21.868932,22.549208,21.0,21.0,30.958957,21.017383,19.623574,19.637947,21.413642,21.029633,22.667596,20.0,21.81119,21.0,18.128206,21.0,29.08107,26.358919,22.717249,19.816949,24.023972,32.593129,23.0,16.941489,16.172992,23.71259,35.194089,23.172982,37.218161,19.076443,16.30687,18.297229,18.610761,17.451085,29.740496,31.539393,18.026457,19.47554,19.0,18.0,18.270434,19.816228,28.39124,26.758516,21.033794,22.429812,26.650419,21.618246,21.012542,21.071195,19.741202,19.21638,42.24475,22.283082,21.086512,23.451595,22.740275,18.900253,23.170309,32.997118,32.501143,21.938831,21.909534,21.0,37.455752,40.0,38.943282,21.987341,21.198217,21.0,21.0,21.0,21.0,21.0,29.32038,31.255587,22.851773,26.0,19.789291,19.895877,19.693804,19.226314,21.652229,21.687409,21.455463,21.0,21.0,19.337404,21.701643,21.620245,21.012569,21.016623,19.0,21.0,21.0,27.899784,28.825223,26.047077,23.0,20.0,21.832995,30.255744,30.613586,23.245408,18.0,18.0,16.950499,21.837058,27.0,35.483601,23.801436,23.367212,40.0,16.38009,16.865984,16.093234,18.0,18.83919,19.726522,18.947102,17.781183,33.100581,33.251015,18.985119,18.871917,19.478533,19.429723,20.979254,18.869151,18.236087,20.901393,17.08525,25.785925,26.787842,21.037514,21.00829,26.70371,21.731497,21.052894,21.0,19.241058,38.939448,39.965474,20.261925,20.31094,21.420537,18.845518,23.562135,23.118327,33.732714,21.571288,21.165574,21.0,21.0,38.692265,38.952866,36.631456,21.996118,21.951309,22.018228,21.0,21.0,21.0,29.934465,31.166572,20.534606,19.97166,19.627,21.929387,21.009437,21.538225,22.828435,22.814657,19.576682,21.814653,21.979769,21.0,21.0285,18.721041,21.0,21.0,29.463168,24.284861,26.288417,23.455324,19.637203,22.239836,31.62638,23.0,22.874658,17.420269,17.807828,16.240576,23.252457,34.772902,22.766227,39.214514,19.858973,16.370009,17.992717,19.179932,19.621545,19.755797,17.099015,17.25813,29.153907,32.278869,31.793937,18.014333,19.685,19.506389,19.0,18.0,18.003153,18.052394,19.774317,21.180346,21.793724,20.880161,21.18354,32.774488,31.327609,29.956198,21.403421,22.591439,28.583944,38.825189,35.217173,20.392665,22.154854,19.108796,20.70768,20.634694,22.052152,22.869778,22.909992,23.0,24.679807,23.884212,25.461411,31.333798,24.108711,28.830558,17.570089,19.027574,25.632447,22.94313,23.285553,23.0,25.19291,34.389906,26.595893,55.24625,34.543563,21.808159,18.118277,42.189023,22.0,28.770852,25.483381,21.67315,23.469538,23.0,23.0,38.464538,37.496175,33.690239,34.369686,31.426573,34.288249,18.863875,18.951144,19.671876,50.832559,17.971574,18.0,18.701766,34.389679,17.178483,33.0816,33.270448,36.310292,20.0,18.549437,34.243146,23.32012,19.703095,19.223259,29.695603,27.0,21.027662,33.015258,18.0,30.553097,33.0,24.911994,24.444846,19.911246,34.204408,34.281681,23.384374,43.238402,45.0,22.087389,21.378039,31.398281,31.484494,21.709159,30.711381,34.821442,20.843363,19.443639,20.492077,22.944349,23.0,24.06894,23.728707,29.216019,24.751511,28.977792,17.441593,19.126145,24.122589,23.0,28.824194,34.204611,28.167799,55.137881,34.970367,20.986834,38.378056,22.18881,21.082384,25.293202,23.0,39.170029,34.044229,33.182127,19.821996,19.149706,46.491859,17.894784,18.88485,38.384177,22.675679,33.049121,37.205173,19.027417,37.492444,24.657598,18.011718,27.349745,18.0,33.009285,18.0,30.079371,25.035915,18.198322,35.456326,23.806789,39.392569,21.384259,22.730414,21.20563,21.333429,32.787101,32.610018,30.022598,21.123048,22.989846,24.320154,37.275298,34.098174,21.001282,21.95994,19.795269,19.090023,20.820455,22.087056,22.185756,22.980957,23.0,24.190896,23.94003,26.591628,31.264628,23.629159,26.208134,17.689057,19.16097,25.45763,22.988004,23.603191,22.882558,23.586058,34.432669,25.472995,55.022494,34.647036,21.997335,18.181821,41.743333,21.473078,27.757187,25.113537,21.82165,20.670975,22.649792,23.154311,38.097395,37.642177,34.176795,34.231083,31.965402,33.185661,18.741188,19.955257,19.684891,47.7061,17.997009,17.971786,20.432717,33.954433,17.039058,33.070142,34.993835,35.719457,19.005725,18.850466,31.540751,23.335391,19.749627,19.565496,30.357745,27.0,21.380336,33.151905,18.0,32.241587,31.662814,24.347414,24.362124,19.462713,35.432059,33.864257,23.807181,39.585811,45.821267,25.929746,26.042738,30.551762,39.759575,31.386405,25.706285,43.604901,42.31607,22.654316,22.679935,24.079524,21.196152,22.596576,23.0,37.356288,22.754646,23.252906,22.025438,18.086772,25.994393,40.821515,23.0,37.955371,31.315593,22.661556,40.317787,23.365649,21.72127,35.389491,22.061461,23.0,23.0,40.951591,39.135634,26.271621,23.779235,20.586978,21.669478,23.0,20.825962,18.178023,18.0,18.267696,23.0,23.0,20.9859,21.504943,18.0,18.0,19.442663,22.865018,21.948577,21.214617,22.277859,37.832949,37.631769,17.6739,37.524551,43.510672,18.0,18.0,29.506287,18.0,24.733308,29.0,18.0,21.098035,19.089595,18.312665,18.260079,26.004294,25.994746,36.726617,38.297259,30.163408,28.770039,42.337283,47.283374,22.518787,22.836315,23.0,22.975526,22.720449,23.887569,23.0,23.0,38.148845,37.96543,22.771612,22.582371,21.008051,22.591026,16.129279,16.913841,29.43879,29.881301,43.591999,40.993179,22.936098,23.0,37.597953,37.532066,31.630054,31.641081,21.872484,21.834894,36.023972,39.656559,24.184891,23.237302,35.322112,31.387982,23.0,23.0,22.679454,22.480889,41.403862,40.702771,29.389239,30.967417,23.474165,24.317607,17.052914,18.04892,22.875223,22.884722,18.729566,21.011124,18.603496,21.106056,23.0,21.980847,21.016665,21.72738,18.0,18.0,19.431662,18.166318,22.352025,22.469351,19.524698,20.491475,39.213399,38.098745,19.034033,17.073648,38.547267,38.683794,18.0,18.0,29.622804,30.79626,18.0,18.107092,31.335093,29.0,18.011903,18.0,21.077356,21.052016,18.078256,18.063582,20.418832,20.580984,26.032416,25.955361,26.015448,25.920738,29.633715,32.895637,38.748307,39.685846,33.226808,26.220065,23.090215,24.565628,42.586285,43.719395,43.37634,39.648946,22.693989,22.676243,22.804818,22.857123,23.096353,22.815416,21.02064,21.001458,22.87795,22.847618,23.0,23.0,39.129291,37.441044,22.969366,22.735328,23.32471,23.668137,21.895468,21.3928,18.178076,18.907514,26.011928,25.696736,40.466313,38.445148,24.473062,23.479181,38.397463,37.974483,31.783524,29.681308,21.587743,21.746113,39.569004,36.67933,22.927011,23.329344,22.126325,21.679158,36.673882,37.936044,22.226815,22.538932,22.307413,22.362877,22.89974,22.997168,38.895069,40.789529,40.654155,38.542937,25.95383,26.826961,23.803904,23.652435,20.677105,21.797388,22.719385,22.177099,23.099906,24.17851,20.924808,20.975973,21.856301,18.140751,18.0,18.0,20.206358,18.152876,22.336216,23.0,22.088059,23.0,20.993067,20.654752,21.624552,21.682636,18.0,18.0,18.0,18.0,19.374207,19.275687,22.956845,22.829681,22.200779,21.688557,20.803186,19.515324,21.962219,20.534089,39.29266,37.872971,37.613378,37.471683,18.611197,17.412629,39.12631,37.063599,41.318302,43.726081,18.0,18.0,18.0,18.0,29.409825,28.421533,18.0,18.0,23.246702,24.481032,29.0,27.968765,18.024744,18.10682,21.379676,21.353237,20.338815,20.720639,19.045357,18.945961,18.88061,19.850524,30.200946,25.314589,37.186795,32.707653,27.562425,30.421596,26.945139,34.139453,26.225442,28.363149,27.991467,25.498751,30.605225,31.457413,24.82929,24.739421,41.0,27.83173,23.260061,22.705772,24.041043,20.013906,30.02019,25.15462,30.870724,28.712995,30.710511,29.827481,31.86893,36.542885,21.556361,23.963649,24.145295,25.2984,31.755387,30.62865,23.454558,23.432227,40.50021,34.576714,22.276969,21.963787,24.001685,20.027764,28.704462,26.774115,25.539411,25.300208,31.194458,40.794057,33.55336,30.304203,30.958051,29.429687,30.520854,30.610436,26.740655,26.680376,37.056193,28.825279,25.883749,25.486521,29.883021,26.957645,26.490926,27.558801,22.908879,24.201622,31.689773,30.242597,31.346845,30.577343,25.124595,25.509034,25.478662,25.100513,38.523646,38.71216,25.717522,32.259623,23.47007,24.408805,24.443011,22.906342,24.007488,30.686701,20.184451,25.447208,30.002029,30.188303,24.244029,24.521879,29.721964,29.906575,37.084742,39.08886,22.658572,22.889099,24.63474,24.920362,31.783845,31.627962,22.976188,22.977357,40.973007,41.0,21.721507,21.544554,24.000307,24.0409,29.509151,29.246269,25.341399,25.314163,40.366238,33.749594,32.867331,30.403205,29.687488,28.992809,30.475248,30.350516,26.684354,26.607478,33.174147,32.29016,26.050109,25.846279,29.620095,27.439056,28.493397,27.474245,25.036269,24.825398,30.493946,30.607546,31.194323,31.36347,25.027254,25.058566,24.417552,24.5822,40.106145,40.174191,27.186873,30.424369,23.141402,24.178638,22.832105,23.083621,24.079971,26.947786,20.101026,22.789402,28.404332,30.003358,25.136116,25.139466,31.743821,30.796262,28.393111,27.93982,31.034092,30.684347,30.108216,31.347497,31.761799,30.976932,37.588628,37.997912,21.6548,22.829753,25.015173,23.812795,23.975685,24.149036,25.062942,25.140074,30.722801,30.916426,31.010302,30.605464,24.622054,23.745833,23.327836,23.411141,39.825592,36.839761,33.789301,34.161998,22.580038,22.851721,23.254934,22.343204,24.006271,24.001196,20.156664,23.360307,28.986237,29.713169,27.394123,24.912254,25.526746,25.523127,25.822348,25.879411,30.361365,30.451174,40.564513,40.501722,30.315784,33.293166,30.638944,29.791101,31.205668,30.899219,29.669219,30.595632,30.554956,31.571392,30.577944,30.717727,26.734476,26.699317,25.659092,26.348156,37.638102,37.765356,28.255199,27.931432,25.492855,25.550506,25.542454,25.758307,29.981494,29.891473,26.778684,28.377958,26.199321,27.266287,27.635029,26.899886,22.758998,22.771001,23.826684,24.186273,30.945369,31.490699,31.56724,30.444081,31.199261,31.190219,30.575349,30.702559,25.057878,25.151286,25.137087,25.3292,25.66668,25.01277,25.047945,25.426457,37.207082,38.10894,38.644441,38.112989,24.825393,26.624342,33.722449,32.516469,23.881938,23.319635,23.912387,24.982997,24.511445,24.05331,22.906886,23.147644,24.001889,24.002404,30.71516,30.64243,20.068432,20.914366,25.512048,26.844812,25.919241,26.0,18.233541,18.147705,26.0,26.0,25.902283,25.540865,22.39251,21.305402,26.0,26.0,21.334585,22.978655,21.01245,21.056059,18.771001,24.265943,26.0,26.0,25.96701,26.0,20.590046,24.497373,25.991886,25.908431,18.177882,18.112503,26.0,26.0,25.902283,25.540865,20.520992,20.871153,26.0,26.0,21.768834,20.891491,20.941943,20.989016,18.367481,21.051107,26.0,26.0,25.998646,26.0,22.846357,19.885655,25.930376,25.897815,26.0,25.968792,18.335019,21.700748,18.222536,20.3756,26.0,26.0,26.0,26.0,25.943827,25.291974,25.653233,25.783865,19.17614,21.207423,21.633056,21.009596,26.0,26.0,26.0,25.954511,21.001969,21.772251,23.76197,24.449655,18.378203,19.725718,21.344018,21.322097,19.262934,21.566815,24.475242,25.612462,26.0,26.0,26.0,26.0,25.96773,25.989938,26.0,25.617227,21.030909,20.951084,22.980221,23.426036,25.999185,25.934757,20.327723,19.47219,26.0,26.0,25.816445,25.498965,19.137495,20.190733,26.0,26.0,21.840654,20.871667,21.501721,21.521294,18.314593,19.529746,26.0,26.0,26.0,26.0,21.768153,21.238416,25.930376,25.919571,25.918524,25.565662,18.744914,21.704699,20.089969,18.120739,26.0,26.0,25.986185,25.982113,25.748627,25.959772,25.653233,25.783865,21.412434,22.77789,21.140165,21.413498,26.0,26.0,26.0,26.0,21.391371,21.051982,23.455303,23.69484,20.601222,20.81158,19.993565,20.074449,18.904037,19.783234,24.291205,25.311534,26.0,26.0,26.0,26.0,25.966504,25.950898,26.0,26.0,20.848608,20.801791,23.712641,24.063874,25.95774,25.909353,25.954995,25.908829,19.297004,18.301773,19.872667,18.13782,26.0,26.0,26.0,26.0,25.42724,25.795187,25.493586,25.524336,20.908785,20.781751,21.289104,21.210732,26.0,26.0,26.0,26.0,21.656907,21.760734,21.028989,21.282238,20.388049,21.022206,20.102241,21.291969,20.530998,18.976968,20.924956,21.28253,26.0,26.0,26.0,26.0,25.999174,25.999942,26.0,26.0,23.365041,23.421726,18.826782,18.94093,25.921678,25.940153,25.999636,25.907833,25.991194,25.993154,25.988668,25.976209,18.743587,20.323767,21.394047,21.838323,18.20634,18.532826,20.438478,20.796266,26.0,26.0,26.0,26.0,26.0,25.992898,26.0,26.0,25.951737,25.982261,25.470652,25.289428,25.696073,25.561868,25.834018,25.895546,19.035557,18.634286,20.700876,20.741442,21.695892,21.635977,21.232659,21.008297,25.962949,26.0,26.0,26.0,26.0,26.0,25.964788,25.994949,20.952737,20.978166,21.67447,21.568951,23.647935,24.196367,24.284833,24.693108,18.862264,18.423482,20.394082,20.217015,21.330178,19.528936,19.364339,21.131526,19.012872,18.469086,21.572114,21.680123,24.469756,25.12791,25.986368,25.951979,26.0,26.0,26.0,26.0,26.0,26.0,26.0,26.0,25.97731,25.955014,25.996716,25.992348,25.974446,25.777565,25.722004,25.765628,21.016849,21.682367,21.285965,20.976842,21.982942,22.524036,24.361936,23.664709],\"xaxis\":\"x\",\"yaxis\":\"y\",\"type\":\"histogram\"},{\"mode\":\"lines\",\"name\":\"Insufficient_Weight\",\"textposition\":\"top center\",\"x\":[19.783237150735307,19.783237150735307],\"y\":[0,300],\"type\":\"scatter\"},{\"mode\":\"lines\",\"name\":\"Normal_Weight\",\"textposition\":\"top center\",\"x\":[21.738675958188153,21.738675958188153],\"y\":[0,300],\"type\":\"scatter\"},{\"mode\":\"lines\",\"name\":\"Obesity_Type_I\",\"textposition\":\"top center\",\"x\":[25.88494073219372,25.88494073219372],\"y\":[0,300],\"type\":\"scatter\"},{\"mode\":\"lines\",\"name\":\"Obesity_Type_II\",\"textposition\":\"top center\",\"x\":[28.233785323232315,28.233785323232315],\"y\":[0,300],\"type\":\"scatter\"},{\"mode\":\"lines\",\"name\":\"Obesity_Type_III\",\"textposition\":\"top center\",\"x\":[23.4955539691358,23.4955539691358],\"y\":[0,300],\"type\":\"scatter\"},{\"mode\":\"lines\",\"name\":\"Overweight_Level_I\",\"textposition\":\"top center\",\"x\":[23.41767367241378,23.41767367241378],\"y\":[0,300],\"type\":\"scatter\"},{\"mode\":\"lines\",\"name\":\"Overweight_Level_II\",\"textposition\":\"top center\",\"x\":[26.996981424137942,26.996981424137942],\"y\":[0,300],\"type\":\"scatter\"}],                        {\"template\":{\"data\":{\"bar\":[{\"error_x\":{\"color\":\"#2a3f5f\"},\"error_y\":{\"color\":\"#2a3f5f\"},\"marker\":{\"line\":{\"color\":\"#E5ECF6\",\"width\":0.5},\"pattern\":{\"fillmode\":\"overlay\",\"size\":10,\"solidity\":0.2}},\"type\":\"bar\"}],\"barpolar\":[{\"marker\":{\"line\":{\"color\":\"#E5ECF6\",\"width\":0.5},\"pattern\":{\"fillmode\":\"overlay\",\"size\":10,\"solidity\":0.2}},\"type\":\"barpolar\"}],\"carpet\":[{\"aaxis\":{\"endlinecolor\":\"#2a3f5f\",\"gridcolor\":\"white\",\"linecolor\":\"white\",\"minorgridcolor\":\"white\",\"startlinecolor\":\"#2a3f5f\"},\"baxis\":{\"endlinecolor\":\"#2a3f5f\",\"gridcolor\":\"white\",\"linecolor\":\"white\",\"minorgridcolor\":\"white\",\"startlinecolor\":\"#2a3f5f\"},\"type\":\"carpet\"}],\"choropleth\":[{\"colorbar\":{\"outlinewidth\":0,\"ticks\":\"\"},\"type\":\"choropleth\"}],\"contour\":[{\"colorbar\":{\"outlinewidth\":0,\"ticks\":\"\"},\"colorscale\":[[0.0,\"#0d0887\"],[0.1111111111111111,\"#46039f\"],[0.2222222222222222,\"#7201a8\"],[0.3333333333333333,\"#9c179e\"],[0.4444444444444444,\"#bd3786\"],[0.5555555555555556,\"#d8576b\"],[0.6666666666666666,\"#ed7953\"],[0.7777777777777778,\"#fb9f3a\"],[0.8888888888888888,\"#fdca26\"],[1.0,\"#f0f921\"]],\"type\":\"contour\"}],\"contourcarpet\":[{\"colorbar\":{\"outlinewidth\":0,\"ticks\":\"\"},\"type\":\"contourcarpet\"}],\"heatmap\":[{\"colorbar\":{\"outlinewidth\":0,\"ticks\":\"\"},\"colorscale\":[[0.0,\"#0d0887\"],[0.1111111111111111,\"#46039f\"],[0.2222222222222222,\"#7201a8\"],[0.3333333333333333,\"#9c179e\"],[0.4444444444444444,\"#bd3786\"],[0.5555555555555556,\"#d8576b\"],[0.6666666666666666,\"#ed7953\"],[0.7777777777777778,\"#fb9f3a\"],[0.8888888888888888,\"#fdca26\"],[1.0,\"#f0f921\"]],\"type\":\"heatmap\"}],\"heatmapgl\":[{\"colorbar\":{\"outlinewidth\":0,\"ticks\":\"\"},\"colorscale\":[[0.0,\"#0d0887\"],[0.1111111111111111,\"#46039f\"],[0.2222222222222222,\"#7201a8\"],[0.3333333333333333,\"#9c179e\"],[0.4444444444444444,\"#bd3786\"],[0.5555555555555556,\"#d8576b\"],[0.6666666666666666,\"#ed7953\"],[0.7777777777777778,\"#fb9f3a\"],[0.8888888888888888,\"#fdca26\"],[1.0,\"#f0f921\"]],\"type\":\"heatmapgl\"}],\"histogram\":[{\"marker\":{\"pattern\":{\"fillmode\":\"overlay\",\"size\":10,\"solidity\":0.2}},\"type\":\"histogram\"}],\"histogram2d\":[{\"colorbar\":{\"outlinewidth\":0,\"ticks\":\"\"},\"colorscale\":[[0.0,\"#0d0887\"],[0.1111111111111111,\"#46039f\"],[0.2222222222222222,\"#7201a8\"],[0.3333333333333333,\"#9c179e\"],[0.4444444444444444,\"#bd3786\"],[0.5555555555555556,\"#d8576b\"],[0.6666666666666666,\"#ed7953\"],[0.7777777777777778,\"#fb9f3a\"],[0.8888888888888888,\"#fdca26\"],[1.0,\"#f0f921\"]],\"type\":\"histogram2d\"}],\"histogram2dcontour\":[{\"colorbar\":{\"outlinewidth\":0,\"ticks\":\"\"},\"colorscale\":[[0.0,\"#0d0887\"],[0.1111111111111111,\"#46039f\"],[0.2222222222222222,\"#7201a8\"],[0.3333333333333333,\"#9c179e\"],[0.4444444444444444,\"#bd3786\"],[0.5555555555555556,\"#d8576b\"],[0.6666666666666666,\"#ed7953\"],[0.7777777777777778,\"#fb9f3a\"],[0.8888888888888888,\"#fdca26\"],[1.0,\"#f0f921\"]],\"type\":\"histogram2dcontour\"}],\"mesh3d\":[{\"colorbar\":{\"outlinewidth\":0,\"ticks\":\"\"},\"type\":\"mesh3d\"}],\"parcoords\":[{\"line\":{\"colorbar\":{\"outlinewidth\":0,\"ticks\":\"\"}},\"type\":\"parcoords\"}],\"pie\":[{\"automargin\":true,\"type\":\"pie\"}],\"scatter\":[{\"marker\":{\"colorbar\":{\"outlinewidth\":0,\"ticks\":\"\"}},\"type\":\"scatter\"}],\"scatter3d\":[{\"line\":{\"colorbar\":{\"outlinewidth\":0,\"ticks\":\"\"}},\"marker\":{\"colorbar\":{\"outlinewidth\":0,\"ticks\":\"\"}},\"type\":\"scatter3d\"}],\"scattercarpet\":[{\"marker\":{\"colorbar\":{\"outlinewidth\":0,\"ticks\":\"\"}},\"type\":\"scattercarpet\"}],\"scattergeo\":[{\"marker\":{\"colorbar\":{\"outlinewidth\":0,\"ticks\":\"\"}},\"type\":\"scattergeo\"}],\"scattergl\":[{\"marker\":{\"colorbar\":{\"outlinewidth\":0,\"ticks\":\"\"}},\"type\":\"scattergl\"}],\"scattermapbox\":[{\"marker\":{\"colorbar\":{\"outlinewidth\":0,\"ticks\":\"\"}},\"type\":\"scattermapbox\"}],\"scatterpolar\":[{\"marker\":{\"colorbar\":{\"outlinewidth\":0,\"ticks\":\"\"}},\"type\":\"scatterpolar\"}],\"scatterpolargl\":[{\"marker\":{\"colorbar\":{\"outlinewidth\":0,\"ticks\":\"\"}},\"type\":\"scatterpolargl\"}],\"scatterternary\":[{\"marker\":{\"colorbar\":{\"outlinewidth\":0,\"ticks\":\"\"}},\"type\":\"scatterternary\"}],\"surface\":[{\"colorbar\":{\"outlinewidth\":0,\"ticks\":\"\"},\"colorscale\":[[0.0,\"#0d0887\"],[0.1111111111111111,\"#46039f\"],[0.2222222222222222,\"#7201a8\"],[0.3333333333333333,\"#9c179e\"],[0.4444444444444444,\"#bd3786\"],[0.5555555555555556,\"#d8576b\"],[0.6666666666666666,\"#ed7953\"],[0.7777777777777778,\"#fb9f3a\"],[0.8888888888888888,\"#fdca26\"],[1.0,\"#f0f921\"]],\"type\":\"surface\"}],\"table\":[{\"cells\":{\"fill\":{\"color\":\"#EBF0F8\"},\"line\":{\"color\":\"white\"}},\"header\":{\"fill\":{\"color\":\"#C8D4E3\"},\"line\":{\"color\":\"white\"}},\"type\":\"table\"}]},\"layout\":{\"annotationdefaults\":{\"arrowcolor\":\"#2a3f5f\",\"arrowhead\":0,\"arrowwidth\":1},\"autotypenumbers\":\"strict\",\"coloraxis\":{\"colorbar\":{\"outlinewidth\":0,\"ticks\":\"\"}},\"colorscale\":{\"diverging\":[[0,\"#8e0152\"],[0.1,\"#c51b7d\"],[0.2,\"#de77ae\"],[0.3,\"#f1b6da\"],[0.4,\"#fde0ef\"],[0.5,\"#f7f7f7\"],[0.6,\"#e6f5d0\"],[0.7,\"#b8e186\"],[0.8,\"#7fbc41\"],[0.9,\"#4d9221\"],[1,\"#276419\"]],\"sequential\":[[0.0,\"#0d0887\"],[0.1111111111111111,\"#46039f\"],[0.2222222222222222,\"#7201a8\"],[0.3333333333333333,\"#9c179e\"],[0.4444444444444444,\"#bd3786\"],[0.5555555555555556,\"#d8576b\"],[0.6666666666666666,\"#ed7953\"],[0.7777777777777778,\"#fb9f3a\"],[0.8888888888888888,\"#fdca26\"],[1.0,\"#f0f921\"]],\"sequentialminus\":[[0.0,\"#0d0887\"],[0.1111111111111111,\"#46039f\"],[0.2222222222222222,\"#7201a8\"],[0.3333333333333333,\"#9c179e\"],[0.4444444444444444,\"#bd3786\"],[0.5555555555555556,\"#d8576b\"],[0.6666666666666666,\"#ed7953\"],[0.7777777777777778,\"#fb9f3a\"],[0.8888888888888888,\"#fdca26\"],[1.0,\"#f0f921\"]]},\"colorway\":[\"#636efa\",\"#EF553B\",\"#00cc96\",\"#ab63fa\",\"#FFA15A\",\"#19d3f3\",\"#FF6692\",\"#B6E880\",\"#FF97FF\",\"#FECB52\"],\"font\":{\"color\":\"#2a3f5f\"},\"geo\":{\"bgcolor\":\"white\",\"lakecolor\":\"white\",\"landcolor\":\"#E5ECF6\",\"showlakes\":true,\"showland\":true,\"subunitcolor\":\"white\"},\"hoverlabel\":{\"align\":\"left\"},\"hovermode\":\"closest\",\"mapbox\":{\"style\":\"light\"},\"paper_bgcolor\":\"white\",\"plot_bgcolor\":\"#E5ECF6\",\"polar\":{\"angularaxis\":{\"gridcolor\":\"white\",\"linecolor\":\"white\",\"ticks\":\"\"},\"bgcolor\":\"#E5ECF6\",\"radialaxis\":{\"gridcolor\":\"white\",\"linecolor\":\"white\",\"ticks\":\"\"}},\"scene\":{\"xaxis\":{\"backgroundcolor\":\"#E5ECF6\",\"gridcolor\":\"white\",\"gridwidth\":2,\"linecolor\":\"white\",\"showbackground\":true,\"ticks\":\"\",\"zerolinecolor\":\"white\"},\"yaxis\":{\"backgroundcolor\":\"#E5ECF6\",\"gridcolor\":\"white\",\"gridwidth\":2,\"linecolor\":\"white\",\"showbackground\":true,\"ticks\":\"\",\"zerolinecolor\":\"white\"},\"zaxis\":{\"backgroundcolor\":\"#E5ECF6\",\"gridcolor\":\"white\",\"gridwidth\":2,\"linecolor\":\"white\",\"showbackground\":true,\"ticks\":\"\",\"zerolinecolor\":\"white\"}},\"shapedefaults\":{\"line\":{\"color\":\"#2a3f5f\"}},\"ternary\":{\"aaxis\":{\"gridcolor\":\"white\",\"linecolor\":\"white\",\"ticks\":\"\"},\"baxis\":{\"gridcolor\":\"white\",\"linecolor\":\"white\",\"ticks\":\"\"},\"bgcolor\":\"#E5ECF6\",\"caxis\":{\"gridcolor\":\"white\",\"linecolor\":\"white\",\"ticks\":\"\"}},\"title\":{\"x\":0.05},\"xaxis\":{\"automargin\":true,\"gridcolor\":\"white\",\"linecolor\":\"white\",\"ticks\":\"\",\"title\":{\"standoff\":15},\"zerolinecolor\":\"white\",\"zerolinewidth\":2},\"yaxis\":{\"automargin\":true,\"gridcolor\":\"white\",\"linecolor\":\"white\",\"ticks\":\"\",\"title\":{\"standoff\":15},\"zerolinecolor\":\"white\",\"zerolinewidth\":2}}},\"xaxis\":{\"anchor\":\"y\",\"domain\":[0.0,1.0],\"title\":{\"text\":\"Age\"}},\"yaxis\":{\"anchor\":\"x\",\"domain\":[0.0,1.0],\"title\":{\"text\":\"count\"}},\"legend\":{\"tracegroupgap\":0},\"margin\":{\"t\":60},\"barmode\":\"relative\"},                        {\"responsive\": true}                    ).then(function(){\n",
       "                            \n",
       "var gd = document.getElementById('b0f9f27d-6200-40a8-8ae0-d74f23685906');\n",
       "var x = new MutationObserver(function (mutations, observer) {{\n",
       "        var display = window.getComputedStyle(gd).display;\n",
       "        if (!display || display === 'none') {{\n",
       "            console.log([gd, 'removed!']);\n",
       "            Plotly.purge(gd);\n",
       "            observer.disconnect();\n",
       "        }}\n",
       "}});\n",
       "\n",
       "// Listen for the removal of the full notebook cells\n",
       "var notebookContainer = gd.closest('#notebook-container');\n",
       "if (notebookContainer) {{\n",
       "    x.observe(notebookContainer, {childList: true});\n",
       "}}\n",
       "\n",
       "// Listen for the clearing of the current output cell\n",
       "var outputEl = gd.closest('.output');\n",
       "if (outputEl) {{\n",
       "    x.observe(outputEl, {childList: true});\n",
       "}}\n",
       "\n",
       "                        })                };                });            </script>        </div>"
      ]
     },
     "metadata": {},
     "output_type": "display_data"
    }
   ],
   "source": [
    "fig = px.histogram(Obesity_data, x=\"Age\")\n",
    "\n",
    "lines_on_graph(0,300)\n",
    "lines_on_graph(1,300)\n",
    "lines_on_graph(2,300)\n",
    "lines_on_graph(3,300)\n",
    "lines_on_graph(4,300)\n",
    "lines_on_graph(5,300)\n",
    "lines_on_graph(6,300)\n",
    "\n",
    "fig.show()"
   ]
  },
  {
   "cell_type": "markdown",
   "id": "070f6143-28b0-41b0-afa6-eebdad95e5dc",
   "metadata": {},
   "source": [
    "We see that our data is right tailed with a few data records showing people in their 40's, 50's and even 60's. We also do see that Obesity and overweight might be correlated to age since our Insufficient_Weight and Normal_Weight groups are both in the younger side of our distribution when compared to the other groups.\n",
    "\n",
    "Due to our data being skewed we don't have huge insights into how obese people do later in life through the visual above. However a correlation test below will help with this."
   ]
  },
  {
   "cell_type": "markdown",
   "id": "d9f81878-d0f9-4ac8-918d-4ba74a2514e7",
   "metadata": {},
   "source": [
    "#### Family History\n",
    "\n",
    "\"wealth begets wealth\" is a common saying. Meaning wealth brings forth more wealth as in wealthy parents might raise a child who in turn will be wealthy. Family History might tell us a lot about someones likelihood of being obese. Here we will explore if \"Obesity begets obesity\"."
   ]
  },
  {
   "cell_type": "code",
   "execution_count": 135,
   "id": "82d4dc07-6a9e-4707-9382-760973bb4658",
   "metadata": {},
   "outputs": [
    {
     "data": {
      "text/html": [
       "<div>\n",
       "<style scoped>\n",
       "    .dataframe tbody tr th:only-of-type {\n",
       "        vertical-align: middle;\n",
       "    }\n",
       "\n",
       "    .dataframe tbody tr th {\n",
       "        vertical-align: top;\n",
       "    }\n",
       "\n",
       "    .dataframe thead th {\n",
       "        text-align: right;\n",
       "    }\n",
       "</style>\n",
       "<table border=\"1\" class=\"dataframe\">\n",
       "  <thead>\n",
       "    <tr style=\"text-align: right;\">\n",
       "      <th></th>\n",
       "      <th>NObeyesdad</th>\n",
       "      <th>family_history_with_overweight</th>\n",
       "      <th>counts</th>\n",
       "    </tr>\n",
       "  </thead>\n",
       "  <tbody>\n",
       "    <tr>\n",
       "      <th>0</th>\n",
       "      <td>Insufficient_Weight</td>\n",
       "      <td>no</td>\n",
       "      <td>146</td>\n",
       "    </tr>\n",
       "    <tr>\n",
       "      <th>1</th>\n",
       "      <td>Insufficient_Weight</td>\n",
       "      <td>yes</td>\n",
       "      <td>126</td>\n",
       "    </tr>\n",
       "    <tr>\n",
       "      <th>2</th>\n",
       "      <td>Normal_Weight</td>\n",
       "      <td>no</td>\n",
       "      <td>132</td>\n",
       "    </tr>\n",
       "    <tr>\n",
       "      <th>3</th>\n",
       "      <td>Normal_Weight</td>\n",
       "      <td>yes</td>\n",
       "      <td>155</td>\n",
       "    </tr>\n",
       "    <tr>\n",
       "      <th>4</th>\n",
       "      <td>Obesity_Type_I</td>\n",
       "      <td>no</td>\n",
       "      <td>7</td>\n",
       "    </tr>\n",
       "    <tr>\n",
       "      <th>5</th>\n",
       "      <td>Obesity_Type_I</td>\n",
       "      <td>yes</td>\n",
       "      <td>344</td>\n",
       "    </tr>\n",
       "    <tr>\n",
       "      <th>6</th>\n",
       "      <td>Obesity_Type_II</td>\n",
       "      <td>no</td>\n",
       "      <td>1</td>\n",
       "    </tr>\n",
       "    <tr>\n",
       "      <th>7</th>\n",
       "      <td>Obesity_Type_II</td>\n",
       "      <td>yes</td>\n",
       "      <td>296</td>\n",
       "    </tr>\n",
       "    <tr>\n",
       "      <th>8</th>\n",
       "      <td>Obesity_Type_III</td>\n",
       "      <td>yes</td>\n",
       "      <td>324</td>\n",
       "    </tr>\n",
       "    <tr>\n",
       "      <th>9</th>\n",
       "      <td>Overweight_Level_I</td>\n",
       "      <td>no</td>\n",
       "      <td>81</td>\n",
       "    </tr>\n",
       "    <tr>\n",
       "      <th>10</th>\n",
       "      <td>Overweight_Level_I</td>\n",
       "      <td>yes</td>\n",
       "      <td>209</td>\n",
       "    </tr>\n",
       "    <tr>\n",
       "      <th>11</th>\n",
       "      <td>Overweight_Level_II</td>\n",
       "      <td>no</td>\n",
       "      <td>18</td>\n",
       "    </tr>\n",
       "    <tr>\n",
       "      <th>12</th>\n",
       "      <td>Overweight_Level_II</td>\n",
       "      <td>yes</td>\n",
       "      <td>272</td>\n",
       "    </tr>\n",
       "  </tbody>\n",
       "</table>\n",
       "</div>"
      ],
      "text/plain": [
       "             NObeyesdad family_history_with_overweight  counts\n",
       "0   Insufficient_Weight                             no     146\n",
       "1   Insufficient_Weight                            yes     126\n",
       "2         Normal_Weight                             no     132\n",
       "3         Normal_Weight                            yes     155\n",
       "4        Obesity_Type_I                             no       7\n",
       "5        Obesity_Type_I                            yes     344\n",
       "6       Obesity_Type_II                             no       1\n",
       "7       Obesity_Type_II                            yes     296\n",
       "8      Obesity_Type_III                            yes     324\n",
       "9    Overweight_Level_I                             no      81\n",
       "10   Overweight_Level_I                            yes     209\n",
       "11  Overweight_Level_II                             no      18\n",
       "12  Overweight_Level_II                            yes     272"
      ]
     },
     "execution_count": 135,
     "metadata": {},
     "output_type": "execute_result"
    }
   ],
   "source": [
    "# Understanding how our population is split by gender\n",
    "family_hisotry_split = pd.read_sql(\"\"\"\n",
    "select\n",
    "NObeyesdad,\n",
    "family_history_with_overweight,\n",
    "count(*) as counts\n",
    "from Obesity_data\n",
    "group by 1,2\n",
    "\"\"\",cnx)\n",
    "family_hisotry_split"
   ]
  },
  {
   "cell_type": "code",
   "execution_count": 136,
   "id": "d187854b-449a-4035-acd7-187a8120a210",
   "metadata": {},
   "outputs": [
    {
     "data": {
      "application/vnd.plotly.v1+json": {
       "config": {
        "plotlyServerURL": "https://plot.ly"
       },
       "data": [
        {
         "alignmentgroup": "True",
         "hovertemplate": "family_history_with_overweight=no<br>NObeyesdad=%{x}<br>counts=%{y}<extra></extra>",
         "legendgroup": "no",
         "marker": {
          "color": "#636efa",
          "pattern": {
           "shape": ""
          }
         },
         "name": "no",
         "offsetgroup": "no",
         "orientation": "v",
         "showlegend": true,
         "textposition": "auto",
         "type": "bar",
         "x": [
          "Insufficient_Weight",
          "Normal_Weight",
          "Obesity_Type_I",
          "Obesity_Type_II",
          "Overweight_Level_I",
          "Overweight_Level_II"
         ],
         "xaxis": "x",
         "y": [
          146,
          132,
          7,
          1,
          81,
          18
         ],
         "yaxis": "y"
        },
        {
         "alignmentgroup": "True",
         "hovertemplate": "family_history_with_overweight=yes<br>NObeyesdad=%{x}<br>counts=%{y}<extra></extra>",
         "legendgroup": "yes",
         "marker": {
          "color": "#EF553B",
          "pattern": {
           "shape": ""
          }
         },
         "name": "yes",
         "offsetgroup": "yes",
         "orientation": "v",
         "showlegend": true,
         "textposition": "auto",
         "type": "bar",
         "x": [
          "Insufficient_Weight",
          "Normal_Weight",
          "Obesity_Type_I",
          "Obesity_Type_II",
          "Obesity_Type_III",
          "Overweight_Level_I",
          "Overweight_Level_II"
         ],
         "xaxis": "x",
         "y": [
          126,
          155,
          344,
          296,
          324,
          209,
          272
         ],
         "yaxis": "y"
        }
       ],
       "layout": {
        "autosize": true,
        "barmode": "group",
        "legend": {
         "title": {
          "text": "family_history_with_overweight"
         },
         "tracegroupgap": 0
        },
        "margin": {
         "t": 60
        },
        "template": {
         "data": {
          "bar": [
           {
            "error_x": {
             "color": "#2a3f5f"
            },
            "error_y": {
             "color": "#2a3f5f"
            },
            "marker": {
             "line": {
              "color": "#E5ECF6",
              "width": 0.5
             },
             "pattern": {
              "fillmode": "overlay",
              "size": 10,
              "solidity": 0.2
             }
            },
            "type": "bar"
           }
          ],
          "barpolar": [
           {
            "marker": {
             "line": {
              "color": "#E5ECF6",
              "width": 0.5
             },
             "pattern": {
              "fillmode": "overlay",
              "size": 10,
              "solidity": 0.2
             }
            },
            "type": "barpolar"
           }
          ],
          "carpet": [
           {
            "aaxis": {
             "endlinecolor": "#2a3f5f",
             "gridcolor": "white",
             "linecolor": "white",
             "minorgridcolor": "white",
             "startlinecolor": "#2a3f5f"
            },
            "baxis": {
             "endlinecolor": "#2a3f5f",
             "gridcolor": "white",
             "linecolor": "white",
             "minorgridcolor": "white",
             "startlinecolor": "#2a3f5f"
            },
            "type": "carpet"
           }
          ],
          "choropleth": [
           {
            "colorbar": {
             "outlinewidth": 0,
             "ticks": ""
            },
            "type": "choropleth"
           }
          ],
          "contour": [
           {
            "colorbar": {
             "outlinewidth": 0,
             "ticks": ""
            },
            "colorscale": [
             [
              0,
              "#0d0887"
             ],
             [
              0.1111111111111111,
              "#46039f"
             ],
             [
              0.2222222222222222,
              "#7201a8"
             ],
             [
              0.3333333333333333,
              "#9c179e"
             ],
             [
              0.4444444444444444,
              "#bd3786"
             ],
             [
              0.5555555555555556,
              "#d8576b"
             ],
             [
              0.6666666666666666,
              "#ed7953"
             ],
             [
              0.7777777777777778,
              "#fb9f3a"
             ],
             [
              0.8888888888888888,
              "#fdca26"
             ],
             [
              1,
              "#f0f921"
             ]
            ],
            "type": "contour"
           }
          ],
          "contourcarpet": [
           {
            "colorbar": {
             "outlinewidth": 0,
             "ticks": ""
            },
            "type": "contourcarpet"
           }
          ],
          "heatmap": [
           {
            "colorbar": {
             "outlinewidth": 0,
             "ticks": ""
            },
            "colorscale": [
             [
              0,
              "#0d0887"
             ],
             [
              0.1111111111111111,
              "#46039f"
             ],
             [
              0.2222222222222222,
              "#7201a8"
             ],
             [
              0.3333333333333333,
              "#9c179e"
             ],
             [
              0.4444444444444444,
              "#bd3786"
             ],
             [
              0.5555555555555556,
              "#d8576b"
             ],
             [
              0.6666666666666666,
              "#ed7953"
             ],
             [
              0.7777777777777778,
              "#fb9f3a"
             ],
             [
              0.8888888888888888,
              "#fdca26"
             ],
             [
              1,
              "#f0f921"
             ]
            ],
            "type": "heatmap"
           }
          ],
          "heatmapgl": [
           {
            "colorbar": {
             "outlinewidth": 0,
             "ticks": ""
            },
            "colorscale": [
             [
              0,
              "#0d0887"
             ],
             [
              0.1111111111111111,
              "#46039f"
             ],
             [
              0.2222222222222222,
              "#7201a8"
             ],
             [
              0.3333333333333333,
              "#9c179e"
             ],
             [
              0.4444444444444444,
              "#bd3786"
             ],
             [
              0.5555555555555556,
              "#d8576b"
             ],
             [
              0.6666666666666666,
              "#ed7953"
             ],
             [
              0.7777777777777778,
              "#fb9f3a"
             ],
             [
              0.8888888888888888,
              "#fdca26"
             ],
             [
              1,
              "#f0f921"
             ]
            ],
            "type": "heatmapgl"
           }
          ],
          "histogram": [
           {
            "marker": {
             "pattern": {
              "fillmode": "overlay",
              "size": 10,
              "solidity": 0.2
             }
            },
            "type": "histogram"
           }
          ],
          "histogram2d": [
           {
            "colorbar": {
             "outlinewidth": 0,
             "ticks": ""
            },
            "colorscale": [
             [
              0,
              "#0d0887"
             ],
             [
              0.1111111111111111,
              "#46039f"
             ],
             [
              0.2222222222222222,
              "#7201a8"
             ],
             [
              0.3333333333333333,
              "#9c179e"
             ],
             [
              0.4444444444444444,
              "#bd3786"
             ],
             [
              0.5555555555555556,
              "#d8576b"
             ],
             [
              0.6666666666666666,
              "#ed7953"
             ],
             [
              0.7777777777777778,
              "#fb9f3a"
             ],
             [
              0.8888888888888888,
              "#fdca26"
             ],
             [
              1,
              "#f0f921"
             ]
            ],
            "type": "histogram2d"
           }
          ],
          "histogram2dcontour": [
           {
            "colorbar": {
             "outlinewidth": 0,
             "ticks": ""
            },
            "colorscale": [
             [
              0,
              "#0d0887"
             ],
             [
              0.1111111111111111,
              "#46039f"
             ],
             [
              0.2222222222222222,
              "#7201a8"
             ],
             [
              0.3333333333333333,
              "#9c179e"
             ],
             [
              0.4444444444444444,
              "#bd3786"
             ],
             [
              0.5555555555555556,
              "#d8576b"
             ],
             [
              0.6666666666666666,
              "#ed7953"
             ],
             [
              0.7777777777777778,
              "#fb9f3a"
             ],
             [
              0.8888888888888888,
              "#fdca26"
             ],
             [
              1,
              "#f0f921"
             ]
            ],
            "type": "histogram2dcontour"
           }
          ],
          "mesh3d": [
           {
            "colorbar": {
             "outlinewidth": 0,
             "ticks": ""
            },
            "type": "mesh3d"
           }
          ],
          "parcoords": [
           {
            "line": {
             "colorbar": {
              "outlinewidth": 0,
              "ticks": ""
             }
            },
            "type": "parcoords"
           }
          ],
          "pie": [
           {
            "automargin": true,
            "type": "pie"
           }
          ],
          "scatter": [
           {
            "marker": {
             "colorbar": {
              "outlinewidth": 0,
              "ticks": ""
             }
            },
            "type": "scatter"
           }
          ],
          "scatter3d": [
           {
            "line": {
             "colorbar": {
              "outlinewidth": 0,
              "ticks": ""
             }
            },
            "marker": {
             "colorbar": {
              "outlinewidth": 0,
              "ticks": ""
             }
            },
            "type": "scatter3d"
           }
          ],
          "scattercarpet": [
           {
            "marker": {
             "colorbar": {
              "outlinewidth": 0,
              "ticks": ""
             }
            },
            "type": "scattercarpet"
           }
          ],
          "scattergeo": [
           {
            "marker": {
             "colorbar": {
              "outlinewidth": 0,
              "ticks": ""
             }
            },
            "type": "scattergeo"
           }
          ],
          "scattergl": [
           {
            "marker": {
             "colorbar": {
              "outlinewidth": 0,
              "ticks": ""
             }
            },
            "type": "scattergl"
           }
          ],
          "scattermapbox": [
           {
            "marker": {
             "colorbar": {
              "outlinewidth": 0,
              "ticks": ""
             }
            },
            "type": "scattermapbox"
           }
          ],
          "scatterpolar": [
           {
            "marker": {
             "colorbar": {
              "outlinewidth": 0,
              "ticks": ""
             }
            },
            "type": "scatterpolar"
           }
          ],
          "scatterpolargl": [
           {
            "marker": {
             "colorbar": {
              "outlinewidth": 0,
              "ticks": ""
             }
            },
            "type": "scatterpolargl"
           }
          ],
          "scatterternary": [
           {
            "marker": {
             "colorbar": {
              "outlinewidth": 0,
              "ticks": ""
             }
            },
            "type": "scatterternary"
           }
          ],
          "surface": [
           {
            "colorbar": {
             "outlinewidth": 0,
             "ticks": ""
            },
            "colorscale": [
             [
              0,
              "#0d0887"
             ],
             [
              0.1111111111111111,
              "#46039f"
             ],
             [
              0.2222222222222222,
              "#7201a8"
             ],
             [
              0.3333333333333333,
              "#9c179e"
             ],
             [
              0.4444444444444444,
              "#bd3786"
             ],
             [
              0.5555555555555556,
              "#d8576b"
             ],
             [
              0.6666666666666666,
              "#ed7953"
             ],
             [
              0.7777777777777778,
              "#fb9f3a"
             ],
             [
              0.8888888888888888,
              "#fdca26"
             ],
             [
              1,
              "#f0f921"
             ]
            ],
            "type": "surface"
           }
          ],
          "table": [
           {
            "cells": {
             "fill": {
              "color": "#EBF0F8"
             },
             "line": {
              "color": "white"
             }
            },
            "header": {
             "fill": {
              "color": "#C8D4E3"
             },
             "line": {
              "color": "white"
             }
            },
            "type": "table"
           }
          ]
         },
         "layout": {
          "annotationdefaults": {
           "arrowcolor": "#2a3f5f",
           "arrowhead": 0,
           "arrowwidth": 1
          },
          "autotypenumbers": "strict",
          "coloraxis": {
           "colorbar": {
            "outlinewidth": 0,
            "ticks": ""
           }
          },
          "colorscale": {
           "diverging": [
            [
             0,
             "#8e0152"
            ],
            [
             0.1,
             "#c51b7d"
            ],
            [
             0.2,
             "#de77ae"
            ],
            [
             0.3,
             "#f1b6da"
            ],
            [
             0.4,
             "#fde0ef"
            ],
            [
             0.5,
             "#f7f7f7"
            ],
            [
             0.6,
             "#e6f5d0"
            ],
            [
             0.7,
             "#b8e186"
            ],
            [
             0.8,
             "#7fbc41"
            ],
            [
             0.9,
             "#4d9221"
            ],
            [
             1,
             "#276419"
            ]
           ],
           "sequential": [
            [
             0,
             "#0d0887"
            ],
            [
             0.1111111111111111,
             "#46039f"
            ],
            [
             0.2222222222222222,
             "#7201a8"
            ],
            [
             0.3333333333333333,
             "#9c179e"
            ],
            [
             0.4444444444444444,
             "#bd3786"
            ],
            [
             0.5555555555555556,
             "#d8576b"
            ],
            [
             0.6666666666666666,
             "#ed7953"
            ],
            [
             0.7777777777777778,
             "#fb9f3a"
            ],
            [
             0.8888888888888888,
             "#fdca26"
            ],
            [
             1,
             "#f0f921"
            ]
           ],
           "sequentialminus": [
            [
             0,
             "#0d0887"
            ],
            [
             0.1111111111111111,
             "#46039f"
            ],
            [
             0.2222222222222222,
             "#7201a8"
            ],
            [
             0.3333333333333333,
             "#9c179e"
            ],
            [
             0.4444444444444444,
             "#bd3786"
            ],
            [
             0.5555555555555556,
             "#d8576b"
            ],
            [
             0.6666666666666666,
             "#ed7953"
            ],
            [
             0.7777777777777778,
             "#fb9f3a"
            ],
            [
             0.8888888888888888,
             "#fdca26"
            ],
            [
             1,
             "#f0f921"
            ]
           ]
          },
          "colorway": [
           "#636efa",
           "#EF553B",
           "#00cc96",
           "#ab63fa",
           "#FFA15A",
           "#19d3f3",
           "#FF6692",
           "#B6E880",
           "#FF97FF",
           "#FECB52"
          ],
          "font": {
           "color": "#2a3f5f"
          },
          "geo": {
           "bgcolor": "white",
           "lakecolor": "white",
           "landcolor": "#E5ECF6",
           "showlakes": true,
           "showland": true,
           "subunitcolor": "white"
          },
          "hoverlabel": {
           "align": "left"
          },
          "hovermode": "closest",
          "mapbox": {
           "style": "light"
          },
          "paper_bgcolor": "white",
          "plot_bgcolor": "#E5ECF6",
          "polar": {
           "angularaxis": {
            "gridcolor": "white",
            "linecolor": "white",
            "ticks": ""
           },
           "bgcolor": "#E5ECF6",
           "radialaxis": {
            "gridcolor": "white",
            "linecolor": "white",
            "ticks": ""
           }
          },
          "scene": {
           "xaxis": {
            "backgroundcolor": "#E5ECF6",
            "gridcolor": "white",
            "gridwidth": 2,
            "linecolor": "white",
            "showbackground": true,
            "ticks": "",
            "zerolinecolor": "white"
           },
           "yaxis": {
            "backgroundcolor": "#E5ECF6",
            "gridcolor": "white",
            "gridwidth": 2,
            "linecolor": "white",
            "showbackground": true,
            "ticks": "",
            "zerolinecolor": "white"
           },
           "zaxis": {
            "backgroundcolor": "#E5ECF6",
            "gridcolor": "white",
            "gridwidth": 2,
            "linecolor": "white",
            "showbackground": true,
            "ticks": "",
            "zerolinecolor": "white"
           }
          },
          "shapedefaults": {
           "line": {
            "color": "#2a3f5f"
           }
          },
          "ternary": {
           "aaxis": {
            "gridcolor": "white",
            "linecolor": "white",
            "ticks": ""
           },
           "baxis": {
            "gridcolor": "white",
            "linecolor": "white",
            "ticks": ""
           },
           "bgcolor": "#E5ECF6",
           "caxis": {
            "gridcolor": "white",
            "linecolor": "white",
            "ticks": ""
           }
          },
          "title": {
           "x": 0.05
          },
          "xaxis": {
           "automargin": true,
           "gridcolor": "white",
           "linecolor": "white",
           "ticks": "",
           "title": {
            "standoff": 15
           },
           "zerolinecolor": "white",
           "zerolinewidth": 2
          },
          "yaxis": {
           "automargin": true,
           "gridcolor": "white",
           "linecolor": "white",
           "ticks": "",
           "title": {
            "standoff": 15
           },
           "zerolinecolor": "white",
           "zerolinewidth": 2
          }
         }
        },
        "xaxis": {
         "anchor": "y",
         "autorange": true,
         "domain": [
          0,
          1
         ],
         "range": [
          -0.5,
          6.5
         ],
         "title": {
          "text": "NObeyesdad"
         },
         "type": "category"
        },
        "yaxis": {
         "anchor": "x",
         "autorange": true,
         "domain": [
          0,
          1
         ],
         "range": [
          0,
          362.10526315789474
         ],
         "title": {
          "text": "counts"
         },
         "type": "linear"
        }
       }
      },
      "image/png": "[encoded data removed]",
      "text/html": [
       "<div>                            <div id=\"9a5b0d25-9f9a-40e1-a95b-f4c57add62de\" class=\"plotly-graph-div\" style=\"height:400px; width:100%;\"></div>            <script type=\"text/javascript\">                require([\"plotly\"], function(Plotly) {                    window.PLOTLYENV=window.PLOTLYENV || {};                                    if (document.getElementById(\"9a5b0d25-9f9a-40e1-a95b-f4c57add62de\")) {                    Plotly.newPlot(                        \"9a5b0d25-9f9a-40e1-a95b-f4c57add62de\",                        [{\"alignmentgroup\":\"True\",\"hovertemplate\":\"family_history_with_overweight=no<br>NObeyesdad=%{x}<br>counts=%{y}<extra></extra>\",\"legendgroup\":\"no\",\"marker\":{\"color\":\"#636efa\",\"pattern\":{\"shape\":\"\"}},\"name\":\"no\",\"offsetgroup\":\"no\",\"orientation\":\"v\",\"showlegend\":true,\"textposition\":\"auto\",\"x\":[\"Insufficient_Weight\",\"Normal_Weight\",\"Obesity_Type_I\",\"Obesity_Type_II\",\"Overweight_Level_I\",\"Overweight_Level_II\"],\"xaxis\":\"x\",\"y\":[146,132,7,1,81,18],\"yaxis\":\"y\",\"type\":\"bar\"},{\"alignmentgroup\":\"True\",\"hovertemplate\":\"family_history_with_overweight=yes<br>NObeyesdad=%{x}<br>counts=%{y}<extra></extra>\",\"legendgroup\":\"yes\",\"marker\":{\"color\":\"#EF553B\",\"pattern\":{\"shape\":\"\"}},\"name\":\"yes\",\"offsetgroup\":\"yes\",\"orientation\":\"v\",\"showlegend\":true,\"textposition\":\"auto\",\"x\":[\"Insufficient_Weight\",\"Normal_Weight\",\"Obesity_Type_I\",\"Obesity_Type_II\",\"Obesity_Type_III\",\"Overweight_Level_I\",\"Overweight_Level_II\"],\"xaxis\":\"x\",\"y\":[126,155,344,296,324,209,272],\"yaxis\":\"y\",\"type\":\"bar\"}],                        {\"template\":{\"data\":{\"bar\":[{\"error_x\":{\"color\":\"#2a3f5f\"},\"error_y\":{\"color\":\"#2a3f5f\"},\"marker\":{\"line\":{\"color\":\"#E5ECF6\",\"width\":0.5},\"pattern\":{\"fillmode\":\"overlay\",\"size\":10,\"solidity\":0.2}},\"type\":\"bar\"}],\"barpolar\":[{\"marker\":{\"line\":{\"color\":\"#E5ECF6\",\"width\":0.5},\"pattern\":{\"fillmode\":\"overlay\",\"size\":10,\"solidity\":0.2}},\"type\":\"barpolar\"}],\"carpet\":[{\"aaxis\":{\"endlinecolor\":\"#2a3f5f\",\"gridcolor\":\"white\",\"linecolor\":\"white\",\"minorgridcolor\":\"white\",\"startlinecolor\":\"#2a3f5f\"},\"baxis\":{\"endlinecolor\":\"#2a3f5f\",\"gridcolor\":\"white\",\"linecolor\":\"white\",\"minorgridcolor\":\"white\",\"startlinecolor\":\"#2a3f5f\"},\"type\":\"carpet\"}],\"choropleth\":[{\"colorbar\":{\"outlinewidth\":0,\"ticks\":\"\"},\"type\":\"choropleth\"}],\"contour\":[{\"colorbar\":{\"outlinewidth\":0,\"ticks\":\"\"},\"colorscale\":[[0.0,\"#0d0887\"],[0.1111111111111111,\"#46039f\"],[0.2222222222222222,\"#7201a8\"],[0.3333333333333333,\"#9c179e\"],[0.4444444444444444,\"#bd3786\"],[0.5555555555555556,\"#d8576b\"],[0.6666666666666666,\"#ed7953\"],[0.7777777777777778,\"#fb9f3a\"],[0.8888888888888888,\"#fdca26\"],[1.0,\"#f0f921\"]],\"type\":\"contour\"}],\"contourcarpet\":[{\"colorbar\":{\"outlinewidth\":0,\"ticks\":\"\"},\"type\":\"contourcarpet\"}],\"heatmap\":[{\"colorbar\":{\"outlinewidth\":0,\"ticks\":\"\"},\"colorscale\":[[0.0,\"#0d0887\"],[0.1111111111111111,\"#46039f\"],[0.2222222222222222,\"#7201a8\"],[0.3333333333333333,\"#9c179e\"],[0.4444444444444444,\"#bd3786\"],[0.5555555555555556,\"#d8576b\"],[0.6666666666666666,\"#ed7953\"],[0.7777777777777778,\"#fb9f3a\"],[0.8888888888888888,\"#fdca26\"],[1.0,\"#f0f921\"]],\"type\":\"heatmap\"}],\"heatmapgl\":[{\"colorbar\":{\"outlinewidth\":0,\"ticks\":\"\"},\"colorscale\":[[0.0,\"#0d0887\"],[0.1111111111111111,\"#46039f\"],[0.2222222222222222,\"#7201a8\"],[0.3333333333333333,\"#9c179e\"],[0.4444444444444444,\"#bd3786\"],[0.5555555555555556,\"#d8576b\"],[0.6666666666666666,\"#ed7953\"],[0.7777777777777778,\"#fb9f3a\"],[0.8888888888888888,\"#fdca26\"],[1.0,\"#f0f921\"]],\"type\":\"heatmapgl\"}],\"histogram\":[{\"marker\":{\"pattern\":{\"fillmode\":\"overlay\",\"size\":10,\"solidity\":0.2}},\"type\":\"histogram\"}],\"histogram2d\":[{\"colorbar\":{\"outlinewidth\":0,\"ticks\":\"\"},\"colorscale\":[[0.0,\"#0d0887\"],[0.1111111111111111,\"#46039f\"],[0.2222222222222222,\"#7201a8\"],[0.3333333333333333,\"#9c179e\"],[0.4444444444444444,\"#bd3786\"],[0.5555555555555556,\"#d8576b\"],[0.6666666666666666,\"#ed7953\"],[0.7777777777777778,\"#fb9f3a\"],[0.8888888888888888,\"#fdca26\"],[1.0,\"#f0f921\"]],\"type\":\"histogram2d\"}],\"histogram2dcontour\":[{\"colorbar\":{\"outlinewidth\":0,\"ticks\":\"\"},\"colorscale\":[[0.0,\"#0d0887\"],[0.1111111111111111,\"#46039f\"],[0.2222222222222222,\"#7201a8\"],[0.3333333333333333,\"#9c179e\"],[0.4444444444444444,\"#bd3786\"],[0.5555555555555556,\"#d8576b\"],[0.6666666666666666,\"#ed7953\"],[0.7777777777777778,\"#fb9f3a\"],[0.8888888888888888,\"#fdca26\"],[1.0,\"#f0f921\"]],\"type\":\"histogram2dcontour\"}],\"mesh3d\":[{\"colorbar\":{\"outlinewidth\":0,\"ticks\":\"\"},\"type\":\"mesh3d\"}],\"parcoords\":[{\"line\":{\"colorbar\":{\"outlinewidth\":0,\"ticks\":\"\"}},\"type\":\"parcoords\"}],\"pie\":[{\"automargin\":true,\"type\":\"pie\"}],\"scatter\":[{\"marker\":{\"colorbar\":{\"outlinewidth\":0,\"ticks\":\"\"}},\"type\":\"scatter\"}],\"scatter3d\":[{\"line\":{\"colorbar\":{\"outlinewidth\":0,\"ticks\":\"\"}},\"marker\":{\"colorbar\":{\"outlinewidth\":0,\"ticks\":\"\"}},\"type\":\"scatter3d\"}],\"scattercarpet\":[{\"marker\":{\"colorbar\":{\"outlinewidth\":0,\"ticks\":\"\"}},\"type\":\"scattercarpet\"}],\"scattergeo\":[{\"marker\":{\"colorbar\":{\"outlinewidth\":0,\"ticks\":\"\"}},\"type\":\"scattergeo\"}],\"scattergl\":[{\"marker\":{\"colorbar\":{\"outlinewidth\":0,\"ticks\":\"\"}},\"type\":\"scattergl\"}],\"scattermapbox\":[{\"marker\":{\"colorbar\":{\"outlinewidth\":0,\"ticks\":\"\"}},\"type\":\"scattermapbox\"}],\"scatterpolar\":[{\"marker\":{\"colorbar\":{\"outlinewidth\":0,\"ticks\":\"\"}},\"type\":\"scatterpolar\"}],\"scatterpolargl\":[{\"marker\":{\"colorbar\":{\"outlinewidth\":0,\"ticks\":\"\"}},\"type\":\"scatterpolargl\"}],\"scatterternary\":[{\"marker\":{\"colorbar\":{\"outlinewidth\":0,\"ticks\":\"\"}},\"type\":\"scatterternary\"}],\"surface\":[{\"colorbar\":{\"outlinewidth\":0,\"ticks\":\"\"},\"colorscale\":[[0.0,\"#0d0887\"],[0.1111111111111111,\"#46039f\"],[0.2222222222222222,\"#7201a8\"],[0.3333333333333333,\"#9c179e\"],[0.4444444444444444,\"#bd3786\"],[0.5555555555555556,\"#d8576b\"],[0.6666666666666666,\"#ed7953\"],[0.7777777777777778,\"#fb9f3a\"],[0.8888888888888888,\"#fdca26\"],[1.0,\"#f0f921\"]],\"type\":\"surface\"}],\"table\":[{\"cells\":{\"fill\":{\"color\":\"#EBF0F8\"},\"line\":{\"color\":\"white\"}},\"header\":{\"fill\":{\"color\":\"#C8D4E3\"},\"line\":{\"color\":\"white\"}},\"type\":\"table\"}]},\"layout\":{\"annotationdefaults\":{\"arrowcolor\":\"#2a3f5f\",\"arrowhead\":0,\"arrowwidth\":1},\"autotypenumbers\":\"strict\",\"coloraxis\":{\"colorbar\":{\"outlinewidth\":0,\"ticks\":\"\"}},\"colorscale\":{\"diverging\":[[0,\"#8e0152\"],[0.1,\"#c51b7d\"],[0.2,\"#de77ae\"],[0.3,\"#f1b6da\"],[0.4,\"#fde0ef\"],[0.5,\"#f7f7f7\"],[0.6,\"#e6f5d0\"],[0.7,\"#b8e186\"],[0.8,\"#7fbc41\"],[0.9,\"#4d9221\"],[1,\"#276419\"]],\"sequential\":[[0.0,\"#0d0887\"],[0.1111111111111111,\"#46039f\"],[0.2222222222222222,\"#7201a8\"],[0.3333333333333333,\"#9c179e\"],[0.4444444444444444,\"#bd3786\"],[0.5555555555555556,\"#d8576b\"],[0.6666666666666666,\"#ed7953\"],[0.7777777777777778,\"#fb9f3a\"],[0.8888888888888888,\"#fdca26\"],[1.0,\"#f0f921\"]],\"sequentialminus\":[[0.0,\"#0d0887\"],[0.1111111111111111,\"#46039f\"],[0.2222222222222222,\"#7201a8\"],[0.3333333333333333,\"#9c179e\"],[0.4444444444444444,\"#bd3786\"],[0.5555555555555556,\"#d8576b\"],[0.6666666666666666,\"#ed7953\"],[0.7777777777777778,\"#fb9f3a\"],[0.8888888888888888,\"#fdca26\"],[1.0,\"#f0f921\"]]},\"colorway\":[\"#636efa\",\"#EF553B\",\"#00cc96\",\"#ab63fa\",\"#FFA15A\",\"#19d3f3\",\"#FF6692\",\"#B6E880\",\"#FF97FF\",\"#FECB52\"],\"font\":{\"color\":\"#2a3f5f\"},\"geo\":{\"bgcolor\":\"white\",\"lakecolor\":\"white\",\"landcolor\":\"#E5ECF6\",\"showlakes\":true,\"showland\":true,\"subunitcolor\":\"white\"},\"hoverlabel\":{\"align\":\"left\"},\"hovermode\":\"closest\",\"mapbox\":{\"style\":\"light\"},\"paper_bgcolor\":\"white\",\"plot_bgcolor\":\"#E5ECF6\",\"polar\":{\"angularaxis\":{\"gridcolor\":\"white\",\"linecolor\":\"white\",\"ticks\":\"\"},\"bgcolor\":\"#E5ECF6\",\"radialaxis\":{\"gridcolor\":\"white\",\"linecolor\":\"white\",\"ticks\":\"\"}},\"scene\":{\"xaxis\":{\"backgroundcolor\":\"#E5ECF6\",\"gridcolor\":\"white\",\"gridwidth\":2,\"linecolor\":\"white\",\"showbackground\":true,\"ticks\":\"\",\"zerolinecolor\":\"white\"},\"yaxis\":{\"backgroundcolor\":\"#E5ECF6\",\"gridcolor\":\"white\",\"gridwidth\":2,\"linecolor\":\"white\",\"showbackground\":true,\"ticks\":\"\",\"zerolinecolor\":\"white\"},\"zaxis\":{\"backgroundcolor\":\"#E5ECF6\",\"gridcolor\":\"white\",\"gridwidth\":2,\"linecolor\":\"white\",\"showbackground\":true,\"ticks\":\"\",\"zerolinecolor\":\"white\"}},\"shapedefaults\":{\"line\":{\"color\":\"#2a3f5f\"}},\"ternary\":{\"aaxis\":{\"gridcolor\":\"white\",\"linecolor\":\"white\",\"ticks\":\"\"},\"baxis\":{\"gridcolor\":\"white\",\"linecolor\":\"white\",\"ticks\":\"\"},\"bgcolor\":\"#E5ECF6\",\"caxis\":{\"gridcolor\":\"white\",\"linecolor\":\"white\",\"ticks\":\"\"}},\"title\":{\"x\":0.05},\"xaxis\":{\"automargin\":true,\"gridcolor\":\"white\",\"linecolor\":\"white\",\"ticks\":\"\",\"title\":{\"standoff\":15},\"zerolinecolor\":\"white\",\"zerolinewidth\":2},\"yaxis\":{\"automargin\":true,\"gridcolor\":\"white\",\"linecolor\":\"white\",\"ticks\":\"\",\"title\":{\"standoff\":15},\"zerolinecolor\":\"white\",\"zerolinewidth\":2}}},\"xaxis\":{\"anchor\":\"y\",\"domain\":[0.0,1.0],\"title\":{\"text\":\"NObeyesdad\"}},\"yaxis\":{\"anchor\":\"x\",\"domain\":[0.0,1.0],\"title\":{\"text\":\"counts\"}},\"legend\":{\"title\":{\"text\":\"family_history_with_overweight\"},\"tracegroupgap\":0},\"margin\":{\"t\":60},\"barmode\":\"group\",\"height\":400},                        {\"responsive\": true}                    ).then(function(){\n",
       "                            \n",
       "var gd = document.getElementById('9a5b0d25-9f9a-40e1-a95b-f4c57add62de');\n",
       "var x = new MutationObserver(function (mutations, observer) {{\n",
       "        var display = window.getComputedStyle(gd).display;\n",
       "        if (!display || display === 'none') {{\n",
       "            console.log([gd, 'removed!']);\n",
       "            Plotly.purge(gd);\n",
       "            observer.disconnect();\n",
       "        }}\n",
       "}});\n",
       "\n",
       "// Listen for the removal of the full notebook cells\n",
       "var notebookContainer = gd.closest('#notebook-container');\n",
       "if (notebookContainer) {{\n",
       "    x.observe(notebookContainer, {childList: true});\n",
       "}}\n",
       "\n",
       "// Listen for the clearing of the current output cell\n",
       "var outputEl = gd.closest('.output');\n",
       "if (outputEl) {{\n",
       "    x.observe(outputEl, {childList: true});\n",
       "}}\n",
       "\n",
       "                        })                };                });            </script>        </div>"
      ]
     },
     "metadata": {},
     "output_type": "display_data"
    }
   ],
   "source": [
    "fig = px.bar(family_hisotry_split, x=\"NObeyesdad\", y=\"counts\",\n",
    "             color='family_history_with_overweight',barmode='group',\n",
    "             height=400)\n",
    "fig.show()"
   ]
  },
  {
   "cell_type": "markdown",
   "id": "dd483638-0ed1-46cd-b71a-3ef75cb67136",
   "metadata": {},
   "source": [
    "We see that people with a history of Obesity of any kind seem to be more likely to be obese themselves. This seemed specially true for people that are obesity more than overweight."
   ]
  },
  {
   "cell_type": "markdown",
   "id": "e8830eaa-59bf-4a3b-9f3e-6475982a4095",
   "metadata": {},
   "source": [
    "#### Transportation Method"
   ]
  },
  {
   "cell_type": "code",
   "execution_count": 143,
   "id": "02d8352e-c117-422f-9336-fe0f62c882c5",
   "metadata": {},
   "outputs": [
    {
     "data": {
      "text/html": [
       "<div>\n",
       "<style scoped>\n",
       "    .dataframe tbody tr th:only-of-type {\n",
       "        vertical-align: middle;\n",
       "    }\n",
       "\n",
       "    .dataframe tbody tr th {\n",
       "        vertical-align: top;\n",
       "    }\n",
       "\n",
       "    .dataframe thead th {\n",
       "        text-align: right;\n",
       "    }\n",
       "</style>\n",
       "<table border=\"1\" class=\"dataframe\">\n",
       "  <thead>\n",
       "    <tr style=\"text-align: right;\">\n",
       "      <th></th>\n",
       "      <th>MTRANS</th>\n",
       "      <th>NObeyesdad</th>\n",
       "      <th>counts</th>\n",
       "    </tr>\n",
       "  </thead>\n",
       "  <tbody>\n",
       "    <tr>\n",
       "      <th>0</th>\n",
       "      <td>Automobile</td>\n",
       "      <td>Insufficient_Weight</td>\n",
       "      <td>46</td>\n",
       "    </tr>\n",
       "    <tr>\n",
       "      <th>1</th>\n",
       "      <td>Automobile</td>\n",
       "      <td>Normal_Weight</td>\n",
       "      <td>45</td>\n",
       "    </tr>\n",
       "    <tr>\n",
       "      <th>2</th>\n",
       "      <td>Automobile</td>\n",
       "      <td>Obesity_Type_I</td>\n",
       "      <td>110</td>\n",
       "    </tr>\n",
       "    <tr>\n",
       "      <th>3</th>\n",
       "      <td>Automobile</td>\n",
       "      <td>Obesity_Type_II</td>\n",
       "      <td>95</td>\n",
       "    </tr>\n",
       "    <tr>\n",
       "      <th>4</th>\n",
       "      <td>Automobile</td>\n",
       "      <td>Obesity_Type_III</td>\n",
       "      <td>1</td>\n",
       "    </tr>\n",
       "    <tr>\n",
       "      <th>5</th>\n",
       "      <td>Automobile</td>\n",
       "      <td>Overweight_Level_I</td>\n",
       "      <td>66</td>\n",
       "    </tr>\n",
       "    <tr>\n",
       "      <th>6</th>\n",
       "      <td>Automobile</td>\n",
       "      <td>Overweight_Level_II</td>\n",
       "      <td>94</td>\n",
       "    </tr>\n",
       "    <tr>\n",
       "      <th>7</th>\n",
       "      <td>Bike</td>\n",
       "      <td>Normal_Weight</td>\n",
       "      <td>4</td>\n",
       "    </tr>\n",
       "    <tr>\n",
       "      <th>8</th>\n",
       "      <td>Bike</td>\n",
       "      <td>Obesity_Type_II</td>\n",
       "      <td>1</td>\n",
       "    </tr>\n",
       "    <tr>\n",
       "      <th>9</th>\n",
       "      <td>Bike</td>\n",
       "      <td>Overweight_Level_I</td>\n",
       "      <td>2</td>\n",
       "    </tr>\n",
       "    <tr>\n",
       "      <th>10</th>\n",
       "      <td>Motorbike</td>\n",
       "      <td>Normal_Weight</td>\n",
       "      <td>6</td>\n",
       "    </tr>\n",
       "    <tr>\n",
       "      <th>11</th>\n",
       "      <td>Motorbike</td>\n",
       "      <td>Obesity_Type_I</td>\n",
       "      <td>3</td>\n",
       "    </tr>\n",
       "    <tr>\n",
       "      <th>12</th>\n",
       "      <td>Motorbike</td>\n",
       "      <td>Overweight_Level_I</td>\n",
       "      <td>1</td>\n",
       "    </tr>\n",
       "    <tr>\n",
       "      <th>13</th>\n",
       "      <td>Motorbike</td>\n",
       "      <td>Overweight_Level_II</td>\n",
       "      <td>1</td>\n",
       "    </tr>\n",
       "    <tr>\n",
       "      <th>14</th>\n",
       "      <td>Public_Transportation</td>\n",
       "      <td>Insufficient_Weight</td>\n",
       "      <td>220</td>\n",
       "    </tr>\n",
       "    <tr>\n",
       "      <th>15</th>\n",
       "      <td>Public_Transportation</td>\n",
       "      <td>Normal_Weight</td>\n",
       "      <td>200</td>\n",
       "    </tr>\n",
       "    <tr>\n",
       "      <th>16</th>\n",
       "      <td>Public_Transportation</td>\n",
       "      <td>Obesity_Type_I</td>\n",
       "      <td>236</td>\n",
       "    </tr>\n",
       "    <tr>\n",
       "      <th>17</th>\n",
       "      <td>Public_Transportation</td>\n",
       "      <td>Obesity_Type_II</td>\n",
       "      <td>200</td>\n",
       "    </tr>\n",
       "    <tr>\n",
       "      <th>18</th>\n",
       "      <td>Public_Transportation</td>\n",
       "      <td>Obesity_Type_III</td>\n",
       "      <td>323</td>\n",
       "    </tr>\n",
       "    <tr>\n",
       "      <th>19</th>\n",
       "      <td>Public_Transportation</td>\n",
       "      <td>Overweight_Level_I</td>\n",
       "      <td>212</td>\n",
       "    </tr>\n",
       "    <tr>\n",
       "      <th>20</th>\n",
       "      <td>Public_Transportation</td>\n",
       "      <td>Overweight_Level_II</td>\n",
       "      <td>189</td>\n",
       "    </tr>\n",
       "    <tr>\n",
       "      <th>21</th>\n",
       "      <td>Walking</td>\n",
       "      <td>Insufficient_Weight</td>\n",
       "      <td>6</td>\n",
       "    </tr>\n",
       "    <tr>\n",
       "      <th>22</th>\n",
       "      <td>Walking</td>\n",
       "      <td>Normal_Weight</td>\n",
       "      <td>32</td>\n",
       "    </tr>\n",
       "    <tr>\n",
       "      <th>23</th>\n",
       "      <td>Walking</td>\n",
       "      <td>Obesity_Type_I</td>\n",
       "      <td>2</td>\n",
       "    </tr>\n",
       "    <tr>\n",
       "      <th>24</th>\n",
       "      <td>Walking</td>\n",
       "      <td>Obesity_Type_II</td>\n",
       "      <td>1</td>\n",
       "    </tr>\n",
       "    <tr>\n",
       "      <th>25</th>\n",
       "      <td>Walking</td>\n",
       "      <td>Overweight_Level_I</td>\n",
       "      <td>9</td>\n",
       "    </tr>\n",
       "    <tr>\n",
       "      <th>26</th>\n",
       "      <td>Walking</td>\n",
       "      <td>Overweight_Level_II</td>\n",
       "      <td>6</td>\n",
       "    </tr>\n",
       "  </tbody>\n",
       "</table>\n",
       "</div>"
      ],
      "text/plain": [
       "                   MTRANS           NObeyesdad  counts\n",
       "0              Automobile  Insufficient_Weight      46\n",
       "1              Automobile        Normal_Weight      45\n",
       "2              Automobile       Obesity_Type_I     110\n",
       "3              Automobile      Obesity_Type_II      95\n",
       "4              Automobile     Obesity_Type_III       1\n",
       "5              Automobile   Overweight_Level_I      66\n",
       "6              Automobile  Overweight_Level_II      94\n",
       "7                    Bike        Normal_Weight       4\n",
       "8                    Bike      Obesity_Type_II       1\n",
       "9                    Bike   Overweight_Level_I       2\n",
       "10              Motorbike        Normal_Weight       6\n",
       "11              Motorbike       Obesity_Type_I       3\n",
       "12              Motorbike   Overweight_Level_I       1\n",
       "13              Motorbike  Overweight_Level_II       1\n",
       "14  Public_Transportation  Insufficient_Weight     220\n",
       "15  Public_Transportation        Normal_Weight     200\n",
       "16  Public_Transportation       Obesity_Type_I     236\n",
       "17  Public_Transportation      Obesity_Type_II     200\n",
       "18  Public_Transportation     Obesity_Type_III     323\n",
       "19  Public_Transportation   Overweight_Level_I     212\n",
       "20  Public_Transportation  Overweight_Level_II     189\n",
       "21                Walking  Insufficient_Weight       6\n",
       "22                Walking        Normal_Weight      32\n",
       "23                Walking       Obesity_Type_I       2\n",
       "24                Walking      Obesity_Type_II       1\n",
       "25                Walking   Overweight_Level_I       9\n",
       "26                Walking  Overweight_Level_II       6"
      ]
     },
     "execution_count": 143,
     "metadata": {},
     "output_type": "execute_result"
    }
   ],
   "source": [
    "# Understanding how our population is split by gender\n",
    "MTRANS_split = pd.read_sql(\"\"\"\n",
    "SELECT\n",
    "MTRANS,\n",
    "NObeyesdad,\n",
    "count(*) as counts\n",
    "FROM Obesity_data\n",
    "GROUP BY 1,2\n",
    "\"\"\",cnx)\n",
    "MTRANS_split"
   ]
  },
  {
   "cell_type": "code",
   "execution_count": 145,
   "id": "4ca5f8af-b543-499d-8dbb-ca09e60359af",
   "metadata": {},
   "outputs": [
    {
     "data": {
      "application/vnd.plotly.v1+json": {
       "config": {
        "plotlyServerURL": "https://plot.ly"
       },
       "data": [
        {
         "alignmentgroup": "True",
         "hovertemplate": "MTRANS=Automobile<br>NObeyesdad=%{x}<br>counts=%{y}<extra></extra>",
         "legendgroup": "Automobile",
         "marker": {
          "color": "#636efa",
          "pattern": {
           "shape": ""
          }
         },
         "name": "Automobile",
         "offsetgroup": "Automobile",
         "orientation": "v",
         "showlegend": true,
         "textposition": "auto",
         "type": "bar",
         "visible": true,
         "x": [
          "Insufficient_Weight",
          "Normal_Weight",
          "Obesity_Type_I",
          "Obesity_Type_II",
          "Obesity_Type_III",
          "Overweight_Level_I",
          "Overweight_Level_II"
         ],
         "xaxis": "x",
         "y": [
          46,
          45,
          110,
          95,
          1,
          66,
          94
         ],
         "yaxis": "y"
        },
        {
         "alignmentgroup": "True",
         "hovertemplate": "MTRANS=Bike<br>NObeyesdad=%{x}<br>counts=%{y}<extra></extra>",
         "legendgroup": "Bike",
         "marker": {
          "color": "#EF553B",
          "pattern": {
           "shape": ""
          }
         },
         "name": "Bike",
         "offsetgroup": "Bike",
         "orientation": "v",
         "showlegend": true,
         "textposition": "auto",
         "type": "bar",
         "visible": true,
         "x": [
          "Normal_Weight",
          "Obesity_Type_II",
          "Overweight_Level_I"
         ],
         "xaxis": "x",
         "y": [
          4,
          1,
          2
         ],
         "yaxis": "y"
        },
        {
         "alignmentgroup": "True",
         "hovertemplate": "MTRANS=Motorbike<br>NObeyesdad=%{x}<br>counts=%{y}<extra></extra>",
         "legendgroup": "Motorbike",
         "marker": {
          "color": "#00cc96",
          "pattern": {
           "shape": ""
          }
         },
         "name": "Motorbike",
         "offsetgroup": "Motorbike",
         "orientation": "v",
         "showlegend": true,
         "textposition": "auto",
         "type": "bar",
         "visible": true,
         "x": [
          "Normal_Weight",
          "Obesity_Type_I",
          "Overweight_Level_I",
          "Overweight_Level_II"
         ],
         "xaxis": "x",
         "y": [
          6,
          3,
          1,
          1
         ],
         "yaxis": "y"
        },
        {
         "alignmentgroup": "True",
         "hovertemplate": "MTRANS=Public_Transportation<br>NObeyesdad=%{x}<br>counts=%{y}<extra></extra>",
         "legendgroup": "Public_Transportation",
         "marker": {
          "color": "#ab63fa",
          "pattern": {
           "shape": ""
          }
         },
         "name": "Public_Transportation",
         "offsetgroup": "Public_Transportation",
         "orientation": "v",
         "showlegend": true,
         "textposition": "auto",
         "type": "bar",
         "visible": true,
         "x": [
          "Insufficient_Weight",
          "Normal_Weight",
          "Obesity_Type_I",
          "Obesity_Type_II",
          "Obesity_Type_III",
          "Overweight_Level_I",
          "Overweight_Level_II"
         ],
         "xaxis": "x",
         "y": [
          220,
          200,
          236,
          200,
          323,
          212,
          189
         ],
         "yaxis": "y"
        },
        {
         "alignmentgroup": "True",
         "hovertemplate": "MTRANS=Walking<br>NObeyesdad=%{x}<br>counts=%{y}<extra></extra>",
         "legendgroup": "Walking",
         "marker": {
          "color": "#FFA15A",
          "pattern": {
           "shape": ""
          }
         },
         "name": "Walking",
         "offsetgroup": "Walking",
         "orientation": "v",
         "showlegend": true,
         "textposition": "auto",
         "type": "bar",
         "visible": true,
         "x": [
          "Insufficient_Weight",
          "Normal_Weight",
          "Obesity_Type_I",
          "Obesity_Type_II",
          "Overweight_Level_I",
          "Overweight_Level_II"
         ],
         "xaxis": "x",
         "y": [
          6,
          32,
          2,
          1,
          9,
          6
         ],
         "yaxis": "y"
        }
       ],
       "layout": {
        "autosize": true,
        "barmode": "relative",
        "legend": {
         "title": {
          "text": "MTRANS"
         },
         "tracegroupgap": 0
        },
        "margin": {
         "t": 60
        },
        "template": {
         "data": {
          "bar": [
           {
            "error_x": {
             "color": "#2a3f5f"
            },
            "error_y": {
             "color": "#2a3f5f"
            },
            "marker": {
             "line": {
              "color": "#E5ECF6",
              "width": 0.5
             },
             "pattern": {
              "fillmode": "overlay",
              "size": 10,
              "solidity": 0.2
             }
            },
            "type": "bar"
           }
          ],
          "barpolar": [
           {
            "marker": {
             "line": {
              "color": "#E5ECF6",
              "width": 0.5
             },
             "pattern": {
              "fillmode": "overlay",
              "size": 10,
              "solidity": 0.2
             }
            },
            "type": "barpolar"
           }
          ],
          "carpet": [
           {
            "aaxis": {
             "endlinecolor": "#2a3f5f",
             "gridcolor": "white",
             "linecolor": "white",
             "minorgridcolor": "white",
             "startlinecolor": "#2a3f5f"
            },
            "baxis": {
             "endlinecolor": "#2a3f5f",
             "gridcolor": "white",
             "linecolor": "white",
             "minorgridcolor": "white",
             "startlinecolor": "#2a3f5f"
            },
            "type": "carpet"
           }
          ],
          "choropleth": [
           {
            "colorbar": {
             "outlinewidth": 0,
             "ticks": ""
            },
            "type": "choropleth"
           }
          ],
          "contour": [
           {
            "colorbar": {
             "outlinewidth": 0,
             "ticks": ""
            },
            "colorscale": [
             [
              0,
              "#0d0887"
             ],
             [
              0.1111111111111111,
              "#46039f"
             ],
             [
              0.2222222222222222,
              "#7201a8"
             ],
             [
              0.3333333333333333,
              "#9c179e"
             ],
             [
              0.4444444444444444,
              "#bd3786"
             ],
             [
              0.5555555555555556,
              "#d8576b"
             ],
             [
              0.6666666666666666,
              "#ed7953"
             ],
             [
              0.7777777777777778,
              "#fb9f3a"
             ],
             [
              0.8888888888888888,
              "#fdca26"
             ],
             [
              1,
              "#f0f921"
             ]
            ],
            "type": "contour"
           }
          ],
          "contourcarpet": [
           {
            "colorbar": {
             "outlinewidth": 0,
             "ticks": ""
            },
            "type": "contourcarpet"
           }
          ],
          "heatmap": [
           {
            "colorbar": {
             "outlinewidth": 0,
             "ticks": ""
            },
            "colorscale": [
             [
              0,
              "#0d0887"
             ],
             [
              0.1111111111111111,
              "#46039f"
             ],
             [
              0.2222222222222222,
              "#7201a8"
             ],
             [
              0.3333333333333333,
              "#9c179e"
             ],
             [
              0.4444444444444444,
              "#bd3786"
             ],
             [
              0.5555555555555556,
              "#d8576b"
             ],
             [
              0.6666666666666666,
              "#ed7953"
             ],
             [
              0.7777777777777778,
              "#fb9f3a"
             ],
             [
              0.8888888888888888,
              "#fdca26"
             ],
             [
              1,
              "#f0f921"
             ]
            ],
            "type": "heatmap"
           }
          ],
          "heatmapgl": [
           {
            "colorbar": {
             "outlinewidth": 0,
             "ticks": ""
            },
            "colorscale": [
             [
              0,
              "#0d0887"
             ],
             [
              0.1111111111111111,
              "#46039f"
             ],
             [
              0.2222222222222222,
              "#7201a8"
             ],
             [
              0.3333333333333333,
              "#9c179e"
             ],
             [
              0.4444444444444444,
              "#bd3786"
             ],
             [
              0.5555555555555556,
              "#d8576b"
             ],
             [
              0.6666666666666666,
              "#ed7953"
             ],
             [
              0.7777777777777778,
              "#fb9f3a"
             ],
             [
              0.8888888888888888,
              "#fdca26"
             ],
             [
              1,
              "#f0f921"
             ]
            ],
            "type": "heatmapgl"
           }
          ],
          "histogram": [
           {
            "marker": {
             "pattern": {
              "fillmode": "overlay",
              "size": 10,
              "solidity": 0.2
             }
            },
            "type": "histogram"
           }
          ],
          "histogram2d": [
           {
            "colorbar": {
             "outlinewidth": 0,
             "ticks": ""
            },
            "colorscale": [
             [
              0,
              "#0d0887"
             ],
             [
              0.1111111111111111,
              "#46039f"
             ],
             [
              0.2222222222222222,
              "#7201a8"
             ],
             [
              0.3333333333333333,
              "#9c179e"
             ],
             [
              0.4444444444444444,
              "#bd3786"
             ],
             [
              0.5555555555555556,
              "#d8576b"
             ],
             [
              0.6666666666666666,
              "#ed7953"
             ],
             [
              0.7777777777777778,
              "#fb9f3a"
             ],
             [
              0.8888888888888888,
              "#fdca26"
             ],
             [
              1,
              "#f0f921"
             ]
            ],
            "type": "histogram2d"
           }
          ],
          "histogram2dcontour": [
           {
            "colorbar": {
             "outlinewidth": 0,
             "ticks": ""
            },
            "colorscale": [
             [
              0,
              "#0d0887"
             ],
             [
              0.1111111111111111,
              "#46039f"
             ],
             [
              0.2222222222222222,
              "#7201a8"
             ],
             [
              0.3333333333333333,
              "#9c179e"
             ],
             [
              0.4444444444444444,
              "#bd3786"
             ],
             [
              0.5555555555555556,
              "#d8576b"
             ],
             [
              0.6666666666666666,
              "#ed7953"
             ],
             [
              0.7777777777777778,
              "#fb9f3a"
             ],
             [
              0.8888888888888888,
              "#fdca26"
             ],
             [
              1,
              "#f0f921"
             ]
            ],
            "type": "histogram2dcontour"
           }
          ],
          "mesh3d": [
           {
            "colorbar": {
             "outlinewidth": 0,
             "ticks": ""
            },
            "type": "mesh3d"
           }
          ],
          "parcoords": [
           {
            "line": {
             "colorbar": {
              "outlinewidth": 0,
              "ticks": ""
             }
            },
            "type": "parcoords"
           }
          ],
          "pie": [
           {
            "automargin": true,
            "type": "pie"
           }
          ],
          "scatter": [
           {
            "marker": {
             "colorbar": {
              "outlinewidth": 0,
              "ticks": ""
             }
            },
            "type": "scatter"
           }
          ],
          "scatter3d": [
           {
            "line": {
             "colorbar": {
              "outlinewidth": 0,
              "ticks": ""
             }
            },
            "marker": {
             "colorbar": {
              "outlinewidth": 0,
              "ticks": ""
             }
            },
            "type": "scatter3d"
           }
          ],
          "scattercarpet": [
           {
            "marker": {
             "colorbar": {
              "outlinewidth": 0,
              "ticks": ""
             }
            },
            "type": "scattercarpet"
           }
          ],
          "scattergeo": [
           {
            "marker": {
             "colorbar": {
              "outlinewidth": 0,
              "ticks": ""
             }
            },
            "type": "scattergeo"
           }
          ],
          "scattergl": [
           {
            "marker": {
             "colorbar": {
              "outlinewidth": 0,
              "ticks": ""
             }
            },
            "type": "scattergl"
           }
          ],
          "scattermapbox": [
           {
            "marker": {
             "colorbar": {
              "outlinewidth": 0,
              "ticks": ""
             }
            },
            "type": "scattermapbox"
           }
          ],
          "scatterpolar": [
           {
            "marker": {
             "colorbar": {
              "outlinewidth": 0,
              "ticks": ""
             }
            },
            "type": "scatterpolar"
           }
          ],
          "scatterpolargl": [
           {
            "marker": {
             "colorbar": {
              "outlinewidth": 0,
              "ticks": ""
             }
            },
            "type": "scatterpolargl"
           }
          ],
          "scatterternary": [
           {
            "marker": {
             "colorbar": {
              "outlinewidth": 0,
              "ticks": ""
             }
            },
            "type": "scatterternary"
           }
          ],
          "surface": [
           {
            "colorbar": {
             "outlinewidth": 0,
             "ticks": ""
            },
            "colorscale": [
             [
              0,
              "#0d0887"
             ],
             [
              0.1111111111111111,
              "#46039f"
             ],
             [
              0.2222222222222222,
              "#7201a8"
             ],
             [
              0.3333333333333333,
              "#9c179e"
             ],
             [
              0.4444444444444444,
              "#bd3786"
             ],
             [
              0.5555555555555556,
              "#d8576b"
             ],
             [
              0.6666666666666666,
              "#ed7953"
             ],
             [
              0.7777777777777778,
              "#fb9f3a"
             ],
             [
              0.8888888888888888,
              "#fdca26"
             ],
             [
              1,
              "#f0f921"
             ]
            ],
            "type": "surface"
           }
          ],
          "table": [
           {
            "cells": {
             "fill": {
              "color": "#EBF0F8"
             },
             "line": {
              "color": "white"
             }
            },
            "header": {
             "fill": {
              "color": "#C8D4E3"
             },
             "line": {
              "color": "white"
             }
            },
            "type": "table"
           }
          ]
         },
         "layout": {
          "annotationdefaults": {
           "arrowcolor": "#2a3f5f",
           "arrowhead": 0,
           "arrowwidth": 1
          },
          "autotypenumbers": "strict",
          "coloraxis": {
           "colorbar": {
            "outlinewidth": 0,
            "ticks": ""
           }
          },
          "colorscale": {
           "diverging": [
            [
             0,
             "#8e0152"
            ],
            [
             0.1,
             "#c51b7d"
            ],
            [
             0.2,
             "#de77ae"
            ],
            [
             0.3,
             "#f1b6da"
            ],
            [
             0.4,
             "#fde0ef"
            ],
            [
             0.5,
             "#f7f7f7"
            ],
            [
             0.6,
             "#e6f5d0"
            ],
            [
             0.7,
             "#b8e186"
            ],
            [
             0.8,
             "#7fbc41"
            ],
            [
             0.9,
             "#4d9221"
            ],
            [
             1,
             "#276419"
            ]
           ],
           "sequential": [
            [
             0,
             "#0d0887"
            ],
            [
             0.1111111111111111,
             "#46039f"
            ],
            [
             0.2222222222222222,
             "#7201a8"
            ],
            [
             0.3333333333333333,
             "#9c179e"
            ],
            [
             0.4444444444444444,
             "#bd3786"
            ],
            [
             0.5555555555555556,
             "#d8576b"
            ],
            [
             0.6666666666666666,
             "#ed7953"
            ],
            [
             0.7777777777777778,
             "#fb9f3a"
            ],
            [
             0.8888888888888888,
             "#fdca26"
            ],
            [
             1,
             "#f0f921"
            ]
           ],
           "sequentialminus": [
            [
             0,
             "#0d0887"
            ],
            [
             0.1111111111111111,
             "#46039f"
            ],
            [
             0.2222222222222222,
             "#7201a8"
            ],
            [
             0.3333333333333333,
             "#9c179e"
            ],
            [
             0.4444444444444444,
             "#bd3786"
            ],
            [
             0.5555555555555556,
             "#d8576b"
            ],
            [
             0.6666666666666666,
             "#ed7953"
            ],
            [
             0.7777777777777778,
             "#fb9f3a"
            ],
            [
             0.8888888888888888,
             "#fdca26"
            ],
            [
             1,
             "#f0f921"
            ]
           ]
          },
          "colorway": [
           "#636efa",
           "#EF553B",
           "#00cc96",
           "#ab63fa",
           "#FFA15A",
           "#19d3f3",
           "#FF6692",
           "#B6E880",
           "#FF97FF",
           "#FECB52"
          ],
          "font": {
           "color": "#2a3f5f"
          },
          "geo": {
           "bgcolor": "white",
           "lakecolor": "white",
           "landcolor": "#E5ECF6",
           "showlakes": true,
           "showland": true,
           "subunitcolor": "white"
          },
          "hoverlabel": {
           "align": "left"
          },
          "hovermode": "closest",
          "mapbox": {
           "style": "light"
          },
          "paper_bgcolor": "white",
          "plot_bgcolor": "#E5ECF6",
          "polar": {
           "angularaxis": {
            "gridcolor": "white",
            "linecolor": "white",
            "ticks": ""
           },
           "bgcolor": "#E5ECF6",
           "radialaxis": {
            "gridcolor": "white",
            "linecolor": "white",
            "ticks": ""
           }
          },
          "scene": {
           "xaxis": {
            "backgroundcolor": "#E5ECF6",
            "gridcolor": "white",
            "gridwidth": 2,
            "linecolor": "white",
            "showbackground": true,
            "ticks": "",
            "zerolinecolor": "white"
           },
           "yaxis": {
            "backgroundcolor": "#E5ECF6",
            "gridcolor": "white",
            "gridwidth": 2,
            "linecolor": "white",
            "showbackground": true,
            "ticks": "",
            "zerolinecolor": "white"
           },
           "zaxis": {
            "backgroundcolor": "#E5ECF6",
            "gridcolor": "white",
            "gridwidth": 2,
            "linecolor": "white",
            "showbackground": true,
            "ticks": "",
            "zerolinecolor": "white"
           }
          },
          "shapedefaults": {
           "line": {
            "color": "#2a3f5f"
           }
          },
          "ternary": {
           "aaxis": {
            "gridcolor": "white",
            "linecolor": "white",
            "ticks": ""
           },
           "baxis": {
            "gridcolor": "white",
            "linecolor": "white",
            "ticks": ""
           },
           "bgcolor": "#E5ECF6",
           "caxis": {
            "gridcolor": "white",
            "linecolor": "white",
            "ticks": ""
           }
          },
          "title": {
           "x": 0.05
          },
          "xaxis": {
           "automargin": true,
           "gridcolor": "white",
           "linecolor": "white",
           "ticks": "",
           "title": {
            "standoff": 15
           },
           "zerolinecolor": "white",
           "zerolinewidth": 2
          },
          "yaxis": {
           "automargin": true,
           "gridcolor": "white",
           "linecolor": "white",
           "ticks": "",
           "title": {
            "standoff": 15
           },
           "zerolinecolor": "white",
           "zerolinewidth": 2
          }
         }
        },
        "xaxis": {
         "anchor": "y",
         "autorange": true,
         "domain": [
          0,
          1
         ],
         "range": [
          -0.5,
          6.5
         ],
         "title": {
          "text": "NObeyesdad"
         },
         "type": "category"
        },
        "yaxis": {
         "anchor": "x",
         "autorange": true,
         "domain": [
          0,
          1
         ],
         "range": [
          0,
          369.4736842105263
         ],
         "title": {
          "text": "counts"
         },
         "type": "linear"
        }
       }
      },
      "image/png": "[encoded data removed]",
      "text/html": [
       "<div>                            <div id=\"a7fc05fc-d92d-48e7-95c8-dd5924666c71\" class=\"plotly-graph-div\" style=\"height:400px; width:100%;\"></div>            <script type=\"text/javascript\">                require([\"plotly\"], function(Plotly) {                    window.PLOTLYENV=window.PLOTLYENV || {};                                    if (document.getElementById(\"a7fc05fc-d92d-48e7-95c8-dd5924666c71\")) {                    Plotly.newPlot(                        \"a7fc05fc-d92d-48e7-95c8-dd5924666c71\",                        [{\"alignmentgroup\":\"True\",\"hovertemplate\":\"MTRANS=Automobile<br>NObeyesdad=%{x}<br>counts=%{y}<extra></extra>\",\"legendgroup\":\"Automobile\",\"marker\":{\"color\":\"#636efa\",\"pattern\":{\"shape\":\"\"}},\"name\":\"Automobile\",\"offsetgroup\":\"Automobile\",\"orientation\":\"v\",\"showlegend\":true,\"textposition\":\"auto\",\"x\":[\"Insufficient_Weight\",\"Normal_Weight\",\"Obesity_Type_I\",\"Obesity_Type_II\",\"Obesity_Type_III\",\"Overweight_Level_I\",\"Overweight_Level_II\"],\"xaxis\":\"x\",\"y\":[46,45,110,95,1,66,94],\"yaxis\":\"y\",\"type\":\"bar\"},{\"alignmentgroup\":\"True\",\"hovertemplate\":\"MTRANS=Bike<br>NObeyesdad=%{x}<br>counts=%{y}<extra></extra>\",\"legendgroup\":\"Bike\",\"marker\":{\"color\":\"#EF553B\",\"pattern\":{\"shape\":\"\"}},\"name\":\"Bike\",\"offsetgroup\":\"Bike\",\"orientation\":\"v\",\"showlegend\":true,\"textposition\":\"auto\",\"x\":[\"Normal_Weight\",\"Obesity_Type_II\",\"Overweight_Level_I\"],\"xaxis\":\"x\",\"y\":[4,1,2],\"yaxis\":\"y\",\"type\":\"bar\"},{\"alignmentgroup\":\"True\",\"hovertemplate\":\"MTRANS=Motorbike<br>NObeyesdad=%{x}<br>counts=%{y}<extra></extra>\",\"legendgroup\":\"Motorbike\",\"marker\":{\"color\":\"#00cc96\",\"pattern\":{\"shape\":\"\"}},\"name\":\"Motorbike\",\"offsetgroup\":\"Motorbike\",\"orientation\":\"v\",\"showlegend\":true,\"textposition\":\"auto\",\"x\":[\"Normal_Weight\",\"Obesity_Type_I\",\"Overweight_Level_I\",\"Overweight_Level_II\"],\"xaxis\":\"x\",\"y\":[6,3,1,1],\"yaxis\":\"y\",\"type\":\"bar\"},{\"alignmentgroup\":\"True\",\"hovertemplate\":\"MTRANS=Public_Transportation<br>NObeyesdad=%{x}<br>counts=%{y}<extra></extra>\",\"legendgroup\":\"Public_Transportation\",\"marker\":{\"color\":\"#ab63fa\",\"pattern\":{\"shape\":\"\"}},\"name\":\"Public_Transportation\",\"offsetgroup\":\"Public_Transportation\",\"orientation\":\"v\",\"showlegend\":true,\"textposition\":\"auto\",\"x\":[\"Insufficient_Weight\",\"Normal_Weight\",\"Obesity_Type_I\",\"Obesity_Type_II\",\"Obesity_Type_III\",\"Overweight_Level_I\",\"Overweight_Level_II\"],\"xaxis\":\"x\",\"y\":[220,200,236,200,323,212,189],\"yaxis\":\"y\",\"type\":\"bar\"},{\"alignmentgroup\":\"True\",\"hovertemplate\":\"MTRANS=Walking<br>NObeyesdad=%{x}<br>counts=%{y}<extra></extra>\",\"legendgroup\":\"Walking\",\"marker\":{\"color\":\"#FFA15A\",\"pattern\":{\"shape\":\"\"}},\"name\":\"Walking\",\"offsetgroup\":\"Walking\",\"orientation\":\"v\",\"showlegend\":true,\"textposition\":\"auto\",\"x\":[\"Insufficient_Weight\",\"Normal_Weight\",\"Obesity_Type_I\",\"Obesity_Type_II\",\"Overweight_Level_I\",\"Overweight_Level_II\"],\"xaxis\":\"x\",\"y\":[6,32,2,1,9,6],\"yaxis\":\"y\",\"type\":\"bar\"}],                        {\"template\":{\"data\":{\"bar\":[{\"error_x\":{\"color\":\"#2a3f5f\"},\"error_y\":{\"color\":\"#2a3f5f\"},\"marker\":{\"line\":{\"color\":\"#E5ECF6\",\"width\":0.5},\"pattern\":{\"fillmode\":\"overlay\",\"size\":10,\"solidity\":0.2}},\"type\":\"bar\"}],\"barpolar\":[{\"marker\":{\"line\":{\"color\":\"#E5ECF6\",\"width\":0.5},\"pattern\":{\"fillmode\":\"overlay\",\"size\":10,\"solidity\":0.2}},\"type\":\"barpolar\"}],\"carpet\":[{\"aaxis\":{\"endlinecolor\":\"#2a3f5f\",\"gridcolor\":\"white\",\"linecolor\":\"white\",\"minorgridcolor\":\"white\",\"startlinecolor\":\"#2a3f5f\"},\"baxis\":{\"endlinecolor\":\"#2a3f5f\",\"gridcolor\":\"white\",\"linecolor\":\"white\",\"minorgridcolor\":\"white\",\"startlinecolor\":\"#2a3f5f\"},\"type\":\"carpet\"}],\"choropleth\":[{\"colorbar\":{\"outlinewidth\":0,\"ticks\":\"\"},\"type\":\"choropleth\"}],\"contour\":[{\"colorbar\":{\"outlinewidth\":0,\"ticks\":\"\"},\"colorscale\":[[0.0,\"#0d0887\"],[0.1111111111111111,\"#46039f\"],[0.2222222222222222,\"#7201a8\"],[0.3333333333333333,\"#9c179e\"],[0.4444444444444444,\"#bd3786\"],[0.5555555555555556,\"#d8576b\"],[0.6666666666666666,\"#ed7953\"],[0.7777777777777778,\"#fb9f3a\"],[0.8888888888888888,\"#fdca26\"],[1.0,\"#f0f921\"]],\"type\":\"contour\"}],\"contourcarpet\":[{\"colorbar\":{\"outlinewidth\":0,\"ticks\":\"\"},\"type\":\"contourcarpet\"}],\"heatmap\":[{\"colorbar\":{\"outlinewidth\":0,\"ticks\":\"\"},\"colorscale\":[[0.0,\"#0d0887\"],[0.1111111111111111,\"#46039f\"],[0.2222222222222222,\"#7201a8\"],[0.3333333333333333,\"#9c179e\"],[0.4444444444444444,\"#bd3786\"],[0.5555555555555556,\"#d8576b\"],[0.6666666666666666,\"#ed7953\"],[0.7777777777777778,\"#fb9f3a\"],[0.8888888888888888,\"#fdca26\"],[1.0,\"#f0f921\"]],\"type\":\"heatmap\"}],\"heatmapgl\":[{\"colorbar\":{\"outlinewidth\":0,\"ticks\":\"\"},\"colorscale\":[[0.0,\"#0d0887\"],[0.1111111111111111,\"#46039f\"],[0.2222222222222222,\"#7201a8\"],[0.3333333333333333,\"#9c179e\"],[0.4444444444444444,\"#bd3786\"],[0.5555555555555556,\"#d8576b\"],[0.6666666666666666,\"#ed7953\"],[0.7777777777777778,\"#fb9f3a\"],[0.8888888888888888,\"#fdca26\"],[1.0,\"#f0f921\"]],\"type\":\"heatmapgl\"}],\"histogram\":[{\"marker\":{\"pattern\":{\"fillmode\":\"overlay\",\"size\":10,\"solidity\":0.2}},\"type\":\"histogram\"}],\"histogram2d\":[{\"colorbar\":{\"outlinewidth\":0,\"ticks\":\"\"},\"colorscale\":[[0.0,\"#0d0887\"],[0.1111111111111111,\"#46039f\"],[0.2222222222222222,\"#7201a8\"],[0.3333333333333333,\"#9c179e\"],[0.4444444444444444,\"#bd3786\"],[0.5555555555555556,\"#d8576b\"],[0.6666666666666666,\"#ed7953\"],[0.7777777777777778,\"#fb9f3a\"],[0.8888888888888888,\"#fdca26\"],[1.0,\"#f0f921\"]],\"type\":\"histogram2d\"}],\"histogram2dcontour\":[{\"colorbar\":{\"outlinewidth\":0,\"ticks\":\"\"},\"colorscale\":[[0.0,\"#0d0887\"],[0.1111111111111111,\"#46039f\"],[0.2222222222222222,\"#7201a8\"],[0.3333333333333333,\"#9c179e\"],[0.4444444444444444,\"#bd3786\"],[0.5555555555555556,\"#d8576b\"],[0.6666666666666666,\"#ed7953\"],[0.7777777777777778,\"#fb9f3a\"],[0.8888888888888888,\"#fdca26\"],[1.0,\"#f0f921\"]],\"type\":\"histogram2dcontour\"}],\"mesh3d\":[{\"colorbar\":{\"outlinewidth\":0,\"ticks\":\"\"},\"type\":\"mesh3d\"}],\"parcoords\":[{\"line\":{\"colorbar\":{\"outlinewidth\":0,\"ticks\":\"\"}},\"type\":\"parcoords\"}],\"pie\":[{\"automargin\":true,\"type\":\"pie\"}],\"scatter\":[{\"marker\":{\"colorbar\":{\"outlinewidth\":0,\"ticks\":\"\"}},\"type\":\"scatter\"}],\"scatter3d\":[{\"line\":{\"colorbar\":{\"outlinewidth\":0,\"ticks\":\"\"}},\"marker\":{\"colorbar\":{\"outlinewidth\":0,\"ticks\":\"\"}},\"type\":\"scatter3d\"}],\"scattercarpet\":[{\"marker\":{\"colorbar\":{\"outlinewidth\":0,\"ticks\":\"\"}},\"type\":\"scattercarpet\"}],\"scattergeo\":[{\"marker\":{\"colorbar\":{\"outlinewidth\":0,\"ticks\":\"\"}},\"type\":\"scattergeo\"}],\"scattergl\":[{\"marker\":{\"colorbar\":{\"outlinewidth\":0,\"ticks\":\"\"}},\"type\":\"scattergl\"}],\"scattermapbox\":[{\"marker\":{\"colorbar\":{\"outlinewidth\":0,\"ticks\":\"\"}},\"type\":\"scattermapbox\"}],\"scatterpolar\":[{\"marker\":{\"colorbar\":{\"outlinewidth\":0,\"ticks\":\"\"}},\"type\":\"scatterpolar\"}],\"scatterpolargl\":[{\"marker\":{\"colorbar\":{\"outlinewidth\":0,\"ticks\":\"\"}},\"type\":\"scatterpolargl\"}],\"scatterternary\":[{\"marker\":{\"colorbar\":{\"outlinewidth\":0,\"ticks\":\"\"}},\"type\":\"scatterternary\"}],\"surface\":[{\"colorbar\":{\"outlinewidth\":0,\"ticks\":\"\"},\"colorscale\":[[0.0,\"#0d0887\"],[0.1111111111111111,\"#46039f\"],[0.2222222222222222,\"#7201a8\"],[0.3333333333333333,\"#9c179e\"],[0.4444444444444444,\"#bd3786\"],[0.5555555555555556,\"#d8576b\"],[0.6666666666666666,\"#ed7953\"],[0.7777777777777778,\"#fb9f3a\"],[0.8888888888888888,\"#fdca26\"],[1.0,\"#f0f921\"]],\"type\":\"surface\"}],\"table\":[{\"cells\":{\"fill\":{\"color\":\"#EBF0F8\"},\"line\":{\"color\":\"white\"}},\"header\":{\"fill\":{\"color\":\"#C8D4E3\"},\"line\":{\"color\":\"white\"}},\"type\":\"table\"}]},\"layout\":{\"annotationdefaults\":{\"arrowcolor\":\"#2a3f5f\",\"arrowhead\":0,\"arrowwidth\":1},\"autotypenumbers\":\"strict\",\"coloraxis\":{\"colorbar\":{\"outlinewidth\":0,\"ticks\":\"\"}},\"colorscale\":{\"diverging\":[[0,\"#8e0152\"],[0.1,\"#c51b7d\"],[0.2,\"#de77ae\"],[0.3,\"#f1b6da\"],[0.4,\"#fde0ef\"],[0.5,\"#f7f7f7\"],[0.6,\"#e6f5d0\"],[0.7,\"#b8e186\"],[0.8,\"#7fbc41\"],[0.9,\"#4d9221\"],[1,\"#276419\"]],\"sequential\":[[0.0,\"#0d0887\"],[0.1111111111111111,\"#46039f\"],[0.2222222222222222,\"#7201a8\"],[0.3333333333333333,\"#9c179e\"],[0.4444444444444444,\"#bd3786\"],[0.5555555555555556,\"#d8576b\"],[0.6666666666666666,\"#ed7953\"],[0.7777777777777778,\"#fb9f3a\"],[0.8888888888888888,\"#fdca26\"],[1.0,\"#f0f921\"]],\"sequentialminus\":[[0.0,\"#0d0887\"],[0.1111111111111111,\"#46039f\"],[0.2222222222222222,\"#7201a8\"],[0.3333333333333333,\"#9c179e\"],[0.4444444444444444,\"#bd3786\"],[0.5555555555555556,\"#d8576b\"],[0.6666666666666666,\"#ed7953\"],[0.7777777777777778,\"#fb9f3a\"],[0.8888888888888888,\"#fdca26\"],[1.0,\"#f0f921\"]]},\"colorway\":[\"#636efa\",\"#EF553B\",\"#00cc96\",\"#ab63fa\",\"#FFA15A\",\"#19d3f3\",\"#FF6692\",\"#B6E880\",\"#FF97FF\",\"#FECB52\"],\"font\":{\"color\":\"#2a3f5f\"},\"geo\":{\"bgcolor\":\"white\",\"lakecolor\":\"white\",\"landcolor\":\"#E5ECF6\",\"showlakes\":true,\"showland\":true,\"subunitcolor\":\"white\"},\"hoverlabel\":{\"align\":\"left\"},\"hovermode\":\"closest\",\"mapbox\":{\"style\":\"light\"},\"paper_bgcolor\":\"white\",\"plot_bgcolor\":\"#E5ECF6\",\"polar\":{\"angularaxis\":{\"gridcolor\":\"white\",\"linecolor\":\"white\",\"ticks\":\"\"},\"bgcolor\":\"#E5ECF6\",\"radialaxis\":{\"gridcolor\":\"white\",\"linecolor\":\"white\",\"ticks\":\"\"}},\"scene\":{\"xaxis\":{\"backgroundcolor\":\"#E5ECF6\",\"gridcolor\":\"white\",\"gridwidth\":2,\"linecolor\":\"white\",\"showbackground\":true,\"ticks\":\"\",\"zerolinecolor\":\"white\"},\"yaxis\":{\"backgroundcolor\":\"#E5ECF6\",\"gridcolor\":\"white\",\"gridwidth\":2,\"linecolor\":\"white\",\"showbackground\":true,\"ticks\":\"\",\"zerolinecolor\":\"white\"},\"zaxis\":{\"backgroundcolor\":\"#E5ECF6\",\"gridcolor\":\"white\",\"gridwidth\":2,\"linecolor\":\"white\",\"showbackground\":true,\"ticks\":\"\",\"zerolinecolor\":\"white\"}},\"shapedefaults\":{\"line\":{\"color\":\"#2a3f5f\"}},\"ternary\":{\"aaxis\":{\"gridcolor\":\"white\",\"linecolor\":\"white\",\"ticks\":\"\"},\"baxis\":{\"gridcolor\":\"white\",\"linecolor\":\"white\",\"ticks\":\"\"},\"bgcolor\":\"#E5ECF6\",\"caxis\":{\"gridcolor\":\"white\",\"linecolor\":\"white\",\"ticks\":\"\"}},\"title\":{\"x\":0.05},\"xaxis\":{\"automargin\":true,\"gridcolor\":\"white\",\"linecolor\":\"white\",\"ticks\":\"\",\"title\":{\"standoff\":15},\"zerolinecolor\":\"white\",\"zerolinewidth\":2},\"yaxis\":{\"automargin\":true,\"gridcolor\":\"white\",\"linecolor\":\"white\",\"ticks\":\"\",\"title\":{\"standoff\":15},\"zerolinecolor\":\"white\",\"zerolinewidth\":2}}},\"xaxis\":{\"anchor\":\"y\",\"domain\":[0.0,1.0],\"title\":{\"text\":\"NObeyesdad\"}},\"yaxis\":{\"anchor\":\"x\",\"domain\":[0.0,1.0],\"title\":{\"text\":\"counts\"}},\"legend\":{\"title\":{\"text\":\"MTRANS\"},\"tracegroupgap\":0},\"margin\":{\"t\":60},\"barmode\":\"relative\",\"height\":400},                        {\"responsive\": true}                    ).then(function(){\n",
       "                            \n",
       "var gd = document.getElementById('a7fc05fc-d92d-48e7-95c8-dd5924666c71');\n",
       "var x = new MutationObserver(function (mutations, observer) {{\n",
       "        var display = window.getComputedStyle(gd).display;\n",
       "        if (!display || display === 'none') {{\n",
       "            console.log([gd, 'removed!']);\n",
       "            Plotly.purge(gd);\n",
       "            observer.disconnect();\n",
       "        }}\n",
       "}});\n",
       "\n",
       "// Listen for the removal of the full notebook cells\n",
       "var notebookContainer = gd.closest('#notebook-container');\n",
       "if (notebookContainer) {{\n",
       "    x.observe(notebookContainer, {childList: true});\n",
       "}}\n",
       "\n",
       "// Listen for the clearing of the current output cell\n",
       "var outputEl = gd.closest('.output');\n",
       "if (outputEl) {{\n",
       "    x.observe(outputEl, {childList: true});\n",
       "}}\n",
       "\n",
       "                        })                };                });            </script>        </div>"
      ]
     },
     "metadata": {},
     "output_type": "display_data"
    }
   ],
   "source": [
    "fig = px.bar(MTRANS_split, x=\"NObeyesdad\", y=\"counts\",\n",
    "             color='MTRANS',\n",
    "             height=400)\n",
    "fig.show()"
   ]
  },
  {
   "cell_type": "code",
   "execution_count": 154,
   "id": "a296c9ab-8bbc-449d-a8b1-bbb64ac2b473",
   "metadata": {},
   "outputs": [
    {
     "data": {
      "text/html": [
       "<div>\n",
       "<style scoped>\n",
       "    .dataframe tbody tr th:only-of-type {\n",
       "        vertical-align: middle;\n",
       "    }\n",
       "\n",
       "    .dataframe tbody tr th {\n",
       "        vertical-align: top;\n",
       "    }\n",
       "\n",
       "    .dataframe thead th {\n",
       "        text-align: right;\n",
       "    }\n",
       "</style>\n",
       "<table border=\"1\" class=\"dataframe\">\n",
       "  <thead>\n",
       "    <tr style=\"text-align: right;\">\n",
       "      <th>MTRANS</th>\n",
       "      <th>Automobile</th>\n",
       "      <th>Bike</th>\n",
       "      <th>Motorbike</th>\n",
       "      <th>Public_Transportation</th>\n",
       "      <th>Walking</th>\n",
       "    </tr>\n",
       "    <tr>\n",
       "      <th>NObeyesdad</th>\n",
       "      <th></th>\n",
       "      <th></th>\n",
       "      <th></th>\n",
       "      <th></th>\n",
       "      <th></th>\n",
       "    </tr>\n",
       "  </thead>\n",
       "  <tbody>\n",
       "    <tr>\n",
       "      <th>Insufficient_Weight</th>\n",
       "      <td>46</td>\n",
       "      <td>0</td>\n",
       "      <td>0</td>\n",
       "      <td>220</td>\n",
       "      <td>6</td>\n",
       "    </tr>\n",
       "    <tr>\n",
       "      <th>Normal_Weight</th>\n",
       "      <td>45</td>\n",
       "      <td>4</td>\n",
       "      <td>6</td>\n",
       "      <td>200</td>\n",
       "      <td>32</td>\n",
       "    </tr>\n",
       "    <tr>\n",
       "      <th>Obesity_Type_I</th>\n",
       "      <td>110</td>\n",
       "      <td>0</td>\n",
       "      <td>3</td>\n",
       "      <td>236</td>\n",
       "      <td>2</td>\n",
       "    </tr>\n",
       "    <tr>\n",
       "      <th>Obesity_Type_II</th>\n",
       "      <td>95</td>\n",
       "      <td>1</td>\n",
       "      <td>0</td>\n",
       "      <td>200</td>\n",
       "      <td>1</td>\n",
       "    </tr>\n",
       "    <tr>\n",
       "      <th>Obesity_Type_III</th>\n",
       "      <td>1</td>\n",
       "      <td>0</td>\n",
       "      <td>0</td>\n",
       "      <td>323</td>\n",
       "      <td>0</td>\n",
       "    </tr>\n",
       "    <tr>\n",
       "      <th>Overweight_Level_I</th>\n",
       "      <td>66</td>\n",
       "      <td>2</td>\n",
       "      <td>1</td>\n",
       "      <td>212</td>\n",
       "      <td>9</td>\n",
       "    </tr>\n",
       "    <tr>\n",
       "      <th>Overweight_Level_II</th>\n",
       "      <td>94</td>\n",
       "      <td>0</td>\n",
       "      <td>1</td>\n",
       "      <td>189</td>\n",
       "      <td>6</td>\n",
       "    </tr>\n",
       "  </tbody>\n",
       "</table>\n",
       "</div>"
      ],
      "text/plain": [
       "MTRANS               Automobile  Bike  Motorbike  Public_Transportation  \\\n",
       "NObeyesdad                                                                \n",
       "Insufficient_Weight          46     0          0                    220   \n",
       "Normal_Weight                45     4          6                    200   \n",
       "Obesity_Type_I              110     0          3                    236   \n",
       "Obesity_Type_II              95     1          0                    200   \n",
       "Obesity_Type_III              1     0          0                    323   \n",
       "Overweight_Level_I           66     2          1                    212   \n",
       "Overweight_Level_II          94     0          1                    189   \n",
       "\n",
       "MTRANS               Walking  \n",
       "NObeyesdad                    \n",
       "Insufficient_Weight        6  \n",
       "Normal_Weight             32  \n",
       "Obesity_Type_I             2  \n",
       "Obesity_Type_II            1  \n",
       "Obesity_Type_III           0  \n",
       "Overweight_Level_I         9  \n",
       "Overweight_Level_II        6  "
      ]
     },
     "execution_count": 154,
     "metadata": {},
     "output_type": "execute_result"
    }
   ],
   "source": [
    "pd.crosstab(index=Obesity_data[\"NObeyesdad\"],columns=Obesity_data[\"MTRANS\"])"
   ]
  },
  {
   "cell_type": "markdown",
   "id": "1da3049d-9a5f-472d-9e64-1b10ddd0cf90",
   "metadata": {},
   "source": [
    "From both the bar chart above and the cross table we see that there seems to be some correlation between the way people move about and they weight. e.g. a lot of people who walk are in the normal weight category. A simple linear model could tell us the relationship better but all we know for now is that further analysis is needed."
   ]
  },
  {
   "cell_type": "code",
   "execution_count": null,
   "id": "9dbe85f0-e4ad-4da4-8a5c-70448fe69edf",
   "metadata": {},
   "outputs": [],
   "source": []
  },
  {
   "cell_type": "code",
   "execution_count": null,
   "id": "d9dd3a73-a7a8-4f35-b0c3-17dbf062f5fe",
   "metadata": {},
   "outputs": [],
   "source": []
  },
  {
   "cell_type": "code",
   "execution_count": null,
   "id": "4d5380d6-4e78-4ce1-809b-befc2017daab",
   "metadata": {},
   "outputs": [],
   "source": []
  },
  {
   "cell_type": "code",
   "execution_count": null,
   "id": "bc48f75f-8c6e-4d93-98c7-cfe92fec91a6",
   "metadata": {},
   "outputs": [],
   "source": []
  },
  {
   "cell_type": "code",
   "execution_count": null,
   "id": "57b26b92-d2c3-4b6d-bcfb-0a6b7c44d349",
   "metadata": {},
   "outputs": [],
   "source": []
  },
  {
   "cell_type": "code",
   "execution_count": null,
   "id": "43040199-5748-4420-b721-4b461220cf77",
   "metadata": {},
   "outputs": [],
   "source": []
  },
  {
   "cell_type": "code",
   "execution_count": 139,
   "id": "da44fdba-33a3-4174-b023-380dd5995ac5",
   "metadata": {},
   "outputs": [
    {
     "data": {
      "text/html": [
       "<div>\n",
       "<style scoped>\n",
       "    .dataframe tbody tr th:only-of-type {\n",
       "        vertical-align: middle;\n",
       "    }\n",
       "\n",
       "    .dataframe tbody tr th {\n",
       "        vertical-align: top;\n",
       "    }\n",
       "\n",
       "    .dataframe thead th {\n",
       "        text-align: right;\n",
       "    }\n",
       "</style>\n",
       "<table border=\"1\" class=\"dataframe\">\n",
       "  <thead>\n",
       "    <tr style=\"text-align: right;\">\n",
       "      <th></th>\n",
       "      <th>Gender</th>\n",
       "      <th>Age</th>\n",
       "      <th>Height</th>\n",
       "      <th>Weight</th>\n",
       "      <th>family_history_with_overweight</th>\n",
       "      <th>FAVC</th>\n",
       "      <th>FCVC</th>\n",
       "      <th>NCP</th>\n",
       "      <th>CAEC</th>\n",
       "      <th>SMOKE</th>\n",
       "      <th>CH2O</th>\n",
       "      <th>SCC</th>\n",
       "      <th>FAF</th>\n",
       "      <th>TUE</th>\n",
       "      <th>CALC</th>\n",
       "      <th>MTRANS</th>\n",
       "      <th>NObeyesdad</th>\n",
       "      <th>WeightCatNumeric</th>\n",
       "    </tr>\n",
       "  </thead>\n",
       "  <tbody>\n",
       "    <tr>\n",
       "      <th>0</th>\n",
       "      <td>Female</td>\n",
       "      <td>21.0</td>\n",
       "      <td>1.62</td>\n",
       "      <td>64.0</td>\n",
       "      <td>yes</td>\n",
       "      <td>no</td>\n",
       "      <td>2.0</td>\n",
       "      <td>3.0</td>\n",
       "      <td>Sometimes</td>\n",
       "      <td>no</td>\n",
       "      <td>2.0</td>\n",
       "      <td>no</td>\n",
       "      <td>0.0</td>\n",
       "      <td>1.0</td>\n",
       "      <td>no</td>\n",
       "      <td>Public_Transportation</td>\n",
       "      <td>Normal_Weight</td>\n",
       "      <td>0</td>\n",
       "    </tr>\n",
       "    <tr>\n",
       "      <th>1</th>\n",
       "      <td>Female</td>\n",
       "      <td>21.0</td>\n",
       "      <td>1.52</td>\n",
       "      <td>56.0</td>\n",
       "      <td>yes</td>\n",
       "      <td>no</td>\n",
       "      <td>3.0</td>\n",
       "      <td>3.0</td>\n",
       "      <td>Sometimes</td>\n",
       "      <td>yes</td>\n",
       "      <td>3.0</td>\n",
       "      <td>yes</td>\n",
       "      <td>3.0</td>\n",
       "      <td>0.0</td>\n",
       "      <td>Sometimes</td>\n",
       "      <td>Public_Transportation</td>\n",
       "      <td>Normal_Weight</td>\n",
       "      <td>0</td>\n",
       "    </tr>\n",
       "    <tr>\n",
       "      <th>2</th>\n",
       "      <td>Male</td>\n",
       "      <td>23.0</td>\n",
       "      <td>1.80</td>\n",
       "      <td>77.0</td>\n",
       "      <td>yes</td>\n",
       "      <td>no</td>\n",
       "      <td>2.0</td>\n",
       "      <td>3.0</td>\n",
       "      <td>Sometimes</td>\n",
       "      <td>no</td>\n",
       "      <td>2.0</td>\n",
       "      <td>no</td>\n",
       "      <td>2.0</td>\n",
       "      <td>1.0</td>\n",
       "      <td>Frequently</td>\n",
       "      <td>Public_Transportation</td>\n",
       "      <td>Normal_Weight</td>\n",
       "      <td>0</td>\n",
       "    </tr>\n",
       "    <tr>\n",
       "      <th>3</th>\n",
       "      <td>Male</td>\n",
       "      <td>27.0</td>\n",
       "      <td>1.80</td>\n",
       "      <td>87.0</td>\n",
       "      <td>no</td>\n",
       "      <td>no</td>\n",
       "      <td>3.0</td>\n",
       "      <td>3.0</td>\n",
       "      <td>Sometimes</td>\n",
       "      <td>no</td>\n",
       "      <td>2.0</td>\n",
       "      <td>no</td>\n",
       "      <td>2.0</td>\n",
       "      <td>0.0</td>\n",
       "      <td>Frequently</td>\n",
       "      <td>Walking</td>\n",
       "      <td>Overweight_Level_I</td>\n",
       "      <td>1</td>\n",
       "    </tr>\n",
       "    <tr>\n",
       "      <th>4</th>\n",
       "      <td>Male</td>\n",
       "      <td>22.0</td>\n",
       "      <td>1.78</td>\n",
       "      <td>89.8</td>\n",
       "      <td>no</td>\n",
       "      <td>no</td>\n",
       "      <td>2.0</td>\n",
       "      <td>1.0</td>\n",
       "      <td>Sometimes</td>\n",
       "      <td>no</td>\n",
       "      <td>2.0</td>\n",
       "      <td>no</td>\n",
       "      <td>0.0</td>\n",
       "      <td>0.0</td>\n",
       "      <td>Sometimes</td>\n",
       "      <td>Public_Transportation</td>\n",
       "      <td>Overweight_Level_II</td>\n",
       "      <td>2</td>\n",
       "    </tr>\n",
       "  </tbody>\n",
       "</table>\n",
       "</div>"
      ],
      "text/plain": [
       "   Gender   Age  Height  Weight family_history_with_overweight FAVC  FCVC  \\\n",
       "0  Female  21.0    1.62    64.0                            yes   no   2.0   \n",
       "1  Female  21.0    1.52    56.0                            yes   no   3.0   \n",
       "2    Male  23.0    1.80    77.0                            yes   no   2.0   \n",
       "3    Male  27.0    1.80    87.0                             no   no   3.0   \n",
       "4    Male  22.0    1.78    89.8                             no   no   2.0   \n",
       "\n",
       "   NCP       CAEC SMOKE  CH2O  SCC  FAF  TUE        CALC  \\\n",
       "0  3.0  Sometimes    no   2.0   no  0.0  1.0          no   \n",
       "1  3.0  Sometimes   yes   3.0  yes  3.0  0.0   Sometimes   \n",
       "2  3.0  Sometimes    no   2.0   no  2.0  1.0  Frequently   \n",
       "3  3.0  Sometimes    no   2.0   no  2.0  0.0  Frequently   \n",
       "4  1.0  Sometimes    no   2.0   no  0.0  0.0   Sometimes   \n",
       "\n",
       "                  MTRANS           NObeyesdad  WeightCatNumeric  \n",
       "0  Public_Transportation        Normal_Weight                 0  \n",
       "1  Public_Transportation        Normal_Weight                 0  \n",
       "2  Public_Transportation        Normal_Weight                 0  \n",
       "3                Walking   Overweight_Level_I                 1  \n",
       "4  Public_Transportation  Overweight_Level_II                 2  "
      ]
     },
     "execution_count": 139,
     "metadata": {},
     "output_type": "execute_result"
    }
   ],
   "source": [
    "codes, uniques  = Obesity_data.NObeyesdad.factorize()\n",
    "Obesity_data['WeightCatNumeric'] = codes\n",
    "Obesity_data.head()"
   ]
  },
  {
   "cell_type": "code",
   "execution_count": 141,
   "id": "71746c89-b638-4138-ad4a-2b2b0ef188ff",
   "metadata": {},
   "outputs": [
    {
     "data": {
      "text/html": [
       "<div>\n",
       "<style scoped>\n",
       "    .dataframe tbody tr th:only-of-type {\n",
       "        vertical-align: middle;\n",
       "    }\n",
       "\n",
       "    .dataframe tbody tr th {\n",
       "        vertical-align: top;\n",
       "    }\n",
       "\n",
       "    .dataframe thead th {\n",
       "        text-align: right;\n",
       "    }\n",
       "</style>\n",
       "<table border=\"1\" class=\"dataframe\">\n",
       "  <thead>\n",
       "    <tr style=\"text-align: right;\">\n",
       "      <th></th>\n",
       "      <th>Age</th>\n",
       "      <th>Height</th>\n",
       "      <th>Weight</th>\n",
       "      <th>FCVC</th>\n",
       "      <th>NCP</th>\n",
       "      <th>CH2O</th>\n",
       "      <th>FAF</th>\n",
       "      <th>TUE</th>\n",
       "      <th>WeightCatNumeric</th>\n",
       "    </tr>\n",
       "  </thead>\n",
       "  <tbody>\n",
       "    <tr>\n",
       "      <th>Age</th>\n",
       "      <td>1.000000</td>\n",
       "      <td>-0.025958</td>\n",
       "      <td>0.202560</td>\n",
       "      <td>0.016291</td>\n",
       "      <td>-0.043944</td>\n",
       "      <td>-0.045304</td>\n",
       "      <td>-0.144938</td>\n",
       "      <td>-0.296931</td>\n",
       "      <td>0.084565</td>\n",
       "    </tr>\n",
       "    <tr>\n",
       "      <th>Height</th>\n",
       "      <td>-0.025958</td>\n",
       "      <td>1.000000</td>\n",
       "      <td>0.463136</td>\n",
       "      <td>-0.038121</td>\n",
       "      <td>0.243672</td>\n",
       "      <td>0.213376</td>\n",
       "      <td>0.294709</td>\n",
       "      <td>0.051912</td>\n",
       "      <td>0.137662</td>\n",
       "    </tr>\n",
       "    <tr>\n",
       "      <th>Weight</th>\n",
       "      <td>0.202560</td>\n",
       "      <td>0.463136</td>\n",
       "      <td>1.000000</td>\n",
       "      <td>0.216125</td>\n",
       "      <td>0.107469</td>\n",
       "      <td>0.200575</td>\n",
       "      <td>-0.051436</td>\n",
       "      <td>-0.071561</td>\n",
       "      <td>0.634348</td>\n",
       "    </tr>\n",
       "    <tr>\n",
       "      <th>FCVC</th>\n",
       "      <td>0.016291</td>\n",
       "      <td>-0.038121</td>\n",
       "      <td>0.216125</td>\n",
       "      <td>1.000000</td>\n",
       "      <td>0.042216</td>\n",
       "      <td>0.068461</td>\n",
       "      <td>0.019939</td>\n",
       "      <td>-0.101135</td>\n",
       "      <td>0.343951</td>\n",
       "    </tr>\n",
       "    <tr>\n",
       "      <th>NCP</th>\n",
       "      <td>-0.043944</td>\n",
       "      <td>0.243672</td>\n",
       "      <td>0.107469</td>\n",
       "      <td>0.042216</td>\n",
       "      <td>1.000000</td>\n",
       "      <td>0.057088</td>\n",
       "      <td>0.129504</td>\n",
       "      <td>0.036326</td>\n",
       "      <td>0.157947</td>\n",
       "    </tr>\n",
       "    <tr>\n",
       "      <th>CH2O</th>\n",
       "      <td>-0.045304</td>\n",
       "      <td>0.213376</td>\n",
       "      <td>0.200575</td>\n",
       "      <td>0.068461</td>\n",
       "      <td>0.057088</td>\n",
       "      <td>1.000000</td>\n",
       "      <td>0.167236</td>\n",
       "      <td>0.011965</td>\n",
       "      <td>0.070423</td>\n",
       "    </tr>\n",
       "    <tr>\n",
       "      <th>FAF</th>\n",
       "      <td>-0.144938</td>\n",
       "      <td>0.294709</td>\n",
       "      <td>-0.051436</td>\n",
       "      <td>0.019939</td>\n",
       "      <td>0.129504</td>\n",
       "      <td>0.167236</td>\n",
       "      <td>1.000000</td>\n",
       "      <td>0.058562</td>\n",
       "      <td>-0.142211</td>\n",
       "    </tr>\n",
       "    <tr>\n",
       "      <th>TUE</th>\n",
       "      <td>-0.296931</td>\n",
       "      <td>0.051912</td>\n",
       "      <td>-0.071561</td>\n",
       "      <td>-0.101135</td>\n",
       "      <td>0.036326</td>\n",
       "      <td>0.011965</td>\n",
       "      <td>0.058562</td>\n",
       "      <td>1.000000</td>\n",
       "      <td>-0.034355</td>\n",
       "    </tr>\n",
       "    <tr>\n",
       "      <th>WeightCatNumeric</th>\n",
       "      <td>0.084565</td>\n",
       "      <td>0.137662</td>\n",
       "      <td>0.634348</td>\n",
       "      <td>0.343951</td>\n",
       "      <td>0.157947</td>\n",
       "      <td>0.070423</td>\n",
       "      <td>-0.142211</td>\n",
       "      <td>-0.034355</td>\n",
       "      <td>1.000000</td>\n",
       "    </tr>\n",
       "  </tbody>\n",
       "</table>\n",
       "</div>"
      ],
      "text/plain": [
       "                       Age    Height    Weight      FCVC       NCP      CH2O  \\\n",
       "Age               1.000000 -0.025958  0.202560  0.016291 -0.043944 -0.045304   \n",
       "Height           -0.025958  1.000000  0.463136 -0.038121  0.243672  0.213376   \n",
       "Weight            0.202560  0.463136  1.000000  0.216125  0.107469  0.200575   \n",
       "FCVC              0.016291 -0.038121  0.216125  1.000000  0.042216  0.068461   \n",
       "NCP              -0.043944  0.243672  0.107469  0.042216  1.000000  0.057088   \n",
       "CH2O             -0.045304  0.213376  0.200575  0.068461  0.057088  1.000000   \n",
       "FAF              -0.144938  0.294709 -0.051436  0.019939  0.129504  0.167236   \n",
       "TUE              -0.296931  0.051912 -0.071561 -0.101135  0.036326  0.011965   \n",
       "WeightCatNumeric  0.084565  0.137662  0.634348  0.343951  0.157947  0.070423   \n",
       "\n",
       "                       FAF       TUE  WeightCatNumeric  \n",
       "Age              -0.144938 -0.296931          0.084565  \n",
       "Height            0.294709  0.051912          0.137662  \n",
       "Weight           -0.051436 -0.071561          0.634348  \n",
       "FCVC              0.019939 -0.101135          0.343951  \n",
       "NCP               0.129504  0.036326          0.157947  \n",
       "CH2O              0.167236  0.011965          0.070423  \n",
       "FAF               1.000000  0.058562         -0.142211  \n",
       "TUE               0.058562  1.000000         -0.034355  \n",
       "WeightCatNumeric -0.142211 -0.034355          1.000000  "
      ]
     },
     "execution_count": 141,
     "metadata": {},
     "output_type": "execute_result"
    }
   ],
   "source": [
    "Obesity_data.corr()"
   ]
  },
  {
   "cell_type": "markdown",
   "id": "d70ae37a-4c16-4293-8496-a3ea33cf5f15",
   "metadata": {},
   "source": [
    "### Modeling\n",
    "\n",
    "Next, you should fit three different classes of models (they can be the ones we did in class or you can branch out). You can have a numeric response or a binary response. \n",
    "\n",
    "With each model type you use, you should describe the general idea of the model/how it works. These discussion don’t need to be super long, but they should be clear and hit on the most important points about how the model works.\n",
    "\n",
    "You should use CV to choose among the candidate models for each model type.\n",
    "\n",
    "  • You should set up a pipeline in pyspark for each of your models  \n",
    "  \n",
    "  • At least one of the pipelines should include at least two transformations prior to the model fit (estimator)  \n",
    "  \n",
    "  • You can use the same set of transformations for multiple models (if appropriate)"
   ]
  },
  {
   "cell_type": "code",
   "execution_count": null,
   "id": "f4625cbe-273f-4e15-bcf1-6b3d9f8bc570",
   "metadata": {},
   "outputs": [],
   "source": []
  },
  {
   "cell_type": "code",
   "execution_count": null,
   "id": "8a81cd71-21d7-4fc6-81f1-f9aa19de68d0",
   "metadata": {},
   "outputs": [],
   "source": []
  },
  {
   "cell_type": "code",
   "execution_count": null,
   "id": "c4343ab0-91c4-4d4e-b58e-4a7f37692001",
   "metadata": {},
   "outputs": [],
   "source": []
  }
 ],
 "metadata": {
  "kernelspec": {
   "display_name": "Python 3 (ipykernel)",
   "language": "python",
   "name": "python3"
  },
  "language_info": {
   "codemirror_mode": {
    "name": "ipython",
    "version": 3
   },
   "file_extension": ".py",
   "mimetype": "text/x-python",
   "name": "python",
   "nbconvert_exporter": "python",
   "pygments_lexer": "ipython3",
   "version": "3.9.7"
  }
 },
 "nbformat": 4,
 "nbformat_minor": 5
}
